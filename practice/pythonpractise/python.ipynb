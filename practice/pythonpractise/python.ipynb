{
 "cells": [
  {
   "cell_type": "markdown",
   "metadata": {},
   "source": [
    "write a program which are divisible by 7 but not a multiple of 5 between 2000 and 3200(both included).The numbers obtained should be printed in a comma-separated sequence on a single line."
   ]
  },
  {
   "cell_type": "code",
   "execution_count": 3,
   "metadata": {
    "scrolled": true
   },
   "outputs": [
    {
     "name": "stdout",
     "output_type": "stream",
     "text": [
      "[2002, 2009, 2016, 2023, 2037, 2044, 2051, 2058, 2072, 2079, 2086, 2093, 2107, 2114, 2121, 2128, 2142, 2149, 2156, 2163, 2177, 2184, 2191, 2198, 2212, 2219, 2226, 2233, 2247, 2254, 2261, 2268, 2282, 2289, 2296, 2303, 2317, 2324, 2331, 2338, 2352, 2359, 2366, 2373, 2387, 2394, 2401, 2408, 2422, 2429, 2436, 2443, 2457, 2464, 2471, 2478, 2492, 2499, 2506, 2513, 2527, 2534, 2541, 2548, 2562, 2569, 2576, 2583, 2597, 2604, 2611, 2618, 2632, 2639, 2646, 2653, 2667, 2674, 2681, 2688, 2702, 2709, 2716, 2723, 2737, 2744, 2751, 2758, 2772, 2779, 2786, 2793, 2807, 2814, 2821, 2828, 2842, 2849, 2856, 2863, 2877, 2884, 2891, 2898, 2912, 2919, 2926, 2933, 2947, 2954, 2961, 2968, 2982, 2989, 2996, 3003, 3017, 3024, 3031, 3038, 3052, 3059, 3066, 3073, 3087, 3094, 3101, 3108, 3122, 3129, 3136, 3143, 3157, 3164, 3171, 3178, 3192, 3199]\n"
     ]
    }
   ],
   "source": [
    "print([i for i in range(2000,3201) if i%7==0 and i%5!=0],sep=\",\")"
   ]
  },
  {
   "cell_type": "markdown",
   "metadata": {},
   "source": [
    "factorial of a number\n"
   ]
  },
  {
   "cell_type": "code",
   "execution_count": 2,
   "metadata": {},
   "outputs": [
    {
     "name": "stdout",
     "output_type": "stream",
     "text": [
      "8\n",
      "40320\n"
     ]
    }
   ],
   "source": [
    "n=int(input())\n",
    "fact=1\n",
    "i=1\n",
    "while i<=n:\n",
    "    fact*=i\n",
    "    i+=1\n",
    "print(fact)"
   ]
  },
  {
   "cell_type": "markdown",
   "metadata": {},
   "source": [
    "generate a dictionary thst contains (i,i*i) between 1 nd n(both included)"
   ]
  },
  {
   "cell_type": "code",
   "execution_count": 3,
   "metadata": {},
   "outputs": [
    {
     "name": "stdout",
     "output_type": "stream",
     "text": [
      "8\n",
      "{1: 1, 2: 4, 3: 9, 4: 16, 5: 25, 6: 36, 7: 49, 8: 64}\n"
     ]
    }
   ],
   "source": [
    "n=int(input())\n",
    "di={i:i*i for i in range(1,n+1)}\n",
    "print(di)"
   ]
  },
  {
   "cell_type": "markdown",
   "metadata": {},
   "source": [
    "program which accepts a sequence of comma-separated numbers from console and generate list and tuple"
   ]
  },
  {
   "cell_type": "code",
   "execution_count": 5,
   "metadata": {},
   "outputs": [
    {
     "name": "stdout",
     "output_type": "stream",
     "text": [
      "34,89,87,65\n",
      "['34', '89', '87', '65']\n",
      "('34', '89', '87', '65')\n"
     ]
    }
   ],
   "source": [
    "lst=input().split(\",\")\n",
    "tup=tuple(lst)\n",
    "print(lst)\n",
    "print(tup)"
   ]
  },
  {
   "cell_type": "markdown",
   "metadata": {},
   "source": [
    "define a class which has at least two methods:\n",
    "    getstring and printstring"
   ]
  },
  {
   "cell_type": "code",
   "execution_count": 8,
   "metadata": {},
   "outputs": [
    {
     "name": "stdout",
     "output_type": "stream",
     "text": [
      "asd\n",
      "ASD\n"
     ]
    }
   ],
   "source": [
    "class IOstring:\n",
    "    def __init__(self):\n",
    "        pass\n",
    "    def get_string(self):\n",
    "        self.s=input()\n",
    "    def print_string(self):\n",
    "        print(self.s.upper())\n",
    "x=IOstring()\n",
    "x.get_string()\n",
    "x.print_string()"
   ]
  },
  {
   "cell_type": "markdown",
   "metadata": {},
   "source": [
    "program to cal and print value acc to q=square root of[2*c*d/h] where c=50 and h=30.d value input in comma-separated.if output in decimal it gets round off.\n"
   ]
  },
  {
   "cell_type": "code",
   "execution_count": 12,
   "metadata": {},
   "outputs": [
    {
     "name": "stdout",
     "output_type": "stream",
     "text": [
      "100,150,180\n",
      "18,22,24\n"
     ]
    }
   ],
   "source": [
    "from math import sqrt\n",
    "c=50\n",
    "h=30\n",
    "def cal(d):\n",
    "    return sqrt((2*c*d)/h)\n",
    "print(\",\".join([str(int(cal(int(i)))) for i in input().split(\",\")]))"
   ]
  },
  {
   "cell_type": "markdown",
   "metadata": {},
   "source": [
    "program which takes 2 ditits x,y as input and generate 2-dimensional array.elment values in the ith row and j th column of the array should be i*j"
   ]
  },
  {
   "cell_type": "code",
   "execution_count": 14,
   "metadata": {},
   "outputs": [
    {
     "name": "stdout",
     "output_type": "stream",
     "text": [
      "3,5\n",
      "[[0, 0, 0, 0, 0], [0, 1, 2, 3, 4], [0, 2, 4, 6, 8]]\n"
     ]
    }
   ],
   "source": [
    "x,y=map(int,input().split(\",\"))\n",
    "lst=[[i*j for j in range(y)]for i in range(x)]\n",
    "print(lst)"
   ]
  },
  {
   "cell_type": "markdown",
   "metadata": {},
   "source": [
    "program that accepts a comma separated seuence of words in a comma-separated sequence after sorting them alphabetically"
   ]
  },
  {
   "cell_type": "code",
   "execution_count": 16,
   "metadata": {},
   "outputs": [
    {
     "name": "stdout",
     "output_type": "stream",
     "text": [
      "without,hello,bag,world\n",
      "bag,hello,without,world\n"
     ]
    }
   ],
   "source": [
    "n=input().split(\",\")\n",
    "n.sort()\n",
    "print(\",\".join(n))"
   ]
  },
  {
   "cell_type": "code",
   "execution_count": 20,
   "metadata": {},
   "outputs": [
    {
     "name": "stdout",
     "output_type": "stream",
     "text": [
      "ankita kamthe\n",
      "ANKITA KAMTHE\n"
     ]
    }
   ],
   "source": [
    "n=input()\n",
    "print(n.upper())"
   ]
  },
  {
   "cell_type": "markdown",
   "metadata": {},
   "source": [
    "acepts sequence of whitespace separated words as input and prints the words after removing all duplicate words and sorting them alphanumerically"
   ]
  },
  {
   "cell_type": "code",
   "execution_count": 28,
   "metadata": {},
   "outputs": [
    {
     "name": "stdout",
     "output_type": "stream",
     "text": [
      "hello worls and\n",
      "and,hello,worls\n"
     ]
    }
   ],
   "source": [
    "word=sorted(list(set(input().split())))\n",
    "print(\",\".join(word))"
   ]
  },
  {
   "cell_type": "markdown",
   "metadata": {},
   "source": [
    "program which such numbers between 1000 and 3000 such that eah digit of the number is an even number"
   ]
  },
  {
   "cell_type": "code",
   "execution_count": 30,
   "metadata": {},
   "outputs": [
    {
     "name": "stdout",
     "output_type": "stream",
     "text": [
      "2000,2002,2004,2006,2008,2020,2022,2024,2026,2028,2040,2042,2044,2046,2048,2060,2062,2064,2066,2068,2080,2082,2084,2086,2088,2200,2202,2204,2206,2208,2220,2222,2224,2226,2228,2240,2242,2244,2246,2248,2260,2262,2264,2266,2268,2280,2282,2284,2286,2288,2400,2402,2404,2406,2408,2420,2422,2424,2426,2428,2440,2442,2444,2446,2448,2460,2462,2464,2466,2468,2480,2482,2484,2486,2488,2600,2602,2604,2606,2608,2620,2622,2624,2626,2628,2640,2642,2644,2646,2648,2660,2662,2664,2666,2668,2680,2682,2684,2686,2688,2800,2802,2804,2806,2808,2820,2822,2824,2826,2828,2840,2842,2844,2846,2848,2860,2862,2864,2866,2868,2880,2882,2884,2886,2888\n"
     ]
    }
   ],
   "source": [
    "lst=[str(i) for i in range(1000,3001)]\n",
    "lst=list(filter(lambda i: all(ord(j) % 2 ==0 for j in i),lst))\n",
    "print(\",\".join(lst))"
   ]
  },
  {
   "cell_type": "markdown",
   "metadata": {},
   "source": [
    "calculate number of letters and digits"
   ]
  },
  {
   "cell_type": "code",
   "execution_count": 31,
   "metadata": {},
   "outputs": [
    {
     "name": "stdout",
     "output_type": "stream",
     "text": [
      "hello world! 123\n",
      "10\n",
      "3\n"
     ]
    }
   ],
   "source": [
    "str=input()\n",
    "digit=0\n",
    "letter=0\n",
    "for i in str:\n",
    "    if i.isdigit():\n",
    "        digit+=1\n",
    "        \n",
    "    elif i.isalpha():\n",
    "        letter+=1\n",
    "    else:\n",
    "        pass\n",
    "    \n",
    "print(letter)\n",
    "print(digit)\n",
    "        "
   ]
  },
  {
   "cell_type": "markdown",
   "metadata": {},
   "source": [
    "cl no. of upper case and lower case"
   ]
  },
  {
   "cell_type": "code",
   "execution_count": 33,
   "metadata": {},
   "outputs": [
    {
     "name": "stdout",
     "output_type": "stream",
     "text": [
      "Hello World!\n",
      "2\n",
      "8\n"
     ]
    }
   ],
   "source": [
    "str=input()\n",
    "u=0\n",
    "l=0\n",
    "for i in str:\n",
    "    if i.isupper():\n",
    "        u+=1\n",
    "    elif i.islower():\n",
    "        l+=1\n",
    "    else:\n",
    "        pass\n",
    "print(u)\n",
    "print(l)\n",
    "        "
   ]
  },
  {
   "cell_type": "markdown",
   "metadata": {},
   "source": [
    "use list comprehension to square each odd number in a list.The list is input by a sequence of comma-separated numbers."
   ]
  },
  {
   "cell_type": "code",
   "execution_count": 3,
   "metadata": {},
   "outputs": [
    {
     "name": "stdout",
     "output_type": "stream",
     "text": [
      "3,6,1,9,8\n",
      "9,1,81\n"
     ]
    }
   ],
   "source": [
    "lst=input().split(\",\")\n",
    "seq=[]\n",
    "lst=[int(i) for i in lst]\n",
    "for i in lst:\n",
    "    if i%2!=0:\n",
    "        i*=i\n",
    "        seq.append(i)\n",
    "        \n",
    "seq=[str(i) for i in seq]\n",
    "print(\",\".join(seq))"
   ]
  },
  {
   "cell_type": "markdown",
   "metadata": {},
   "source": [
    "program that computes the net amount of a bank account based a transaction log from console input."
   ]
  },
  {
   "cell_type": "code",
   "execution_count": 4,
   "metadata": {},
   "outputs": [
    {
     "name": "stdout",
     "output_type": "stream",
     "text": [
      "D 300\n",
      "D 300\n",
      "W 200\n",
      "D 100\n",
      "\n",
      "500\n"
     ]
    }
   ],
   "source": [
    "total=0\n",
    "while True:\n",
    "    s=input().split()\n",
    "    if not s:\n",
    "        break\n",
    "    cm,num=map(str,s)\n",
    "    if cm==\"D\":\n",
    "        total+=int(num)\n",
    "    if cm==\"W\":\n",
    "        total-=int(num)\n",
    "print(total)\n",
    "    "
   ]
  },
  {
   "cell_type": "markdown",
   "metadata": {},
   "source": [
    "PROGRAM to check the validity of password input by users."
   ]
  },
  {
   "cell_type": "code",
   "execution_count": 10,
   "metadata": {},
   "outputs": [
    {
     "name": "stdout",
     "output_type": "stream",
     "text": [
      "Ankita@123,awdf,adfr\n",
      "\n"
     ]
    }
   ],
   "source": [
    "def check(x):\n",
    "    cnt = 6<=len(x) and len(x)<=12\n",
    "    for i in x:\n",
    "        if i.isupper():\n",
    "            cnt+=1\n",
    "            break\n",
    "        if i.islower():\n",
    "            cnt+=1\n",
    "            break\n",
    "        if i.isnumeric():\n",
    "            cnt+=1\n",
    "            break\n",
    "        if i==\"@\" or i==\"#\" or i==\"$\":\n",
    "                cnt+=1\n",
    "                break\n",
    "        return(cnt==5)\n",
    "s=input().split(\",\")\n",
    "lst=filter(check, s)\n",
    "print(\",\".join(lst))\n",
    "        "
   ]
  },
  {
   "cell_type": "code",
   "execution_count": 1,
   "metadata": {},
   "outputs": [
    {
     "name": "stdout",
     "output_type": "stream",
     "text": [
      "Requirement already satisfied: pillow in c:\\programdata\\anaconda3\\lib\\site-packages (8.0.1)Note: you may need to restart the kernel to use updated packages.\n",
      "\n"
     ]
    }
   ],
   "source": [
    "pip install pillow"
   ]
  },
  {
   "cell_type": "markdown",
   "metadata": {},
   "source": [
    "you are required to write a program to sort the (name,age,score) tuples by ascending order where name is string, age and score are numbers.The tuple are input by console.The sort criteria is:sort by name,age and score"
   ]
  },
  {
   "cell_type": "code",
   "execution_count": 2,
   "metadata": {},
   "outputs": [
    {
     "name": "stdout",
     "output_type": "stream",
     "text": [
      "tom,19,80\n",
      "john,20,90\n",
      "jony,17,93\n",
      "jony,17,86\n",
      "\n",
      "[('john', '20', '90'), ('jony', '17', '86'), ('jony', '17', '93'), ('tom', '19', '80')]\n"
     ]
    }
   ],
   "source": [
    "lst=[]\n",
    "while True:\n",
    "    s=input().split(\",\")\n",
    "    if not s[0]:\n",
    "        break\n",
    "        \n",
    "    lst.append(tuple(s))\n",
    "        \n",
    "lst.sort(\n",
    "    key=lambda x:(x[0],x[1],x[2])\n",
    ")\n",
    "\n",
    "print(lst)"
   ]
  },
  {
   "cell_type": "markdown",
   "metadata": {},
   "source": [
    "Define a class with a generator whhich can iterate the numbers,which are divisible by 7,between a given range 0 and n."
   ]
  },
  {
   "cell_type": "code",
   "execution_count": 5,
   "metadata": {},
   "outputs": [
    {
     "name": "stdout",
     "output_type": "stream",
     "text": [
      "please enter a number:20\n",
      "0\n",
      "7\n",
      "14\n"
     ]
    }
   ],
   "source": [
    "class mygen:\n",
    "    def by_seven(self,n):\n",
    "        for i in range(0,int(n/7)+1):\n",
    "            yield i*7\n",
    "            \n",
    "for i in mygen().by_seven(int(input(\"please enter a number:\"))):\n",
    "    print(i)"
   ]
  },
  {
   "cell_type": "markdown",
   "metadata": {},
   "source": [
    "write a program to compute the euclidean distance from current position after a sequrnce of movement and original point.If the distance is a float,then just print the nearest integer."
   ]
  },
  {
   "cell_type": "code",
   "execution_count": 6,
   "metadata": {},
   "outputs": [
    {
     "name": "stdout",
     "output_type": "stream",
     "text": [
      "up 5\n",
      "down 3\n",
      "left 3\n",
      "right 2\n",
      "\n",
      "3\n"
     ]
    }
   ],
   "source": [
    "import math\n",
    "x,y=0,0\n",
    "while True:\n",
    "    s=input().split()\n",
    "    if not s:\n",
    "        break\n",
    "    if s[0]==\"up\":\n",
    "        x-=int(s[1])\n",
    "    if s[0]==\"down\":\n",
    "        x+=int(s[1])\n",
    "    if s[0]==\"left\":\n",
    "        x-=int(s[1])\n",
    "    if s[0]==\"right\":\n",
    "        x+=int(s[1])\n",
    "dist=round(math.sqrt(x**2+y**2))\n",
    "print(dist)"
   ]
  },
  {
   "cell_type": "markdown",
   "metadata": {},
   "source": [
    "write a program to compute the frequency of the words from the input.the outpuut should after sorting the key alphanumerically."
   ]
  },
  {
   "cell_type": "code",
   "execution_count": 7,
   "metadata": {},
   "outputs": [
    {
     "name": "stdout",
     "output_type": "stream",
     "text": [
      "new to python or choosing between python 2 and python 3\n",
      "2:1\n",
      "3:1\n",
      "and:1\n",
      "between:1\n",
      "choosing:1\n",
      "new:1\n",
      "or:1\n",
      "python:3\n",
      "to:1\n"
     ]
    }
   ],
   "source": [
    "s=input().split()\n",
    "word=sorted(set(s))\n",
    "for i in word:\n",
    "    print(\"{0}:{1}\".format(i,s.count(i)))"
   ]
  },
  {
   "cell_type": "markdown",
   "metadata": {},
   "source": [
    "write a method which can calculate square value of number."
   ]
  },
  {
   "cell_type": "code",
   "execution_count": 8,
   "metadata": {},
   "outputs": [
    {
     "name": "stdout",
     "output_type": "stream",
     "text": [
      "7\n",
      "49\n"
     ]
    }
   ],
   "source": [
    "n=int(input())\n",
    "print(n**2)"
   ]
  },
  {
   "cell_type": "markdown",
   "metadata": {},
   "source": [
    "define a class which have a class parameter and have a same instance parameter."
   ]
  },
  {
   "cell_type": "code",
   "execution_count": null,
   "metadata": {},
   "outputs": [],
   "source": [
    "class car:\n",
    "    name=\"car\"\n",
    "    def __"
   ]
  }
 ],
 "metadata": {
  "kernelspec": {
   "display_name": "Python 3",
   "language": "python",
   "name": "python3"
  },
  "language_info": {
   "codemirror_mode": {
    "name": "ipython",
    "version": 3
   },
   "file_extension": ".py",
   "mimetype": "text/x-python",
   "name": "python",
   "nbconvert_exporter": "python",
   "pygments_lexer": "ipython3",
   "version": "3.8.5"
  }
 },
 "nbformat": 4,
 "nbformat_minor": 4
}
