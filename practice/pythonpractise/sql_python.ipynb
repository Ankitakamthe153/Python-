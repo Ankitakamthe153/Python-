{
 "cells": [
  {
   "cell_type": "code",
   "execution_count": 3,
   "metadata": {},
   "outputs": [
    {
     "ename": "ModuleNotFoundError",
     "evalue": "No module named 'mysql'",
     "output_type": "error",
     "traceback": [
      "\u001b[1;31m---------------------------------------------------------------------------\u001b[0m",
      "\u001b[1;31mModuleNotFoundError\u001b[0m                       Traceback (most recent call last)",
      "\u001b[1;32m<ipython-input-3-7e0b4276efbd>\u001b[0m in \u001b[0;36m<module>\u001b[1;34m\u001b[0m\n\u001b[1;32m----> 1\u001b[1;33m \u001b[1;32mimport\u001b[0m \u001b[0mmysql\u001b[0m\u001b[1;33m.\u001b[0m\u001b[0mconnector\u001b[0m\u001b[1;33m\u001b[0m\u001b[1;33m\u001b[0m\u001b[0m\n\u001b[0m\u001b[0;32m      2\u001b[0m \u001b[1;32mfrom\u001b[0m \u001b[0mmysql\u001b[0m\u001b[1;33m.\u001b[0m\u001b[0mconnector\u001b[0m \u001b[1;32mimport\u001b[0m \u001b[0mError\u001b[0m\u001b[1;33m\u001b[0m\u001b[1;33m\u001b[0m\u001b[0m\n\u001b[0;32m      3\u001b[0m \u001b[1;32mimport\u001b[0m \u001b[0mpandas\u001b[0m \u001b[1;32mas\u001b[0m \u001b[0mpd\u001b[0m\u001b[1;33m\u001b[0m\u001b[1;33m\u001b[0m\u001b[0m\n",
      "\u001b[1;31mModuleNotFoundError\u001b[0m: No module named 'mysql'"
     ]
    }
   ],
   "source": [
    "import mysql.connector\n",
    "from mysql.connector import Error\n",
    "import pandas as pd"
   ]
  },
  {
   "cell_type": "code",
   "execution_count": null,
   "metadata": {},
   "outputs": [],
   "source": [
    "def create_server_connection(host_name,user_name,user_password):\n",
    "    connection=None\n",
    "    try:\n",
    "        connnection = mysql.connector.connect{\n",
    "            host=host_name;\n",
    "            user=user_name;\n",
    "            passwd=user_password\n",
    "        }\n",
    "        \n",
    "        print(\"mysql database connectiom succesful\")\n",
    "        except Error as err:\n",
    "            print(f\"Error: '{err}'\")\n",
    "            return connection\n",
    "        \n",
    "pw=\"Ankita24@\"\n",
    "        \n",
    "#database name\n",
    "db=\"mysql_python\"\n",
    "connection=create_server_connection(\"localhost\",\"root\",pw)"
   ]
  },
  {
   "cell_type": "code",
   "execution_count": null,
   "metadata": {},
   "outputs": [],
   "source": [
    "#create mysql python\n",
    "def create_database(connection,query):\n",
    "    cursor=connection.cursor()\n",
    "    try:\n",
    "        cursor.execute(query)\n",
    "        print(\"database create successfully\")\n",
    "        except Error as err:\n",
    "            print(f\"Error: '(err)'\")\n",
    "create_database_query=\"create database mysql_python\"\n",
    "create_database(connection,create_databse_query)"
   ]
  },
  {
   "cell_type": "code",
   "execution_count": null,
   "metadata": {},
   "outputs": [],
   "source": [
    "#connect to database\n",
    "\n",
    "def create_db_connection(host_name,user_name,user_password,db_name):\n",
    "    connection=None\n",
    "    try:\n",
    "        connection=mysql.connector.connect{\n",
    "            host=host_name,\n",
    "            user=user_name,\n",
    "            passwd=user_password,\n",
    "            database=db_name\n",
    "        }\n",
    "        print(\"mysql database connection sucessful\")\n",
    "        except Error as err:\n",
    "            print(f\"Error: '{err}'\")\n",
    "        return connection\n",
    "        "
   ]
  },
  {
   "cell_type": "code",
   "execution_count": null,
   "metadata": {},
   "outputs": [],
   "source": [
    "#execute sql queries\n",
    "def execute_query(connection,query):\n",
    "    cursor=connection.cursor()\n",
    "    try:\n",
    "        cursor.execute(query)\n",
    "        connection.commit()\n",
    "        prin(\"query was sucessful\")\n",
    "    except Error as err:\n",
    "        print(f\"Error: '{err}'\")"
   ]
  },
  {
   "cell_type": "code",
   "execution_count": null,
   "metadata": {},
   "outputs": [],
   "source": [
    "create_orders_table=\"\"\"\n",
    "create table orders(order_id int primary key,\n",
    "customer_name varchar(30) not null,\n",
    "product_name varchar(30) not null,\n",
    "date_ordered date,\n",
    "quantity int,\n",
    "unit_price float,\n",
    "phone_number varchar(20));\n",
    "\"\"\"\n",
    "\n",
    "#connect to the databse\n",
    "connection=create_db_connection(\"localhost\",\"root\",pw,db)\n",
    "execute_query(connection,create_orders_table)"
   ]
  },
  {
   "cell_type": "code",
   "execution_count": null,
   "metadata": {},
   "outputs": [],
   "source": [
    "#insert data\n",
    "data_orders=\"\"\"\n",
    "insrt into orders values\n",
    "(101,\"steve\",\"laptop\",\"2018-06-12\",2,800,\"897644532\"),\n",
    "(105,\"ankita\",\"mobile\",\"2018-06-21\",3,900,\"897444532\");\n",
    "\"\"\"\n",
    "connection=create_db_connection(\"localhost\",\"root\",pw,db)\n",
    "execute_query(connection,data_orders)"
   ]
  },
  {
   "cell_type": "code",
   "execution_count": null,
   "metadata": {},
   "outputs": [],
   "source": [
    "def read_query(connection,query):\n",
    "    cursor=connection.cursor()\n",
    "    result=None\n",
    "    try:\n",
    "        cursor.execute(query)\n",
    "        result=cursor.fetchall()\n",
    "        return result\n",
    "    except Error as err:\n",
    "        print(f\"Error: '{err}'\")"
   ]
  },
  {
   "cell_type": "code",
   "execution_count": null,
   "metadata": {},
   "outputs": [],
   "source": [
    "#usig the select statement\n",
    "q1=\"\"\"\n",
    "select * from orders;\n",
    "\"\"\"\n",
    "connection=create_db_connection(\"localhost\",\"root\",pw,db)\n",
    "results=read_query(connection,q1)\n",
    "for result in results:\n",
    "    print(result)"
   ]
  },
  {
   "cell_type": "code",
   "execution_count": null,
   "metadata": {},
   "outputs": [],
   "source": [
    "#usig the select statement\n",
    "q2=\"\"\"\n",
    "select customer_name,phone_number from orders;\n",
    "\"\"\"\n",
    "connection=create_db_connection(\"localhost\",\"root\",pw,db)\n",
    "results=read_query(connection,q2)\n",
    "for result in results:\n",
    "    print(result)"
   ]
  },
  {
   "cell_type": "code",
   "execution_count": null,
   "metadata": {},
   "outputs": [],
   "source": [
    "#usig the select statement\n",
    "q3=\"\"\"\n",
    "select year(datae_ordered) from orders;\n",
    "\"\"\"\n",
    "connection=create_db_connection(\"localhost\",\"root\",pw,db)\n",
    "results=read_query(connection,q3)\n",
    "for result in results:\n",
    "    print(result)"
   ]
  },
  {
   "cell_type": "code",
   "execution_count": null,
   "metadata": {},
   "outputs": [],
   "source": [
    "#usig the select statement\n",
    "q1=\"\"\"\n",
    "select distinct year(datae_ordered) from orders;\n",
    "\"\"\"\n",
    "connection=create_db_connection(\"localhost\",\"root\",pw,db)\n",
    "results=read_query(connection,q4)\n",
    "for result in results:\n",
    "    print(result)"
   ]
  },
  {
   "cell_type": "code",
   "execution_count": null,
   "metadata": {},
   "outputs": [],
   "source": [
    "#usig the select statement\n",
    "q5=\"\"\"\n",
    "select * from orders where date_ordered < \"2018-12-31\";\n",
    "\"\"\"\n",
    "connection=create_db_connection(\"localhost\",\"root\",pw,db)\n",
    "results=read_query(connection,q5)\n",
    "for result in results:\n",
    "    print(result)"
   ]
  },
  {
   "cell_type": "code",
   "execution_count": null,
   "metadata": {},
   "outputs": [],
   "source": [
    "#usig the select statement\n",
    "q6=\"\"\"\n",
    "select * from orders where date_ordered > \"2018-12-31\";\n",
    "\"\"\"\n",
    "connection=create_db_connection(\"localhost\",\"root\",pw,db)\n",
    "results=read_query(connection,q6)\n",
    "for result in results:\n",
    "    print(result)"
   ]
  },
  {
   "cell_type": "code",
   "execution_count": null,
   "metadata": {},
   "outputs": [],
   "source": [
    "#usig the select statement\n",
    "q7=\"\"\"\n",
    "select * from orders order by unit_price;\n",
    "\"\"\"\n",
    "connection=create_db_connection(\"localhost\",\"root\",pw,db)\n",
    "results=read_query(connection,q7)\n",
    "for result in results:\n",
    "    print(result)"
   ]
  },
  {
   "cell_type": "code",
   "execution_count": null,
   "metadata": {},
   "outputs": [],
   "source": [
    "from_db=[]\n",
    "\n",
    "for result in results:\n",
    "    result=list(result)\n",
    "    from_db.append(result)\n",
    "columns=[\"order_id,\"\"customer_name\",\"product_name\",\"date_ordered\",\"quantity\",\"unit_price\",\"phone_number\"]\n",
    "df = pd.DataFrame(from_db,columns=columns)\n",
    "\n",
    "display(df)"
   ]
  },
  {
   "cell_type": "code",
   "execution_count": null,
   "metadata": {},
   "outputs": [],
   "source": [
    "#update command\n",
    "\n",
    "update = \"\"\"\n",
    "update orders\n",
    "set unit_price = 45\n",
    "where order_id=103\n",
    "\"\"\"\n",
    "\n",
    "connection=create_db_connection(\"localhost\",\"root\",pw,db)\n",
    "execute_query(connection,update)"
   ]
  },
  {
   "cell_type": "code",
   "execution_count": null,
   "metadata": {},
   "outputs": [],
   "source": [
    "q8=\"\"\"\n",
    "select * from oorders where order_id=103;\n",
    "\"\"\"\n",
    "connection=create_db_connection(\"localhost\",\"root\",pw,db)\n",
    "results=read_query(connection,q8)\n",
    "for result in results:\n",
    "    print(result)"
   ]
  },
  {
   "cell_type": "code",
   "execution_count": null,
   "metadata": {},
   "outputs": [],
   "source": [
    "#deletre command\n",
    "delete_order=\"\"\"\n",
    "delete from orders\n",
    "where order_id=105;\n",
    "\"\"\"\n",
    "connection=create_db_connection(\"localhost\",\"root\",pw,db)\n",
    "results=read_query(connection,delete_order)\n",
    "for result in results:\n",
    "    print(result))"
   ]
  }
 ],
 "metadata": {
  "kernelspec": {
   "display_name": "Python 3",
   "language": "python",
   "name": "python3"
  },
  "language_info": {
   "codemirror_mode": {
    "name": "ipython",
    "version": 3
   },
   "file_extension": ".py",
   "mimetype": "text/x-python",
   "name": "python",
   "nbconvert_exporter": "python",
   "pygments_lexer": "ipython3",
   "version": "3.8.5"
  }
 },
 "nbformat": 4,
 "nbformat_minor": 4
}
