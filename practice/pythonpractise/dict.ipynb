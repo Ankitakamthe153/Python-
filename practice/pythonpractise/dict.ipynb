{
 "cells": [
  {
   "cell_type": "code",
   "execution_count": 1,
   "metadata": {},
   "outputs": [
    {
     "name": "stdout",
     "output_type": "stream",
     "text": [
      "600\n"
     ]
    }
   ],
   "source": [
    "#sum of element in the dict\n",
    "def sumofdict(dict):\n",
    "    add=0\n",
    "    for i in dict:\n",
    "        add+=dict[i]\n",
    "    return add\n",
    "dict={'a':100,'b':200,'c':300}\n",
    "print(sumofdict(dict))"
   ]
  },
  {
   "cell_type": "code",
   "execution_count": 6,
   "metadata": {},
   "outputs": [
    {
     "name": "stdout",
     "output_type": "stream",
     "text": [
      "size of dict1: 232 bytes\n"
     ]
    }
   ],
   "source": [
    "#get size of dictionary\n",
    "import sys\n",
    "dict1={'a':100,'b':300,'c':300}\n",
    "dict2={'greek':\"ankita\",\"greek1\":\"dolly\"}\n",
    "dict3={\"a\":\"sdf\",\"b\":\"xcds\",\"d\":\"rgvsz\"}\n",
    "print(\"size of dict1:\",sys.getsizeof(dict1),\"bytes\")"
   ]
  },
  {
   "cell_type": "code",
   "execution_count": 15,
   "metadata": {},
   "outputs": [
    {
     "name": "stdout",
     "output_type": "stream",
     "text": [
      "entered list is: [{'name': 'ankita', 'age': 20}, {'name': 'dolly', 'age': 20}, {'name': 'om', 'age': 16}]\n",
      "sorted list by age:\n",
      "[{'name': 'om', 'age': 16}, {'name': 'ankita', 'age': 20}, {'name': 'dolly', 'age': 20}]\n",
      "sorted list based on age and name:\n",
      "[{'name': 'om', 'age': 16}, {'name': 'ankita', 'age': 20}, {'name': 'dolly', 'age': 20}]\n",
      "sorted list in descending order:\n",
      "[{'name': 'ankita', 'age': 20}, {'name': 'dolly', 'age': 20}, {'name': 'om', 'age': 16}]\n"
     ]
    }
   ],
   "source": [
    "#sort dictionary by value\n",
    "list=[{\"name\":\"ankita\",\"age\":20},\n",
    "     {\"name\":\"dolly\",\"age\":20},\n",
    "     {\"name\":\"om\",\"age\":16}]\n",
    "print(\"entered list is:\",list)\n",
    "print(\"sorted list by age:\")\n",
    "print (sorted(list,key=lambda i:i[\"age\"]))\n",
    "print(\"sorted list based on age and name:\")\n",
    "print(sorted(list,key=lambda i:(i['age'],i['name'])))\n",
    "print(\"sorted list in descending order:\")\n",
    "print(sorted(list,key=lambda i:i['age'],reverse=True))"
   ]
  },
  {
   "cell_type": "code",
   "execution_count": 17,
   "metadata": {},
   "outputs": [
    {
     "name": "stdout",
     "output_type": "stream",
     "text": [
      "None\n",
      "{'d': 90, 'r': 54, 'a': 20, 'b': 90}\n"
     ]
    }
   ],
   "source": [
    "#merging two dictionary\n",
    "def merge(dict1,dict2):\n",
    "    return(dict2.update(dict1))\n",
    "dict1={'a':20,'b':90}\n",
    "dict2={'d':90,'r':54}\n",
    "print(merge(dict1,dict2))\n",
    "print(dict2)"
   ]
  },
  {
   "cell_type": "code",
   "execution_count": 21,
   "metadata": {},
   "outputs": [
    {
     "name": "stdout",
     "output_type": "stream",
     "text": [
      "resultant dictionary is: OrderedDict([('manjeet', '4'), ('akshat', '1'), ('nikhil', '2')])\n"
     ]
    }
   ],
   "source": [
    "#insertion at the beginning\n",
    "from collections import OrderedDict\n",
    "dict1=OrderedDict([('akshat','1'),('nikhil','2')])\n",
    "dict1.update({'manjeet':'4'})\n",
    "dict1.move_to_end('manjeet',last=False)\n",
    "print(\"resultant dictionary is:\",dict1)"
   ]
  },
  {
   "cell_type": "code",
   "execution_count": 23,
   "metadata": {},
   "outputs": [
    {
     "ename": "TypeError",
     "evalue": "'dict' object is not callable",
     "output_type": "error",
     "traceback": [
      "\u001b[1;31m---------------------------------------------------------------------------\u001b[0m",
      "\u001b[1;31mTypeError\u001b[0m                                 Traceback (most recent call last)",
      "\u001b[1;32m<ipython-input-23-799240d69894>\u001b[0m in \u001b[0;36m<module>\u001b[1;34m\u001b[0m\n\u001b[0;32m     14\u001b[0m \u001b[0mar2\u001b[0m\u001b[1;33m=\u001b[0m\u001b[1;33m[\u001b[0m\u001b[1;36m6\u001b[0m\u001b[1;33m,\u001b[0m\u001b[1;36m7\u001b[0m\u001b[1;33m,\u001b[0m\u001b[1;36m20\u001b[0m\u001b[1;33m,\u001b[0m\u001b[1;36m80\u001b[0m\u001b[1;33m,\u001b[0m\u001b[1;36m100\u001b[0m\u001b[1;33m]\u001b[0m\u001b[1;33m\u001b[0m\u001b[1;33m\u001b[0m\u001b[0m\n\u001b[0;32m     15\u001b[0m \u001b[0mar3\u001b[0m\u001b[1;33m=\u001b[0m\u001b[1;33m[\u001b[0m\u001b[1;36m3\u001b[0m\u001b[1;33m,\u001b[0m\u001b[1;36m4\u001b[0m\u001b[1;33m,\u001b[0m\u001b[1;36m15\u001b[0m\u001b[1;33m,\u001b[0m\u001b[1;36m20\u001b[0m\u001b[1;33m,\u001b[0m\u001b[1;36m30\u001b[0m\u001b[1;33m,\u001b[0m\u001b[1;36m70\u001b[0m\u001b[1;33m,\u001b[0m\u001b[1;36m80\u001b[0m\u001b[1;33m,\u001b[0m\u001b[1;36m120\u001b[0m\u001b[1;33m]\u001b[0m\u001b[1;33m\u001b[0m\u001b[1;33m\u001b[0m\u001b[0m\n\u001b[1;32m---> 16\u001b[1;33m \u001b[0mcommonelement\u001b[0m\u001b[1;33m(\u001b[0m\u001b[0mar1\u001b[0m\u001b[1;33m,\u001b[0m\u001b[0mar2\u001b[0m\u001b[1;33m,\u001b[0m\u001b[0mar3\u001b[0m\u001b[1;33m)\u001b[0m\u001b[1;33m\u001b[0m\u001b[1;33m\u001b[0m\u001b[0m\n\u001b[0m",
      "\u001b[1;32m<ipython-input-23-799240d69894>\u001b[0m in \u001b[0;36mcommonelement\u001b[1;34m(ar1, ar2, ar3)\u001b[0m\n\u001b[0;32m      5\u001b[0m     \u001b[0mar2\u001b[0m\u001b[1;33m=\u001b[0m\u001b[0mCounter\u001b[0m\u001b[1;33m(\u001b[0m\u001b[0mar2\u001b[0m\u001b[1;33m)\u001b[0m\u001b[1;33m\u001b[0m\u001b[1;33m\u001b[0m\u001b[0m\n\u001b[0;32m      6\u001b[0m     \u001b[0mar3\u001b[0m\u001b[1;33m=\u001b[0m\u001b[0mCounter\u001b[0m\u001b[1;33m(\u001b[0m\u001b[0mar3\u001b[0m\u001b[1;33m)\u001b[0m\u001b[1;33m\u001b[0m\u001b[1;33m\u001b[0m\u001b[0m\n\u001b[1;32m----> 7\u001b[1;33m     \u001b[0mdict1\u001b[0m\u001b[1;33m=\u001b[0m\u001b[0mdict\u001b[0m\u001b[1;33m(\u001b[0m\u001b[0mar1\u001b[0m\u001b[1;33m.\u001b[0m\u001b[0mitems\u001b[0m\u001b[1;33m(\u001b[0m\u001b[1;33m)\u001b[0m \u001b[1;33m&\u001b[0m \u001b[0mar2\u001b[0m\u001b[1;33m.\u001b[0m\u001b[0mitems\u001b[0m\u001b[1;33m(\u001b[0m\u001b[1;33m)\u001b[0m \u001b[1;33m&\u001b[0m \u001b[0mar3\u001b[0m\u001b[1;33m.\u001b[0m\u001b[0mitems\u001b[0m\u001b[1;33m(\u001b[0m\u001b[1;33m)\u001b[0m\u001b[1;33m)\u001b[0m\u001b[1;33m\u001b[0m\u001b[1;33m\u001b[0m\u001b[0m\n\u001b[0m\u001b[0;32m      8\u001b[0m     \u001b[0mcommon\u001b[0m\u001b[1;33m=\u001b[0m\u001b[1;33m[\u001b[0m\u001b[1;33m]\u001b[0m\u001b[1;33m\u001b[0m\u001b[1;33m\u001b[0m\u001b[0m\n\u001b[0;32m      9\u001b[0m     \u001b[1;32mfor\u001b[0m\u001b[1;33m(\u001b[0m\u001b[0mkey\u001b[0m\u001b[1;33m,\u001b[0m\u001b[0mval\u001b[0m\u001b[1;33m)\u001b[0m \u001b[1;32min\u001b[0m \u001b[0mdict1\u001b[0m\u001b[1;33m.\u001b[0m\u001b[0mitems\u001b[0m\u001b[1;33m(\u001b[0m\u001b[1;33m)\u001b[0m\u001b[1;33m:\u001b[0m\u001b[1;33m\u001b[0m\u001b[1;33m\u001b[0m\u001b[0m\n",
      "\u001b[1;31mTypeError\u001b[0m: 'dict' object is not callable"
     ]
    }
   ],
   "source": [
    "#find commomn element in three sorted array\n",
    "from collections import Counter\n",
    "def commonelement(ar1,ar2,ar3):\n",
    "    ar1=Counter(ar1)\n",
    "    ar2=Counter(ar2)\n",
    "    ar3=Counter(ar3)\n",
    "    dict1=dict(ar1.items() & ar2.items() & ar3.items())\n",
    "    common=[]\n",
    "    for(key,val) in dict1.items():\n",
    "        for i  in range(0,val):\n",
    "            common.append(key)\n",
    "    print(common)\n",
    "ar1=[1,5,10,20,40.80]\n",
    "ar2=[6,7,20,80,100]\n",
    "ar3=[3,4,15,20,30,70,80,120]\n",
    "commonelement(ar1,ar2,ar3)"
   ]
  },
  {
   "cell_type": "code",
   "execution_count": null,
   "metadata": {},
   "outputs": [],
   "source": []
  }
 ],
 "metadata": {
  "kernelspec": {
   "display_name": "Python 3",
   "language": "python",
   "name": "python3"
  },
  "language_info": {
   "codemirror_mode": {
    "name": "ipython",
    "version": 3
   },
   "file_extension": ".py",
   "mimetype": "text/x-python",
   "name": "python",
   "nbconvert_exporter": "python",
   "pygments_lexer": "ipython3",
   "version": "3.8.5"
  }
 },
 "nbformat": 4,
 "nbformat_minor": 4
}
