{
 "cells": [
  {
   "cell_type": "markdown",
   "metadata": {},
   "source": [
    "interchanged first and last elements in the list"
   ]
  },
  {
   "cell_type": "code",
   "execution_count": 2,
   "metadata": {},
   "outputs": [
    {
     "name": "stdout",
     "output_type": "stream",
     "text": [
      "[32, 78, 90, 54, 23]\n"
     ]
    }
   ],
   "source": [
    "def interchanged(list):\n",
    "    size=len(list)\n",
    "    temp=list[0]\n",
    "    list[0]=list[size-1]\n",
    "    list[size-1]=temp\n",
    "    return list\n",
    "list=[23,78,90,54,32]\n",
    "print(interchanged(list))"
   ]
  },
  {
   "cell_type": "markdown",
   "metadata": {},
   "source": [
    "swap two elements in the list"
   ]
  },
  {
   "cell_type": "code",
   "execution_count": 4,
   "metadata": {},
   "outputs": [
    {
     "name": "stdout",
     "output_type": "stream",
     "text": [
      "[34, 92, 87, 56, 10]\n"
     ]
    }
   ],
   "source": [
    "def swap(list,pos1,pos2):\n",
    "    list[pos1],list[pos2]=list[pos2],list[pos1]\n",
    "    return list\n",
    "list=[34,56,87,92,10]\n",
    "pos1=1\n",
    "pos2=3\n",
    "print(swap(list,pos1,pos2))"
   ]
  },
  {
   "cell_type": "markdown",
   "metadata": {},
   "source": [
    "length of list"
   ]
  },
  {
   "cell_type": "code",
   "execution_count": 6,
   "metadata": {},
   "outputs": [
    {
     "name": "stdout",
     "output_type": "stream",
     "text": [
      "7\n"
     ]
    }
   ],
   "source": [
    "list=[34,56,78,90,32,21,56]\n",
    "print(len(list))"
   ]
  },
  {
   "cell_type": "markdown",
   "metadata": {},
   "source": [
    "element present in list or not"
   ]
  },
  {
   "cell_type": "code",
   "execution_count": 9,
   "metadata": {},
   "outputs": [
    {
     "name": "stdout",
     "output_type": "stream",
     "text": [
      "absent\n"
     ]
    }
   ],
   "source": [
    "list=[45,67,84,31,90,63,29]\n",
    "if 4 in list:\n",
    "    print(\"present\")\n",
    "else:\n",
    "    print(\"absent\")"
   ]
  },
  {
   "cell_type": "markdown",
   "metadata": {},
   "source": [
    "clear list"
   ]
  },
  {
   "cell_type": "code",
   "execution_count": 11,
   "metadata": {},
   "outputs": [
    {
     "name": "stdout",
     "output_type": "stream",
     "text": [
      "[]\n"
     ]
    }
   ],
   "source": [
    "list=[34,56,78,21,89,63]\n",
    "list.clear()\n",
    "print(list)"
   ]
  },
  {
   "cell_type": "markdown",
   "metadata": {},
   "source": [
    "reverse a list"
   ]
  },
  {
   "cell_type": "code",
   "execution_count": 15,
   "metadata": {},
   "outputs": [
    {
     "name": "stdout",
     "output_type": "stream",
     "text": [
      "[90, 74, 92, 78, 62, 45]\n"
     ]
    }
   ],
   "source": [
    "list=[45,62,78,92,74,90]\n",
    "list.reverse()\n",
    "print(list)"
   ]
  },
  {
   "cell_type": "markdown",
   "metadata": {},
   "source": [
    "sum of element in the list"
   ]
  },
  {
   "cell_type": "code",
   "execution_count": 18,
   "metadata": {},
   "outputs": [
    {
     "name": "stdout",
     "output_type": "stream",
     "text": [
      "sum of the elements in the list is: 463\n"
     ]
    }
   ],
   "source": [
    "total=0\n",
    "list=[45,66,27,89,90,12,56,78]\n",
    "for i in range(0,len(list)):\n",
    "    total=total+list[i]\n",
    "print(\"sum of the elements in the list is:\",total)"
   ]
  },
  {
   "cell_type": "markdown",
   "metadata": {},
   "source": [
    "mutiply all numbers in the list"
   ]
  },
  {
   "cell_type": "code",
   "execution_count": 19,
   "metadata": {},
   "outputs": [
    {
     "name": "stdout",
     "output_type": "stream",
     "text": [
      "multiplication of the number is: 126847052865\n"
     ]
    }
   ],
   "source": [
    "mul=1\n",
    "list=[23,45,67,13,17,89,93]\n",
    "for i in range(0,len(list)):\n",
    "    mul*=list[i]\n",
    "print(\"multiplication of the number is:\",mul)"
   ]
  },
  {
   "cell_type": "markdown",
   "metadata": {},
   "source": [
    "smallest number in the list"
   ]
  },
  {
   "cell_type": "code",
   "execution_count": 20,
   "metadata": {},
   "outputs": [
    {
     "name": "stdout",
     "output_type": "stream",
     "text": [
      "smallest number in the list: 16\n"
     ]
    }
   ],
   "source": [
    "list=[56,78,32,89,80,16,29]\n",
    "print(\"smallest number in the list:\",min(list))"
   ]
  },
  {
   "cell_type": "markdown",
   "metadata": {},
   "source": [
    "largest number in the list"
   ]
  },
  {
   "cell_type": "code",
   "execution_count": 21,
   "metadata": {},
   "outputs": [
    {
     "name": "stdout",
     "output_type": "stream",
     "text": [
      "90\n"
     ]
    }
   ],
   "source": [
    "list=[56,78,23,90,16,73,28]\n",
    "print(max(list))"
   ]
  },
  {
   "cell_type": "markdown",
   "metadata": {},
   "source": [
    "second largest number in the list"
   ]
  },
  {
   "cell_type": "code",
   "execution_count": 22,
   "metadata": {},
   "outputs": [
    {
     "name": "stdout",
     "output_type": "stream",
     "text": [
      "78\n"
     ]
    }
   ],
   "source": [
    "list=[34,56,78,90,14,58]\n",
    "list.sort()\n",
    "print(list[-2])"
   ]
  },
  {
   "cell_type": "markdown",
   "metadata": {},
   "source": [
    "find N largest element in the list"
   ]
  },
  {
   "cell_type": "code",
   "execution_count": 3,
   "metadata": {},
   "outputs": [
    {
     "name": "stdout",
     "output_type": "stream",
     "text": [
      "[89, 80]\n"
     ]
    }
   ],
   "source": [
    "def maxnumber(list,n):\n",
    "    final_list=[]\n",
    "    for i in range(0,n):\n",
    "        max1=0\n",
    "        for j in range(len(list)):\n",
    "            if list[j]>max1:\n",
    "                max1=list[j]\n",
    "        list.remove(max1)\n",
    "        final_list.append(max1)\n",
    "    print(final_list)\n",
    "list=[23,45,67,89,80,70,28]\n",
    "n=2\n",
    "maxnumber(list,n)"
   ]
  },
  {
   "cell_type": "markdown",
   "metadata": {},
   "source": [
    "python program to find even number in the list"
   ]
  },
  {
   "cell_type": "code",
   "execution_count": 2,
   "metadata": {},
   "outputs": [
    {
     "name": "stdout",
     "output_type": "stream",
     "text": [
      "[56, 78, 90, 58]\n"
     ]
    }
   ],
   "source": [
    "list=[23,56,78,90,21,58]\n",
    "even_list=[i for i in list if i%2==0]\n",
    "print(even_list)"
   ]
  },
  {
   "cell_type": "markdown",
   "metadata": {},
   "source": [
    "python program to print odd numbers in a list"
   ]
  },
  {
   "cell_type": "code",
   "execution_count": 3,
   "metadata": {},
   "outputs": [
    {
     "name": "stdout",
     "output_type": "stream",
     "text": [
      "[23, 45, 67, 89, 15, 69, 31]\n"
     ]
    }
   ],
   "source": [
    "list=[23,45,67,89,15,69,48,31,14]\n",
    "odd_list=[i for i in list if i%2!=0]\n",
    "print(odd_list)"
   ]
  },
  {
   "cell_type": "markdown",
   "metadata": {},
   "source": [
    "program to print all even numbers in a range"
   ]
  },
  {
   "cell_type": "code",
   "execution_count": 4,
   "metadata": {},
   "outputs": [
    {
     "name": "stdout",
     "output_type": "stream",
     "text": [
      "enter the number:10\n",
      "[0, 2, 4, 6, 8]\n"
     ]
    }
   ],
   "source": [
    "n=int(input(\"enter the number:\"))\n",
    "even_list=[i for i in range(0,n) if i %2==0]\n",
    "print(even_list)"
   ]
  },
  {
   "cell_type": "markdown",
   "metadata": {},
   "source": [
    "print all odd numbers in a range"
   ]
  },
  {
   "cell_type": "code",
   "execution_count": 5,
   "metadata": {},
   "outputs": [
    {
     "name": "stdout",
     "output_type": "stream",
     "text": [
      "enter a number:10\n",
      "[1, 3, 5, 7, 9]\n"
     ]
    }
   ],
   "source": [
    "n=int(input(\"enter a number:\"))\n",
    "odd_list=[i for i in range(0,n) if i%2!=0]\n",
    "print(odd_list)\n"
   ]
  },
  {
   "cell_type": "markdown",
   "metadata": {},
   "source": [
    "program to print positive number in a list"
   ]
  },
  {
   "cell_type": "code",
   "execution_count": 6,
   "metadata": {},
   "outputs": [
    {
     "name": "stdout",
     "output_type": "stream",
     "text": [
      "[55, 789, 45, 67]\n"
     ]
    }
   ],
   "source": [
    "list=[-234,55,789,-145,-633,45,67,0,-21]\n",
    "pos_list=[i for i in list if i>0]\n",
    "print(pos_list)"
   ]
  },
  {
   "cell_type": "markdown",
   "metadata": {},
   "source": [
    "print negative number in a list"
   ]
  },
  {
   "cell_type": "code",
   "execution_count": 7,
   "metadata": {},
   "outputs": [
    {
     "name": "stdout",
     "output_type": "stream",
     "text": [
      "[-234, -145, -633, -21]\n"
     ]
    }
   ],
   "source": [
    "list=[-234,55,789,-145,-633,45,67,0,-21]\n",
    "neg_list=[i for i in list if i<0]\n",
    "print(neg_list)"
   ]
  },
  {
   "cell_type": "markdown",
   "metadata": {},
   "source": [
    "program to find positive number in a range"
   ]
  },
  {
   "cell_type": "code",
   "execution_count": 9,
   "metadata": {},
   "outputs": [
    {
     "name": "stdout",
     "output_type": "stream",
     "text": [
      "enter number:20\n",
      "[1, 2, 3, 4, 5, 6, 7, 8, 9, 10, 11, 12, 13, 14, 15, 16, 17, 18, 19]\n"
     ]
    }
   ],
   "source": [
    "n=int(input(\"enter number:\"))\n",
    "pos_list=[i for i in range(-10,n) if i>0]\n",
    "print(pos_list)"
   ]
  },
  {
   "cell_type": "markdown",
   "metadata": {},
   "source": [
    "priit negative number in a range"
   ]
  },
  {
   "cell_type": "code",
   "execution_count": 10,
   "metadata": {},
   "outputs": [
    {
     "name": "stdout",
     "output_type": "stream",
     "text": [
      "enter number:20\n",
      "[-20, -19, -18, -17, -16, -15, -14, -13, -12, -11, -10, -9, -8, -7, -6, -5, -4, -3, -2, -1]\n"
     ]
    }
   ],
   "source": [
    "n=int(input(\"enter number:\"))\n",
    "neg_list=[i for i in range(-20,n) if i<0]\n",
    "print(neg_list)"
   ]
  },
  {
   "cell_type": "markdown",
   "metadata": {},
   "source": [
    "remove multiple element in the list"
   ]
  },
  {
   "cell_type": "code",
   "execution_count": 19,
   "metadata": {},
   "outputs": [
    {
     "name": "stdout",
     "output_type": "stream",
     "text": [
      "[12, 89, 80]\n"
     ]
    }
   ],
   "source": [
    "list=[12,34,56,67,89,80]\n",
    "del list[1:4]\n",
    "print(list)"
   ]
  },
  {
   "cell_type": "markdown",
   "metadata": {},
   "source": [
    "remove empty list from a list"
   ]
  },
  {
   "cell_type": "code",
   "execution_count": 20,
   "metadata": {},
   "outputs": [
    {
     "name": "stdout",
     "output_type": "stream",
     "text": [
      "[23, 56, 89, 90, 42]\n"
     ]
    }
   ],
   "source": [
    "list=[23,[],56,[],89,[],90,[],42,[]]\n",
    "rev=[i for i in list if i!=[]]\n",
    "print(rev)"
   ]
  },
  {
   "cell_type": "markdown",
   "metadata": {},
   "source": [
    "copy a list"
   ]
  },
  {
   "cell_type": "code",
   "execution_count": 21,
   "metadata": {},
   "outputs": [
    {
     "name": "stdout",
     "output_type": "stream",
     "text": [
      "[23, 45, 67, 89, 18, 10]\n"
     ]
    }
   ],
   "source": [
    "def cloning(list1):\n",
    "    li_copy=list1[:]\n",
    "    return li_copy\n",
    "list=[23,45,67,89,18,10]\n",
    "list2=cloning(list)\n",
    "print(list2)\n"
   ]
  },
  {
   "cell_type": "markdown",
   "metadata": {},
   "source": [
    "count occurrence of element in the list"
   ]
  },
  {
   "cell_type": "code",
   "execution_count": 23,
   "metadata": {},
   "outputs": [
    {
     "name": "stdout",
     "output_type": "stream",
     "text": [
      "45 has occurrence 3 times\n"
     ]
    }
   ],
   "source": [
    "def occurence(list,x):\n",
    "    count=0\n",
    "    for i in list:\n",
    "        if i==x:\n",
    "            count+=1\n",
    "    return count\n",
    "list=[23,45,45,67,23,89,90,89,23,45,78]\n",
    "x=45\n",
    "print(\"{} has occurrence {} times\".format(x,occurence(list,x)))"
   ]
  },
  {
   "cell_type": "markdown",
   "metadata": {},
   "source": [
    "remove empty tuples from a list"
   ]
  },
  {
   "cell_type": "code",
   "execution_count": 24,
   "metadata": {},
   "outputs": [
    {
     "name": "stdout",
     "output_type": "stream",
     "text": [
      "[23, 67, 64, 89]\n"
     ]
    }
   ],
   "source": [
    "list=[23,(),67,(),64,(),89,()]\n",
    "rest=[i for i in list if i!=()]\n",
    "print(rest)"
   ]
  },
  {
   "cell_type": "markdown",
   "metadata": {},
   "source": [
    "program to print duplicates from a list"
   ]
  },
  {
   "cell_type": "code",
   "execution_count": 5,
   "metadata": {},
   "outputs": [
    {
     "name": "stdout",
     "output_type": "stream",
     "text": [
      "[23, 56]\n"
     ]
    }
   ],
   "source": [
    "def re(list):\n",
    "    size=len(list)\n",
    "    repeated=[]\n",
    "    for i in range(size):\n",
    "        k=i+1\n",
    "        for j in range(k,size):\n",
    "            if list[i]==list[j] and list[i] not in repeated:\n",
    "                repeated.append(list[i])\n",
    "    return repeated\n",
    "list=[23,56,78,23,89,56]\n",
    "print(re(list))\n"
   ]
  },
  {
   "cell_type": "markdown",
   "metadata": {},
   "source": [
    "cumulative sum of list"
   ]
  },
  {
   "cell_type": "code",
   "execution_count": 6,
   "metadata": {},
   "outputs": [
    {
     "name": "stdout",
     "output_type": "stream",
     "text": [
      "[23, 68, 135, 224, 314]\n"
     ]
    }
   ],
   "source": [
    "list=[23,45,67,89,90]\n",
    "new_list=[]\n",
    "total=0\n",
    "for i in range(0,len(list)):\n",
    "    total+=list[i]\n",
    "    new_list.append(total)\n",
    "print(new_list)"
   ]
  },
  {
   "cell_type": "markdown",
   "metadata": {},
   "source": [
    "sum of number digits"
   ]
  },
  {
   "cell_type": "code",
   "execution_count": 7,
   "metadata": {},
   "outputs": [
    {
     "name": "stdout",
     "output_type": "stream",
     "text": [
      "sum is [5, 9, 13, 17, 9]\n"
     ]
    }
   ],
   "source": [
    "test_list=[23,45,66,78]\n",
    "res=[]\n",
    "for i in list:\n",
    "    sum=0\n",
    "    for digit in str(i):\n",
    "        sum+=int(digit)\n",
    "    res.append(sum)\n",
    "print(\"sum is\",res)"
   ]
  },
  {
   "cell_type": "markdown",
   "metadata": {},
   "source": [
    "break list into chunks of size"
   ]
  },
  {
   "cell_type": "code",
   "execution_count": 8,
   "metadata": {},
   "outputs": [
    {
     "name": "stdout",
     "output_type": "stream",
     "text": [
      "[[1, 2, 3, 4], [5, 6, 7, 8], [9]]\n"
     ]
    }
   ],
   "source": [
    "list=[1,2,3,4,5,\n",
    "     6,7,8,9]\n",
    "n=4\n",
    "final=[list[i*n:(i+1)*n] for i in range((len(list)+n-1)//n)]\n",
    "print(final)"
   ]
  },
  {
   "cell_type": "markdown",
   "metadata": {},
   "source": [
    "sort value of first list using second list"
   ]
  },
  {
   "cell_type": "code",
   "execution_count": 13,
   "metadata": {},
   "outputs": [
    {
     "name": "stdout",
     "output_type": "stream",
     "text": [
      "['a', 'd', 'b', 'c', 'e', 'f', 'h', 'j']\n"
     ]
    }
   ],
   "source": [
    "def sort_list(list1,list2):\n",
    "    zipped_pairs=zip(list2,list1)\n",
    "    z=[x for _ ,  x in sorted(zipped_pairs)]\n",
    "    return z\n",
    "x=['a','b','c','d','e','f','h','j']\n",
    "y=[0,   1,  1,  0,  1,  1,  2,  2]\n",
    "print(sort_list(x,y))"
   ]
  },
  {
   "cell_type": "code",
   "execution_count": null,
   "metadata": {},
   "outputs": [],
   "source": []
  }
 ],
 "metadata": {
  "kernelspec": {
   "display_name": "Python 3",
   "language": "python",
   "name": "python3"
  },
  "language_info": {
   "codemirror_mode": {
    "name": "ipython",
    "version": 3
   },
   "file_extension": ".py",
   "mimetype": "text/x-python",
   "name": "python",
   "nbconvert_exporter": "python",
   "pygments_lexer": "ipython3",
   "version": "3.8.5"
  }
 },
 "nbformat": 4,
 "nbformat_minor": 4
}
