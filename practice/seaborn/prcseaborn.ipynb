{
 "cells": [
  {
   "cell_type": "code",
   "execution_count": 6,
   "metadata": {},
   "outputs": [],
   "source": [
    "import numpy as np\n",
    "import pandas as pd\n",
    "import matplotlib.pyplot as plt\n"
   ]
  },
  {
   "cell_type": "code",
   "execution_count": 5,
   "metadata": {},
   "outputs": [
    {
     "name": "stdout",
     "output_type": "stream",
     "text": [
      "['anagrams', 'anscombe', 'attention', 'brain_networks', 'car_crashes', 'diamonds', 'dots', 'exercise', 'flights', 'fmri', 'gammas', 'geyser', 'iris', 'mpg', 'penguins', 'planets', 'tips', 'titanic']\n"
     ]
    }
   ],
   "source": [
    "import seaborn as sb\n",
    "print(sb.get_dataset_names())"
   ]
  },
  {
   "cell_type": "code",
   "execution_count": 2,
   "metadata": {},
   "outputs": [
    {
     "name": "stdout",
     "output_type": "stream",
     "text": [
      "       Order ID                     Product Quantity Ordered Price Each  \\\n",
      "0        176558        USB-C Charging Cable                2      11.95   \n",
      "1           NaN                         NaN              NaN        NaN   \n",
      "2        176559  Bose SoundSport Headphones                1      99.99   \n",
      "3        176560                Google Phone                1        600   \n",
      "4        176560            Wired Headphones                1      11.99   \n",
      "...         ...                         ...              ...        ...   \n",
      "186845   259353      AAA Batteries (4-pack)                3       2.99   \n",
      "186846   259354                      iPhone                1        700   \n",
      "186847   259355                      iPhone                1        700   \n",
      "186848   259356      34in Ultrawide Monitor                1     379.99   \n",
      "186849   259357        USB-C Charging Cable                1      11.95   \n",
      "\n",
      "             Order Date                         Purchase Address  \n",
      "0        4/19/2019 8:46             917 1st St, Dallas, TX 75001  \n",
      "1                   NaN                                      NaN  \n",
      "2        4/7/2019 22:30        682 Chestnut St, Boston, MA 02215  \n",
      "3       4/12/2019 14:38     669 Spruce St, Los Angeles, CA 90001  \n",
      "4       4/12/2019 14:38     669 Spruce St, Los Angeles, CA 90001  \n",
      "...                 ...                                      ...  \n",
      "186845  9/17/2019 20:56   840 Highland St, Los Angeles, CA 90001  \n",
      "186846   9/1/2019 16:00  216 Dogwood St, San Francisco, CA 94016  \n",
      "186847   9/23/2019 7:39     220 12th St, San Francisco, CA 94016  \n",
      "186848  9/19/2019 17:30   511 Forest St, San Francisco, CA 94016  \n",
      "186849   9/30/2019 0:18   250 Meadow St, San Francisco, CA 94016  \n",
      "\n",
      "[186850 rows x 6 columns]\n"
     ]
    }
   ],
   "source": [
    "import seaborn as sb\n",
    "import pandas as pd\n",
    "df=pd.read_csv('sale.csv')\n",
    "print(df)"
   ]
  },
  {
   "cell_type": "code",
   "execution_count": null,
   "metadata": {},
   "outputs": [],
   "source": [
    "import numpy as np\n",
    "import matplotlib.pyplot as plt\n",
    "def sinplot(flip=1):\n",
    "    "
   ]
  }
 ],
 "metadata": {
  "kernelspec": {
   "display_name": "Python 3",
   "language": "python",
   "name": "python3"
  },
  "language_info": {
   "codemirror_mode": {
    "name": "ipython",
    "version": 3
   },
   "file_extension": ".py",
   "mimetype": "text/x-python",
   "name": "python",
   "nbconvert_exporter": "python",
   "pygments_lexer": "ipython3",
   "version": "3.8.5"
  }
 },
 "nbformat": 4,
 "nbformat_minor": 4
}
