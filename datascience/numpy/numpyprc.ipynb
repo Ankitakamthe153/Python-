{
 "cells": [
  {
   "cell_type": "code",
   "execution_count": 2,
   "metadata": {},
   "outputs": [],
   "source": [
    "import numpy as np"
   ]
  },
  {
   "cell_type": "code",
   "execution_count": 2,
   "metadata": {},
   "outputs": [
    {
     "name": "stdout",
     "output_type": "stream",
     "text": [
      "[12 56 89 63]\n"
     ]
    }
   ],
   "source": [
    "vector_row=np.array([12,56,89,63])\n",
    "print(vector_row)"
   ]
  },
  {
   "cell_type": "code",
   "execution_count": 3,
   "metadata": {},
   "outputs": [
    {
     "name": "stdout",
     "output_type": "stream",
     "text": [
      "[[1]\n",
      " [2]\n",
      " [3]]\n"
     ]
    }
   ],
   "source": [
    "#vector column\n",
    "vector_column=np.array([[1],\n",
    "                        [2],\n",
    "                        [3]])\n",
    "print(vector_column)"
   ]
  },
  {
   "cell_type": "code",
   "execution_count": 5,
   "metadata": {},
   "outputs": [
    {
     "name": "stdout",
     "output_type": "stream",
     "text": [
      "[15 43 67 89]\n",
      "int32\n",
      "[12. 34. 56.]\n"
     ]
    }
   ],
   "source": [
    "#changing datatyoe\n",
    "vector=np.array([15,43,67,89])\n",
    "print(vector)\n",
    "print(vector.dtype)\n",
    "vector=np.array([12,34,56],dtype=\"float\")\n",
    "print(vector)"
   ]
  },
  {
   "cell_type": "code",
   "execution_count": 6,
   "metadata": {},
   "outputs": [
    {
     "name": "stdout",
     "output_type": "stream",
     "text": [
      "[10 11 12 13 14 15 16 17 18 19 20]\n"
     ]
    }
   ],
   "source": [
    "#Creating the sequence of numbers using arange(start, stop,step) function\n",
    "a=np.arange(start=10,stop=21)\n",
    "print(a)"
   ]
  },
  {
   "cell_type": "code",
   "execution_count": 11,
   "metadata": {},
   "outputs": [
    {
     "name": "stdout",
     "output_type": "stream",
     "text": [
      "[ 2  4  6  8 10 12 14 16 18 20]\n"
     ]
    }
   ],
   "source": [
    "a=np.arange(start=2,stop=21,step=2)\n",
    "print(a)"
   ]
  },
  {
   "cell_type": "code",
   "execution_count": 18,
   "metadata": {},
   "outputs": [
    {
     "name": "stdout",
     "output_type": "stream",
     "text": [
      "[ 1  2  3  4  5  6  7  8  9 10]\n",
      "1\n",
      "6\n",
      "6\n",
      "[ 3  4  5  6  7  8  9 10]\n",
      "[ 3  4  5  6  7  8  9 10]\n",
      "[ 2  4  6  8 10]\n"
     ]
    }
   ],
   "source": [
    "#Indexing and Selection of array element using index and slicing operation\n",
    "a=np.arange(start=1,stop=11)\n",
    "print(a)\n",
    "print(a[0])\n",
    "print(a[5])\n",
    "print(a[-5])\n",
    "print(a[2::])\n",
    "print(a[2:10:])\n",
    "print(a[1:10:2])"
   ]
  },
  {
   "cell_type": "code",
   "execution_count": 24,
   "metadata": {},
   "outputs": [
    {
     "name": "stdout",
     "output_type": "stream",
     "text": [
      "[ 1  2  3  4  5  6  7  8  9 10]\n",
      "[[ 1  2  3  4  5]\n",
      " [ 6  7  8  9 10]]\n",
      "[ 1  2  3  4  5  6  7  8  9 10 11 12]\n",
      "[[ 1  2  3  4]\n",
      " [ 5  6  7  8]\n",
      " [ 9 10 11 12]]\n",
      "[[ 1  2  3]\n",
      " [ 4  5  6]\n",
      " [ 7  8  9]\n",
      " [10 11 12]]\n",
      "[[ 1  2]\n",
      " [ 3  4]\n",
      " [ 5  6]\n",
      " [ 7  8]\n",
      " [ 9 10]\n",
      " [11 12]]\n"
     ]
    }
   ],
   "source": [
    "#resize\n",
    "a=np.arange(start=1,stop=11)\n",
    "print(a)\n",
    "a.resize(2,5)\n",
    "print(a)\n",
    "a=np.arange(start=1,stop=13)\n",
    "print(a)\n",
    "a.resize(3,4)\n",
    "print(a)\n",
    "a.resize(4,3)\n",
    "print(a)\n",
    "a.resize(6,2)\n",
    "print(a)"
   ]
  },
  {
   "cell_type": "code",
   "execution_count": 3,
   "metadata": {},
   "outputs": [
    {
     "name": "stdout",
     "output_type": "stream",
     "text": [
      "[[[10 20 30]\n",
      "  [10 20 40]]\n",
      "\n",
      " [[50 60 70]\n",
      "  [30 76 45]]]\n"
     ]
    },
    {
     "data": {
      "text/plain": [
       "(2, 2, 3)"
      ]
     },
     "execution_count": 3,
     "metadata": {},
     "output_type": "execute_result"
    }
   ],
   "source": [
    "# To find shape of matrix  using shape \n",
    "m = np.array([[[10,20,30],[10,20,40]],[[50,60,70],[30,76,45]]])\n",
    "print(m)\n",
    "m.shape"
   ]
  },
  {
   "cell_type": "markdown",
   "metadata": {},
   "source": [
    "# two or multidimensional array"
   ]
  },
  {
   "cell_type": "code",
   "execution_count": 29,
   "metadata": {},
   "outputs": [
    {
     "name": "stdout",
     "output_type": "stream",
     "text": [
      "[[10 67 89]\n",
      " [54 32 87]]\n"
     ]
    },
    {
     "data": {
      "text/plain": [
       "2"
      ]
     },
     "execution_count": 29,
     "metadata": {},
     "output_type": "execute_result"
    }
   ],
   "source": [
    "#to create multidimensional array\n",
    "a=np.array([[10,67,89],[54,32,87]])\n",
    "print(a)\n",
    "a.ndim\n"
   ]
  },
  {
   "cell_type": "code",
   "execution_count": 30,
   "metadata": {},
   "outputs": [
    {
     "data": {
      "text/plain": [
       "6"
      ]
     },
     "execution_count": 30,
     "metadata": {},
     "output_type": "execute_result"
    }
   ],
   "source": [
    "a.size"
   ]
  },
  {
   "cell_type": "code",
   "execution_count": 31,
   "metadata": {},
   "outputs": [
    {
     "data": {
      "text/plain": [
       "(2, 3)"
      ]
     },
     "execution_count": 31,
     "metadata": {},
     "output_type": "execute_result"
    }
   ],
   "source": [
    "a.shape"
   ]
  },
  {
   "cell_type": "code",
   "execution_count": 35,
   "metadata": {},
   "outputs": [
    {
     "name": "stdout",
     "output_type": "stream",
     "text": [
      "[ 1  2  3  4  5  6  7  8  9 10 11 12]\n",
      "[[ 1  2  3]\n",
      " [ 4  5  6]\n",
      " [ 7  8  9]\n",
      " [10 11 12]]\n",
      "3\n",
      "7\n"
     ]
    }
   ],
   "source": [
    "# Create two dimensional array or matrix using arange()\n",
    "matrix=np.arange(start=1,stop=13)\n",
    "print(matrix)\n",
    "matrix.resize(4,3)\n",
    "print(matrix)\n",
    "print(matrix[0][2])\n",
    "print(matrix[2][0])"
   ]
  },
  {
   "cell_type": "code",
   "execution_count": 45,
   "metadata": {},
   "outputs": [
    {
     "name": "stdout",
     "output_type": "stream",
     "text": [
      "[[0. 0. 0. 0.]\n",
      " [0. 0. 0. 0.]\n",
      " [0. 0. 0. 0.]]\n",
      "[[0 0 0 0]\n",
      " [0 0 0 0]\n",
      " [0 0 0 0]]\n",
      "[[1. 1. 1. 1.]\n",
      " [1. 1. 1. 1.]\n",
      " [1. 1. 1. 1.]]\n",
      "[[1 1 1 1]\n",
      " [1 1 1 1]\n",
      " [1 1 1 1]]\n",
      "[[1. 0. 0. 0.]\n",
      " [0. 1. 0. 0.]\n",
      " [0. 0. 1. 0.]\n",
      " [0. 0. 0. 1.]]\n",
      "[[1 0 0 0]\n",
      " [0 1 0 0]\n",
      " [0 0 1 0]\n",
      " [0 0 0 1]]\n",
      "[[12  0  0  0]\n",
      " [ 0 56  0  0]\n",
      " [ 0  0 87  0]\n",
      " [ 0  0  0 90]]\n"
     ]
    }
   ],
   "source": [
    "#Creating Zero Matrix using zeros()\n",
    "m=np.zeros((3,4))\n",
    "print(m)\n",
    "m=np.zeros((3,4),dtype=\"int\")\n",
    "print(m)\n",
    "#creating ones matrix using ones()\n",
    "n=np.ones((3,4))\n",
    "print(n)\n",
    "n=np.ones((3,4),dtype=\"int\")\n",
    "print(n)\n",
    "#creating identity matrix using eye()\n",
    "a=np.eye(4)\n",
    "print(a)\n",
    "a=np.eye(4,dtype=\"int\")\n",
    "print(a)\n",
    "#creating diagonal matrix using diag()\n",
    "a=np.diag([12,56,87,90])\n",
    "print(a)"
   ]
  },
  {
   "cell_type": "code",
   "execution_count": 48,
   "metadata": {},
   "outputs": [
    {
     "name": "stdout",
     "output_type": "stream",
     "text": [
      "[ 1.          1.3877551   1.7755102   2.16326531  2.55102041  2.93877551\n",
      "  3.32653061  3.71428571  4.10204082  4.48979592  4.87755102  5.26530612\n",
      "  5.65306122  6.04081633  6.42857143  6.81632653  7.20408163  7.59183673\n",
      "  7.97959184  8.36734694  8.75510204  9.14285714  9.53061224  9.91836735\n",
      " 10.30612245 10.69387755 11.08163265 11.46938776 11.85714286 12.24489796\n",
      " 12.63265306 13.02040816 13.40816327 13.79591837 14.18367347 14.57142857\n",
      " 14.95918367 15.34693878 15.73469388 16.12244898 16.51020408 16.89795918\n",
      " 17.28571429 17.67346939 18.06122449 18.44897959 18.83673469 19.2244898\n",
      " 19.6122449  20.        ]\n",
      "[ 1.  2.  3.  4.  5.  6.  7.  8.  9. 10. 11. 12. 13. 14. 15. 16. 17. 18.\n",
      " 19. 20.]\n"
     ]
    }
   ],
   "source": [
    "#Creating sample space using linspace() bydefault 50\n",
    "a=np.linspace(start=1,stop=20)\n",
    "print(a)\n",
    "a.size\n",
    "a=np.linspace(start=1,stop=20,num=20)\n",
    "print(a)"
   ]
  },
  {
   "cell_type": "code",
   "execution_count": 47,
   "metadata": {},
   "outputs": [
    {
     "name": "stdout",
     "output_type": "stream",
     "text": [
      "0.2183361780939651\n",
      "[0.85909038 0.20871788 0.29022443 0.22082276 0.15438554]\n",
      "[[23 20  8 16]\n",
      " [21 69 32 64]\n",
      " [85 83 86 42]]\n",
      "[[71 80 89 74]\n",
      " [91 99 97 83]\n",
      " [72 71 73 99]]\n",
      "6\n",
      "[[7 5 5 5]\n",
      " [6 7 5 7]\n",
      " [7 6 5 7]]\n"
     ]
    }
   ],
   "source": [
    "from numpy import random\n",
    "sample=random.rand()\n",
    "print(sample)\n",
    "sample=random.rand(5)\n",
    "print(sample)\n",
    "sample=random.randint(100,size=(3,4))\n",
    "print(sample)\n",
    "sample=random.randint(70,100,size=(3,4))\n",
    "print(sample)\n",
    "sample=random.choice([5,6,7])\n",
    "print(sample)\n",
    "sample=random.choice([5,6,7],size=(3,4))\n",
    "print(sample)"
   ]
  },
  {
   "cell_type": "code",
   "execution_count": 49,
   "metadata": {},
   "outputs": [
    {
     "name": "stdout",
     "output_type": "stream",
     "text": [
      "[6 3 8 3 6 8 6 6 3 8 8 3 5 5 6 6 3 6 8 6 5 3 3 8 6 6 6 3 5 8 3 3 6 5 3 6 3\n",
      " 8 6 8 5 8 3 6 6 3 6 6 6 6 8 6 3 6 3 8 3 8 3 8 8 6 6 3 8 6 6 8 6 6 6 8 6 8\n",
      " 8 8 6 3 8 3 6 6 5 5 3 6 3 8 8 3 6 6 5 8 6 6 6 3 3 6]\n"
     ]
    }
   ],
   "source": [
    "from numpy import random\n",
    "m=random.choice([5,6,8,3],p=[0.1,0.4,0.3,0.2],size=100)\n",
    "print(m)\n"
   ]
  },
  {
   "cell_type": "code",
   "execution_count": 50,
   "metadata": {},
   "outputs": [
    {
     "name": "stdout",
     "output_type": "stream",
     "text": [
      "9 40 25 26\n"
     ]
    }
   ],
   "source": [
    "c5=0\n",
    "c6=0\n",
    "c8=0\n",
    "c3=0\n",
    "for i in m:\n",
    "    if i==5:\n",
    "        c5+=1\n",
    "    elif i==6:\n",
    "        c6+=1\n",
    "    elif i==8:\n",
    "        c8+=1\n",
    "    else:\n",
    "        c3+=1\n",
    "print(c5,c6,c8,c3)"
   ]
  },
  {
   "cell_type": "code",
   "execution_count": 55,
   "metadata": {},
   "outputs": [
    {
     "name": "stdout",
     "output_type": "stream",
     "text": [
      "[[ 1  2  3  4]\n",
      " [ 5  6  7  8]\n",
      " [ 9 10 11 12]]\n",
      "78\n",
      "1\n",
      "12\n",
      "6.5\n",
      "3.452052529534663\n",
      "11.916666666666666\n",
      "0\n",
      "11\n"
     ]
    }
   ],
   "source": [
    "# To find the sum, minimum, maximum, mean, standard deviation and variance \n",
    "a=np.arange(start=1,stop=13)\n",
    "a.resize((3,4))\n",
    "print(a)\n",
    "print(a.sum())\n",
    "print(a.min())\n",
    "print(a.max())\n",
    "print(a.mean())\n",
    "print(a.std())\n",
    "print(a.var())\n",
    "print(a.argmin())\n",
    "print(a.argmax())\n"
   ]
  },
  {
   "cell_type": "markdown",
   "metadata": {},
   "source": [
    "# numpy operation"
   ]
  },
  {
   "cell_type": "code",
   "execution_count": 93,
   "metadata": {},
   "outputs": [
    {
     "name": "stdout",
     "output_type": "stream",
     "text": [
      "[[1 2 3]\n",
      " [4 5 6]]\n",
      "[[11 12 13]\n",
      " [14 15 16]]\n",
      "[[12 14 16]\n",
      " [18 20 22]]\n",
      "[[10 10 10]\n",
      " [10 10 10]]\n",
      "[[11 24 39]\n",
      " [56 75 96]]\n",
      "[[0.09090909 0.16666667 0.23076923]\n",
      " [0.28571429 0.33333333 0.375     ]]\n",
      "[[12 14 16]\n",
      " [18 20 22]]\n",
      "[[  1   8  27]\n",
      " [ 64 125 216]]\n",
      "[[1 0 1]\n",
      " [0 1 0]]\n",
      "[[1 2 0]\n",
      " [1 2 0]]\n",
      "(array([[0, 0, 0],\n",
      "       [1, 1, 1]], dtype=int32), array([[1, 2, 3],\n",
      "       [0, 1, 2]], dtype=int32))\n",
      "[[1 2 3]\n",
      " [4 5 6]]\n",
      "8.0\n",
      "7.0\n",
      "21\n",
      "[[1 1]\n",
      " [1 1]]\n",
      "720\n",
      "[ 1  3  6 10 15 21]\n",
      "[  1   2   6  24 120 720]\n",
      "[[11 12 39]\n",
      " [28 15 48]]\n",
      "[[1 2 1]\n",
      " [2 5 2]]\n",
      "[[12 14 16]\n",
      " [18 20 22]]\n",
      "0.8939966636005579\n",
      "1.0\n",
      "1.6197751905438615\n"
     ]
    },
    {
     "ename": "AttributeError",
     "evalue": "module 'numpy' has no attribute 'deg2rand'",
     "output_type": "error",
     "traceback": [
      "\u001b[1;31m---------------------------------------------------------------------------\u001b[0m",
      "\u001b[1;31mAttributeError\u001b[0m                            Traceback (most recent call last)",
      "\u001b[1;32m<ipython-input-93-2de5d2706154>\u001b[0m in \u001b[0;36m<module>\u001b[1;34m\u001b[0m\n\u001b[0;32m     51\u001b[0m \u001b[0mc\u001b[0m\u001b[1;33m=\u001b[0m\u001b[0mnp\u001b[0m\u001b[1;33m.\u001b[0m\u001b[0mtan\u001b[0m\u001b[1;33m(\u001b[0m\u001b[1;36m45\u001b[0m\u001b[1;33m)\u001b[0m\u001b[1;33m\u001b[0m\u001b[1;33m\u001b[0m\u001b[0m\n\u001b[0;32m     52\u001b[0m \u001b[0mprint\u001b[0m\u001b[1;33m(\u001b[0m\u001b[0mc\u001b[0m\u001b[1;33m)\u001b[0m\u001b[1;33m\u001b[0m\u001b[1;33m\u001b[0m\u001b[0m\n\u001b[1;32m---> 53\u001b[1;33m \u001b[0mc\u001b[0m\u001b[1;33m=\u001b[0m\u001b[0mnp\u001b[0m\u001b[1;33m.\u001b[0m\u001b[0mdeg2rand\u001b[0m\u001b[1;33m(\u001b[0m\u001b[1;36m90\u001b[0m\u001b[1;33m)\u001b[0m\u001b[1;33m\u001b[0m\u001b[1;33m\u001b[0m\u001b[0m\n\u001b[0m\u001b[0;32m     54\u001b[0m \u001b[0mprint\u001b[0m\u001b[1;33m(\u001b[0m\u001b[0mc\u001b[0m\u001b[1;33m)\u001b[0m\u001b[1;33m\u001b[0m\u001b[1;33m\u001b[0m\u001b[0m\n\u001b[0;32m     55\u001b[0m \u001b[0mc\u001b[0m\u001b[1;33m=\u001b[0m\u001b[0mnp\u001b[0m\u001b[1;33m.\u001b[0m\u001b[0mrand2deg\u001b[0m\u001b[1;33m(\u001b[0m\u001b[1;36m0.567\u001b[0m\u001b[1;33m)\u001b[0m\u001b[1;33m\u001b[0m\u001b[1;33m\u001b[0m\u001b[0m\n",
      "\u001b[1;32mC:\\ProgramData\\Anaconda3\\lib\\site-packages\\numpy\\__init__.py\u001b[0m in \u001b[0;36m__getattr__\u001b[1;34m(attr)\u001b[0m\n\u001b[0;32m    212\u001b[0m                 \u001b[1;32mreturn\u001b[0m \u001b[0mTester\u001b[0m\u001b[1;33m\u001b[0m\u001b[1;33m\u001b[0m\u001b[0m\n\u001b[0;32m    213\u001b[0m             \u001b[1;32melse\u001b[0m\u001b[1;33m:\u001b[0m\u001b[1;33m\u001b[0m\u001b[1;33m\u001b[0m\u001b[0m\n\u001b[1;32m--> 214\u001b[1;33m                 raise AttributeError(\"module {!r} has no attribute \"\n\u001b[0m\u001b[0;32m    215\u001b[0m                                      \"{!r}\".format(__name__, attr))\n\u001b[0;32m    216\u001b[0m \u001b[1;33m\u001b[0m\u001b[0m\n",
      "\u001b[1;31mAttributeError\u001b[0m: module 'numpy' has no attribute 'deg2rand'"
     ]
    }
   ],
   "source": [
    "a=np.arange(start=1,stop=7)\n",
    "a.resize(2,3)\n",
    "print(a)\n",
    "b=np.arange(start=11,stop=17)\n",
    "b.resize(2,3)\n",
    "print(b)\n",
    "c=np.add(a,b)\n",
    "print(c)\n",
    "c=np.subtract(b,a)\n",
    "print(c)\n",
    "c=np.multiply(a,b)\n",
    "print(c)\n",
    "c=np.divide(a,b)\n",
    "print(c)\n",
    "c=np.add(a,b)\n",
    "print(c)\n",
    "c=np.power(a,3)\n",
    "print(c)\n",
    "c=np.mod(a,2)\n",
    "print(c)\n",
    "c=np.remainder(a,3)\n",
    "print(c)\n",
    "c=np.divmod(a,4)\n",
    "print(c)\n",
    "d=np.absolute(a)\n",
    "print(d)\n",
    "d=np.around(7.9)\n",
    "print(d)\n",
    "d=np.floor(7.9)\n",
    "print(d)\n",
    "c=np.sum(a)\n",
    "print(c)\n",
    "c=np.diff(a)\n",
    "print(c)\n",
    "c=np.prod(a)\n",
    "print(c)\n",
    "c=np.cumsum(a)\n",
    "print(c)\n",
    "c=np.cumprod(a)\n",
    "print(c)\n",
    "c=np.lcm(a,b)\n",
    "print(c)\n",
    "c=np.gcd(a,b)\n",
    "print(c)\n",
    "c=np.add(a,b)\n",
    "print(c)\n",
    "c=np.sin(90)\n",
    "print(c)\n",
    "c=np.cos(0)\n",
    "print(c)\n",
    "c=np.tan(45)\n",
    "print(c)\n",
    "c=np.deg2rand(90)\n",
    "print(c)\n",
    "c=np.rand2deg(0.567)\n",
    "print(c)\n",
    "\n",
    "\n",
    "\n",
    "\n",
    "\n",
    "\n",
    "\n",
    "\n",
    "\n",
    "\n"
   ]
  },
  {
   "cell_type": "code",
   "execution_count": 98,
   "metadata": {},
   "outputs": [
    {
     "name": "stdout",
     "output_type": "stream",
     "text": [
      "(array([{1, 2, 3, 4, 5, 8}], dtype=object), array([0], dtype=int64))\n"
     ]
    }
   ],
   "source": [
    "import numpy as np\n",
    "s={1,2,3,2,4,5,8}\n",
    "d={3,4,7,9,1,5,8}\n",
    "a=np.unique(s,d)\n",
    "print(a)"
   ]
  },
  {
   "cell_type": "markdown",
   "metadata": {},
   "source": [
    "1)HOW TO CREATE A ROW AND COLUMN\n",
    "2)HOW TO CHANGED DAATATYPE USING DTYPE=\"\" FUNCTION\n",
    "3)NP.RESHAPE() FUNCTION\n",
    "4)NP.RESIZE(N0.OF ROW,N. OF COLUMN) FUNCTION\n",
    "5)NP.ARANGE(START,STOP,STEP)\n",
    "6)NP.ZEROS() FUNCTION TO CRAETE ZERO MATRIX(DEFALUT VALUE IS IN FLOAT)\n",
    "7)NP.ONES() FUNCTION TO CREATE ONE MATRIX(DEFAULT VALUE IS IN FLOAT)\n",
    "8)NP.EYE() FUNCTION TO CREATE IDENTITY MATRIX(DEFAULT VALUE IS IN FLOAT)\n",
    "9)NP.DIAG([ELEMENT IN THE LIST]) FUNCTION TO CREATE THE DIAGONAL MATRIX\n",
    "10)CREATING SAMPLE SPACE USING LINSPACE(START,STOP)\n",
    "11)TO GIVE THE RANDOM FUNCTION:FROM NUMPY IMPORT RANDOM\n",
    "SAMPLE=RANDOM.RAND(5)\n",
    "12)NUMPY OPERATION"
   ]
  },
  {
   "cell_type": "markdown",
   "metadata": {},
   "source": [
    "1)get the version and show the numpy build configuration"
   ]
  },
  {
   "cell_type": "code",
   "execution_count": 2,
   "metadata": {},
   "outputs": [
    {
     "name": "stdout",
     "output_type": "stream",
     "text": [
      "1.19.2\n",
      "blas_mkl_info:\n",
      "    libraries = ['mkl_rt']\n",
      "    library_dirs = ['C:/ProgramData/Anaconda3\\\\Library\\\\lib']\n",
      "    define_macros = [('SCIPY_MKL_H', None), ('HAVE_CBLAS', None)]\n",
      "    include_dirs = ['C:/ProgramData/Anaconda3\\\\Library\\\\include']\n",
      "blas_opt_info:\n",
      "    libraries = ['mkl_rt']\n",
      "    library_dirs = ['C:/ProgramData/Anaconda3\\\\Library\\\\lib']\n",
      "    define_macros = [('SCIPY_MKL_H', None), ('HAVE_CBLAS', None)]\n",
      "    include_dirs = ['C:/ProgramData/Anaconda3\\\\Library\\\\include']\n",
      "lapack_mkl_info:\n",
      "    libraries = ['mkl_rt']\n",
      "    library_dirs = ['C:/ProgramData/Anaconda3\\\\Library\\\\lib']\n",
      "    define_macros = [('SCIPY_MKL_H', None), ('HAVE_CBLAS', None)]\n",
      "    include_dirs = ['C:/ProgramData/Anaconda3\\\\Library\\\\include']\n",
      "lapack_opt_info:\n",
      "    libraries = ['mkl_rt']\n",
      "    library_dirs = ['C:/ProgramData/Anaconda3\\\\Library\\\\lib']\n",
      "    define_macros = [('SCIPY_MKL_H', None), ('HAVE_CBLAS', None)]\n",
      "    include_dirs = ['C:/ProgramData/Anaconda3\\\\Library\\\\include']\n",
      "None\n"
     ]
    }
   ],
   "source": [
    "import numpy as np\n",
    "print(np.__version__)\n",
    "print(np.show_config())"
   ]
  },
  {
   "cell_type": "markdown",
   "metadata": {},
   "source": [
    "add function using numpy"
   ]
  },
  {
   "cell_type": "code",
   "execution_count": 4,
   "metadata": {},
   "outputs": [
    {
     "data": {
      "text/plain": [
       "5"
      ]
     },
     "execution_count": 4,
     "metadata": {},
     "output_type": "execute_result"
    }
   ],
   "source": [
    "np.add(1,4)\n"
   ]
  },
  {
   "cell_type": "code",
   "execution_count": 5,
   "metadata": {},
   "outputs": [
    {
     "data": {
      "text/plain": [
       "22.9"
      ]
     },
     "execution_count": 5,
     "metadata": {},
     "output_type": "execute_result"
    }
   ],
   "source": [
    "np.add(10.9,12.0)"
   ]
  },
  {
   "cell_type": "markdown",
   "metadata": {},
   "source": [
    "test whether none of the elements of a given array is zero"
   ]
  },
  {
   "cell_type": "code",
   "execution_count": 7,
   "metadata": {},
   "outputs": [
    {
     "name": "stdout",
     "output_type": "stream",
     "text": [
      "original array is: [1 2 3 4]\n",
      "whether zero is present or not:\n",
      "True\n",
      "original array is: [0 2 3 5]\n",
      "the zero is present or not:\n",
      "False\n"
     ]
    }
   ],
   "source": [
    "import numpy as np\n",
    "x=np.array([1,2,3,4])\n",
    "print(\"original array is:\",x)\n",
    "print(\"whether zero is present or not:\")\n",
    "print(np.all(x))\n",
    "y=np.array([0,2,3,5])\n",
    "print(\"original array is:\",y)\n",
    "print(\"the zero is present or not:\")\n",
    "print(np.all(y))\n"
   ]
  },
  {
   "cell_type": "markdown",
   "metadata": {},
   "source": [
    "to find non-zero element in the array"
   ]
  },
  {
   "cell_type": "code",
   "execution_count": 9,
   "metadata": {},
   "outputs": [
    {
     "name": "stdout",
     "output_type": "stream",
     "text": [
      "original array is: [1 0 0 0]\n",
      "non-zero element is present or not:\n",
      "True\n",
      "original array is: [0 0 0 0]\n",
      "non-zero element is present or not:\n",
      "False\n"
     ]
    }
   ],
   "source": [
    "import numpy as np\n",
    "x=np.array([1,0,0,0])\n",
    "print(\"original array is:\",x)\n",
    "print(\"non-zero element is present or not:\")\n",
    "print(np.any(x))\n",
    "y=np.array([0,0,0,0])\n",
    "print(\"original array is:\",y)\n",
    "print(\"non-zero element is present or not:\")\n",
    "print(np.any(y))"
   ]
  },
  {
   "cell_type": "code",
   "execution_count": 11,
   "metadata": {},
   "outputs": [
    {
     "name": "stdout",
     "output_type": "stream",
     "text": [
      "original array is: [ 1.  0. nan inf]\n",
      "is the entered array is a finnite or not:\n",
      "[ True  True False False]\n"
     ]
    }
   ],
   "source": [
    "#find finiteness\n",
    "import numpy as np\n",
    "x=np.array([1,0,np.nan,np.inf])\n",
    "print(\"original array is:\",x)\n",
    "print(\"is the entered array is a finnite or not:\")\n",
    "print(np.isfinite(x))"
   ]
  },
  {
   "cell_type": "code",
   "execution_count": 13,
   "metadata": {},
   "outputs": [
    {
     "name": "stdout",
     "output_type": "stream",
     "text": [
      "original array is: [ 1.  0. nan inf]\n",
      "nan is present or not:\n",
      "[False False  True False]\n"
     ]
    }
   ],
   "source": [
    "#nan value\n",
    "import numpy as np\n",
    "x=np.array([1,0,np.nan,np.inf])\n",
    "print(\"original array is:\",x)\n",
    "print(\"nan is present or not:\")\n",
    "print(np.isnan(x))"
   ]
  },
  {
   "cell_type": "code",
   "execution_count": 14,
   "metadata": {},
   "outputs": [
    {
     "name": "stdout",
     "output_type": "stream",
     "text": [
      "original array is: [1. +1.j 1. +0.j 4.5+0.j 3. +0.j 2. +0.j 0. +2.j]\n",
      "complex number :\n",
      "[ True False False False False  True]\n",
      "real number:\n",
      "[False  True  True  True  True False]\n",
      "True\n"
     ]
    }
   ],
   "source": [
    "#check complex,real,scalar or not\n",
    "import numpy as np\n",
    "x=np.array([1+1j,1+0j,4.5,3,2,2j])\n",
    "print(\"original array is:\",x)\n",
    "print(\"complex number :\")\n",
    "print(np.iscomplex(x))\n",
    "print(\"real number:\")\n",
    "print(np.isreal(x))\n",
    "print(np.isscalar(3.1))\n"
   ]
  },
  {
   "cell_type": "code",
   "execution_count": 15,
   "metadata": {},
   "outputs": [
    {
     "name": "stdout",
     "output_type": "stream",
     "text": [
      "original numbers:\n",
      "[3 5] [2 5]\n",
      "comparison-greater:\n",
      "[ True False]\n",
      "comparison-greater equal:\n",
      "[ True  True]\n",
      "comparision-lesser:\n",
      "[False False]\n",
      "comparision-lesser equal:\n",
      "[False  True]\n"
     ]
    }
   ],
   "source": [
    "#find the greater,greater equal,lesser,lesser equal between tthe two array\n",
    "import numpy as np\n",
    "x=np.array([3,5])\n",
    "y=np.array([2,5])\n",
    "print(\"original numbers:\")\n",
    "print(x,y)\n",
    "print(\"comparison-greater:\")\n",
    "print(np.greater(x,y))\n",
    "print(\"comparison-greater equal:\")\n",
    "print(np.greater_equal(x,y))\n",
    "print(\"comparision-lesser:\")\n",
    "print(np.less(x,y))\n",
    "print(\"comparision-lesser equal:\")\n",
    "print(np.less_equal(x,y))\n"
   ]
  },
  {
   "cell_type": "code",
   "execution_count": 18,
   "metadata": {},
   "outputs": [
    {
     "name": "stdout",
     "output_type": "stream",
     "text": [
      "original array is:\n",
      "[  72   79   85   90  150 -135  120  -10   60  100] \n",
      " [  72.       79.       85.       90.      150.     -135.      120.\n",
      "  -10.       60.      100.0001]\n",
      "comparision-equal:\n",
      "[ True  True  True  True  True  True  True  True  True False]\n",
      "comparision-equal within the tolerance:\n",
      "True\n"
     ]
    }
   ],
   "source": [
    "#comparision equal,equal within a tolerance\n",
    "import numpy as np\n",
    "x=np.array([72,79,85,90,150,-135,120,-10,60,100])\n",
    "y=np.array([72,79,85,90,150,-135,120,-10,60,100.0001])\n",
    "print(\"original array is:\")\n",
    "print(x,\"\\n\",y)\n",
    "print(\"comparision-equal:\")\n",
    "print(np.equal(x,y))\n",
    "print(\"comparision-equal within the tolerance:\")\n",
    "print(np.allclose(x,y))"
   ]
  },
  {
   "cell_type": "code",
   "execution_count": 22,
   "metadata": {},
   "outputs": [
    {
     "name": "stdout",
     "output_type": "stream",
     "text": [
      "original array is: [  1   7  13 105]\n",
      "memory size is:\n",
      "16 BYTES\n"
     ]
    }
   ],
   "source": [
    "#determine the size\n",
    "import numpy as np\n",
    "x=np.array([1,7,13,105])\n",
    "print(\"original array is:\",x)\n",
    "print(\"memory size is:\")\n",
    "#print(np.size(x))#these is the size of array\n",
    "print(\"%d BYTES\" %(x.size*x.itemsize))"
   ]
  },
  {
   "cell_type": "code",
   "execution_count": 7,
   "metadata": {},
   "outputs": [
    {
     "name": "stdout",
     "output_type": "stream",
     "text": [
      "[0. 0. 0. 0. 0. 0. 0. 0. 0. 0.]\n",
      "[1. 1. 1. 1. 1. 1. 1. 1. 1. 1.]\n",
      "float64\n"
     ]
    },
    {
     "ename": "TypeError",
     "evalue": "array() missing required argument 'object' (pos 1)",
     "output_type": "error",
     "traceback": [
      "\u001b[1;31m---------------------------------------------------------------------------\u001b[0m",
      "\u001b[1;31mTypeError\u001b[0m                                 Traceback (most recent call last)",
      "\u001b[1;32m<ipython-input-7-073ac8564fe0>\u001b[0m in \u001b[0;36m<module>\u001b[1;34m\u001b[0m\n\u001b[0;32m      7\u001b[0m \u001b[0mm\u001b[0m\u001b[1;33m=\u001b[0m\u001b[0mnp\u001b[0m\u001b[1;33m.\u001b[0m\u001b[0mones\u001b[0m\u001b[1;33m(\u001b[0m\u001b[1;36m10\u001b[0m\u001b[1;33m)\u001b[0m\u001b[1;33m*\u001b[0m\u001b[1;36m5\u001b[0m\u001b[1;33m\u001b[0m\u001b[1;33m\u001b[0m\u001b[0m\n\u001b[0;32m      8\u001b[0m \u001b[0mprint\u001b[0m\u001b[1;33m(\u001b[0m\u001b[0mm\u001b[0m\u001b[1;33m.\u001b[0m\u001b[0mdtype\u001b[0m\u001b[1;33m)\u001b[0m\u001b[1;33m\u001b[0m\u001b[1;33m\u001b[0m\u001b[0m\n\u001b[1;32m----> 9\u001b[1;33m \u001b[0mm\u001b[0m\u001b[1;33m=\u001b[0m\u001b[0mnp\u001b[0m\u001b[1;33m.\u001b[0m\u001b[0marray\u001b[0m\u001b[1;33m(\u001b[0m\u001b[0mdtype\u001b[0m\u001b[1;33m=\u001b[0m\u001b[1;34m'int'\u001b[0m\u001b[1;33m)\u001b[0m\u001b[1;33m\u001b[0m\u001b[1;33m\u001b[0m\u001b[0m\n\u001b[0m\u001b[0;32m     10\u001b[0m \u001b[0mprint\u001b[0m\u001b[1;33m(\u001b[0m\u001b[0mm\u001b[0m\u001b[1;33m)\u001b[0m\u001b[1;33m\u001b[0m\u001b[1;33m\u001b[0m\u001b[0m\n",
      "\u001b[1;31mTypeError\u001b[0m: array() missing required argument 'object' (pos 1)"
     ]
    }
   ],
   "source": [
    "#array of 10 zeros,10 ones,10 fives\n",
    "import numpy as np\n",
    "m=np.zeros(10)\n",
    "print(m)\n",
    "m=np.ones(10)\n",
    "print(m)\n",
    "m=np.ones(10)*5"
   ]
  },
  {
   "cell_type": "code",
   "execution_count": 8,
   "metadata": {},
   "outputs": [
    {
     "name": "stdout",
     "output_type": "stream",
     "text": [
      "[30 31 32 33 34 35 36 37 38 39 40 41 42 43 44 45 46 47 48 49 50 51 52 53\n",
      " 54 55 56 57 58 59 60 61 62 63 64 65 66 67 68 69 70]\n"
     ]
    }
   ],
   "source": [
    "#create an array from 30 to 70\n",
    "m=np.arange(start=30,stop=71)\n",
    "print(m)"
   ]
  },
  {
   "cell_type": "code",
   "execution_count": 9,
   "metadata": {},
   "outputs": [
    {
     "name": "stdout",
     "output_type": "stream",
     "text": [
      "[30 32 34 36 38 40 42 44 46 48 50 52 54 56 58 60 62 64 66 68 70]\n"
     ]
    }
   ],
   "source": [
    "#create an array to print all even integer from 30 to 70\n",
    "m=np.arange(start=30,stop=71,step=2)\n",
    "print(m)"
   ]
  },
  {
   "cell_type": "code",
   "execution_count": 13,
   "metadata": {},
   "outputs": [
    {
     "name": "stdout",
     "output_type": "stream",
     "text": [
      "[[1. 0. 0.]\n",
      " [0. 1. 0.]\n",
      " [0. 0. 1.]]\n"
     ]
    }
   ],
   "source": [
    "#create 3*3 identity matrix\n",
    "m=np.eye(3,3)\n",
    "print(m)"
   ]
  },
  {
   "cell_type": "code",
   "execution_count": 18,
   "metadata": {},
   "outputs": [
    {
     "name": "stdout",
     "output_type": "stream",
     "text": [
      "[0.09022323]\n"
     ]
    }
   ],
   "source": [
    "from numpy import random\n",
    "m=np.random.normal(0,1,1)\n",
    "print(m)"
   ]
  },
  {
   "cell_type": "code",
   "execution_count": 20,
   "metadata": {},
   "outputs": [
    {
     "name": "stdout",
     "output_type": "stream",
     "text": [
      "[ 0.89538168  0.3221337   0.34895681  0.60601117  0.74016291 -0.30175642\n",
      " -1.18729827 -2.4409879   0.85126163  0.20295585  0.25714164 -0.78472493\n",
      "  0.68730356  0.77564683 -0.03454967]\n"
     ]
    }
   ],
   "source": [
    "#array of 15 random number from a standard normal distribution\n",
    "m=np.random.normal(0,1,15)\n",
    "print(m)"
   ]
  },
  {
   "cell_type": "code",
   "execution_count": 34,
   "metadata": {},
   "outputs": [
    {
     "name": "stdout",
     "output_type": "stream",
     "text": [
      "[16 17 18 19 20 21 22 23 24 25 26 27 28 29 30 31 32 33 34 35 36 37 38 39\n",
      " 40 41 42 43 44 45 46 47 48 49 50 51 52 53 54]\n"
     ]
    }
   ],
   "source": [
    "#create a vector from 15 to 55 and print values except first and last\n",
    "m=np.arange(start=15,stop=56)\n",
    "print(m[1:-1])"
   ]
  },
  {
   "cell_type": "code",
   "execution_count": 35,
   "metadata": {},
   "outputs": [
    {
     "name": "stdout",
     "output_type": "stream",
     "text": [
      "[[10 11 12 13]\n",
      " [14 15 16 17]\n",
      " [18 19 20 21]]\n",
      "each element in the matrix is:\n",
      "10 11 12 13 14 15 16 17 18 19 20 21 "
     ]
    }
   ],
   "source": [
    "#create an 3*4 matrix and iterate it\n",
    "m=np.arange(10,22).reshape((3,4))\n",
    "print(m)\n",
    "print('each element in the matrix is:')\n",
    "for i in np.nditer(m):\n",
    "    print(i,end=' ')"
   ]
  },
  {
   "cell_type": "code",
   "execution_count": 41,
   "metadata": {},
   "outputs": [
    {
     "name": "stdout",
     "output_type": "stream",
     "text": [
      "[  0   1   2   3   4   5   6   7   8  -9 -10 -11 -12 -13 -14 -15  16  17\n",
      "  18  19  20]\n"
     ]
    }
   ],
   "source": [
    "#array between 0 to 20 and change the sign of number in range 9 to 15\n",
    "m=np.arange(start=0,stop=21)\n",
    "m[(m>=9) & (m<=15)] *=-1\n",
    "print(m)"
   ]
  },
  {
   "cell_type": "code",
   "execution_count": 42,
   "metadata": {},
   "outputs": [
    {
     "name": "stdout",
     "output_type": "stream",
     "text": [
      "[ 8  6 10  1  7]\n"
     ]
    }
   ],
   "source": [
    "#program to create vector of length 5 from integer 0 to 10\n",
    "m=np.random.randint(0,11,5)\n",
    "print(m)\n"
   ]
  },
  {
   "cell_type": "code",
   "execution_count": 43,
   "metadata": {},
   "outputs": [
    {
     "name": "stdout",
     "output_type": "stream",
     "text": [
      "[1 2 3 4]\n",
      "[5 6 7 8]\n",
      "[ 5 12 21 32]\n"
     ]
    }
   ],
   "source": [
    "#multiply values of two given vector/matrix\n",
    "a=np.array([1,2,3,4])\n",
    "b=np.array([5,6,7,8])\n",
    "print(a)\n",
    "print(b)\n",
    "c=np.multiply(a,b)\n",
    "print(c)"
   ]
  },
  {
   "cell_type": "code",
   "execution_count": 46,
   "metadata": {},
   "outputs": [
    {
     "name": "stdout",
     "output_type": "stream",
     "text": [
      "[[10 11 12 13]\n",
      " [14 15 16 17]\n",
      " [18 19 20 21]]\n"
     ]
    }
   ],
   "source": [
    "#create 3*4 matrix filled with value from 10 to 21\n",
    "m=np.arange(start=10,stop=22)\n",
    "m.resize(3,4)\n",
    "print(m)"
   ]
  },
  {
   "cell_type": "code",
   "execution_count": 50,
   "metadata": {},
   "outputs": [
    {
     "data": {
      "text/plain": [
       "(4, 3)"
      ]
     },
     "execution_count": 50,
     "metadata": {},
     "output_type": "execute_result"
    }
   ],
   "source": [
    "#find no. of rows and no. of col in givven matrix\n",
    "m=np.array([[1,2,3],[8,9,7],[6,5,4],[4,3,2]])\n",
    "np.shape(m)"
   ]
  },
  {
   "cell_type": "code",
   "execution_count": 53,
   "metadata": {},
   "outputs": [
    {
     "name": "stdout",
     "output_type": "stream",
     "text": [
      "[[1. 1. 1. 1. 1. 1. 1. 1. 1. 1.]\n",
      " [1. 0. 0. 0. 0. 0. 0. 0. 0. 1.]\n",
      " [1. 0. 0. 0. 0. 0. 0. 0. 0. 1.]\n",
      " [1. 0. 0. 0. 0. 0. 0. 0. 0. 1.]\n",
      " [1. 0. 0. 0. 0. 0. 0. 0. 0. 1.]\n",
      " [1. 0. 0. 0. 0. 0. 0. 0. 0. 1.]\n",
      " [1. 0. 0. 0. 0. 0. 0. 0. 0. 1.]\n",
      " [1. 0. 0. 0. 0. 0. 0. 0. 0. 1.]\n",
      " [1. 0. 0. 0. 0. 0. 0. 0. 0. 1.]\n",
      " [1. 1. 1. 1. 1. 1. 1. 1. 1. 1.]]\n"
     ]
    }
   ],
   "source": [
    "#creattte 10*10 matrix in which border are 1 and inside 0\n",
    "m=np.ones((10,10))\n",
    "m[1:-1,1:-1]=0\n",
    "print(m)"
   ]
  },
  {
   "cell_type": "code",
   "execution_count": 54,
   "metadata": {},
   "outputs": [
    {
     "name": "stdout",
     "output_type": "stream",
     "text": [
      "[[1 0 0 0 0]\n",
      " [0 2 0 0 0]\n",
      " [0 0 3 0 0]\n",
      " [0 0 0 4 0]\n",
      " [0 0 0 0 5]]\n"
     ]
    }
   ],
   "source": [
    "#create 5*5 matrix with diagonal qual to 1,2,3,4,5\n",
    "m=np.diag([1,2,3,4,5])\n",
    "print(m)"
   ]
  },
  {
   "cell_type": "code",
   "execution_count": null,
   "metadata": {},
   "outputs": [],
   "source": []
  }
 ],
 "metadata": {
  "kernelspec": {
   "display_name": "Python 3",
   "language": "python",
   "name": "python3"
  },
  "language_info": {
   "codemirror_mode": {
    "name": "ipython",
    "version": 3
   },
   "file_extension": ".py",
   "mimetype": "text/x-python",
   "name": "python",
   "nbconvert_exporter": "python",
   "pygments_lexer": "ipython3",
   "version": "3.8.5"
  }
 },
 "nbformat": 4,
 "nbformat_minor": 4
}
