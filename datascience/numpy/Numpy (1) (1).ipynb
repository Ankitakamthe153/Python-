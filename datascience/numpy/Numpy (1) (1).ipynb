{
 "cells": [
  {
   "cell_type": "markdown",
   "metadata": {},
   "source": [
    "### What is Numpy:\n",
    "1. NumPy (acronym for 'Numerical Python' or 'Numeric Python') \n",
    "2. It is one of the most essential package for speedy mathematical computation \n",
    "on arrays and matrices in Python. \n",
    "3. It is also quite useful while dealing with multi-dimensional data. \n",
    "4. It also provides numerous functions for Fourier transform (FT) and linear algebra."
   ]
  },
  {
   "cell_type": "code",
   "execution_count": 8,
   "metadata": {},
   "outputs": [],
   "source": [
    "#Importing numpy\n",
    "import numpy as np"
   ]
  },
  {
   "cell_type": "markdown",
   "metadata": {},
   "source": [
    "### One Dimensional Array or Vector"
   ]
  },
  {
   "cell_type": "code",
   "execution_count": 9,
   "metadata": {},
   "outputs": [
    {
     "name": "stdout",
     "output_type": "stream",
     "text": [
      "[15 25 14 78 96]\n"
     ]
    }
   ],
   "source": [
    "# Create one dimensional array or row or row vector\n",
    "vector_row = np.array([15,25,14,78,96])\n",
    "print(vector_row)"
   ]
  },
  {
   "cell_type": "code",
   "execution_count": 3,
   "metadata": {},
   "outputs": [
    {
     "name": "stdout",
     "output_type": "stream",
     "text": [
      "[[1]\n",
      " [2]\n",
      " [3]]\n"
     ]
    }
   ],
   "source": [
    "## Create one dimensional array or coloumn or coloumn vector\n",
    "vector_column = np.array([[1],\n",
    "                          [2],\n",
    "                          [3]])\n",
    "print(vector_column)"
   ]
  },
  {
   "cell_type": "code",
   "execution_count": 8,
   "metadata": {},
   "outputs": [
    {
     "name": "stdout",
     "output_type": "stream",
     "text": [
      "[15 25 14 78 96]\n",
      "int32\n",
      "[15. 25. 14. 78. 96.]\n",
      "float64\n"
     ]
    }
   ],
   "source": [
    "#Changing the datatype\n",
    "vector_row = np.array([15,25,14,78,96])\n",
    "print(vector_row)\n",
    "print(vector_row.dtype)\n",
    "vector_row = np.array([15,25,14,78,96],dtype = \"float\")\n",
    "print(vector_row)\n",
    "print(vector_row.dtype)"
   ]
  },
  {
   "cell_type": "code",
   "execution_count": 13,
   "metadata": {},
   "outputs": [
    {
     "name": "stdout",
     "output_type": "stream",
     "text": [
      "[10 11 12 13 14 15 16 17 18 19 20]\n"
     ]
    }
   ],
   "source": [
    "#Creating the sequence of numbers using arange(start, stop,step) function\n",
    "a = np.arange(start=10,stop=21)\n",
    "print(a)"
   ]
  },
  {
   "cell_type": "code",
   "execution_count": 14,
   "metadata": {},
   "outputs": [
    {
     "name": "stdout",
     "output_type": "stream",
     "text": [
      "[10 12 14 16 18 20]\n"
     ]
    }
   ],
   "source": [
    "#Creating the sequence of numbers using arange(start, stop,step) function\n",
    "a = np.arange(start=10,stop=21,step=2)\n",
    "print(a)"
   ]
  },
  {
   "cell_type": "code",
   "execution_count": 23,
   "metadata": {},
   "outputs": [
    {
     "name": "stdout",
     "output_type": "stream",
     "text": [
      "[10 11 12 13 14 15 16 17 18 19]\n",
      "14\n",
      "16\n",
      "[12 13 14 15 16 17 18 19]\n",
      "[12 13 14 15 16 17 18 19]\n",
      "[12 15 18]\n"
     ]
    }
   ],
   "source": [
    "#Indexing and Selection of array element using index and slicing operation\n",
    "a=np.arange(start=10,stop=20)\n",
    "print(a)\n",
    "print(a[4])\n",
    "print(a[-4])\n",
    "print(a[2::])\n",
    "print(a[2:10:])\n",
    "print(a[2:10:3])"
   ]
  },
  {
   "cell_type": "code",
   "execution_count": 28,
   "metadata": {},
   "outputs": [
    {
     "name": "stdout",
     "output_type": "stream",
     "text": [
      "[ 1  2  3  4  5  6  7  8  9 10 11 12]\n",
      "[ 1  2  3  4  5  6  7  8  9 10 11 12]\n",
      "[ 1  2  3  4  5  6  7  8  9 10 11 12]\n",
      "[ 1  2  3  4  5  6  7  8  9 10 11 12]\n",
      "[ 1  2  3  4  5  6  7  8  9 10 11 12]\n"
     ]
    }
   ],
   "source": [
    "# reshape(): It used to reshape the array\n",
    "a = np.arange(start=1,stop=13)\n",
    "print(a)\n",
    "a.reshape(2,6)\n",
    "print(a)\n",
    "a.reshape(3,4)\n",
    "print(a)\n",
    "a.reshape(4,3)\n",
    "print(a)\n",
    "a.reshape(6,2)\n",
    "print(a)\n"
   ]
  },
  {
   "cell_type": "markdown",
   "metadata": {},
   "source": [
    "Note: that reshape() does not alter the shape of the original array. \n",
    "Thus to modify the original array we can use resize( )"
   ]
  },
  {
   "cell_type": "code",
   "execution_count": 29,
   "metadata": {},
   "outputs": [
    {
     "name": "stdout",
     "output_type": "stream",
     "text": [
      "[ 1  2  3  4  5  6  7  8  9 10 11 12]\n",
      "[[ 1  2  3  4  5  6]\n",
      " [ 7  8  9 10 11 12]]\n",
      "[[ 1  2  3  4]\n",
      " [ 5  6  7  8]\n",
      " [ 9 10 11 12]]\n",
      "[[ 1  2  3]\n",
      " [ 4  5  6]\n",
      " [ 7  8  9]\n",
      " [10 11 12]]\n",
      "[[ 1  2]\n",
      " [ 3  4]\n",
      " [ 5  6]\n",
      " [ 7  8]\n",
      " [ 9 10]\n",
      " [11 12]]\n"
     ]
    }
   ],
   "source": [
    "# resize(): It used to resize the array\n",
    "a = np.arange(start=1,stop=13)\n",
    "print(a)\n",
    "a.resize(2,6)\n",
    "print(a)\n",
    "a.resize(3,4)\n",
    "print(a)\n",
    "a.resize(4,3)\n",
    "print(a)\n",
    "a.resize(6,2)\n",
    "print(a)"
   ]
  },
  {
   "cell_type": "markdown",
   "metadata": {},
   "source": [
    "### Two or Multi Dimensional Array or Matrix"
   ]
  },
  {
   "cell_type": "code",
   "execution_count": 30,
   "metadata": {},
   "outputs": [
    {
     "name": "stdout",
     "output_type": "stream",
     "text": [
      "[[10 20 30]\n",
      " [40 50 60]]\n"
     ]
    }
   ],
   "source": [
    "# Create two dimensional array or matrix \n",
    "matrix = np.array([[10,20,30],[40,50,60]])\n",
    "print(matrix)"
   ]
  },
  {
   "cell_type": "code",
   "execution_count": 2,
   "metadata": {},
   "outputs": [
    {
     "name": "stdout",
     "output_type": "stream",
     "text": [
      "[[10 20 30]\n",
      " [40 50 60]]\n",
      "2\n"
     ]
    }
   ],
   "source": [
    "# To find the dimension of matrix using ndim() function\n",
    "import numpy as np\n",
    "m = np.array([[10,20,30],[40,50,60]])\n",
    "print(m)\n",
    "print(np.ndim(m))"
   ]
  },
  {
   "cell_type": "code",
   "execution_count": 4,
   "metadata": {},
   "outputs": [
    {
     "name": "stdout",
     "output_type": "stream",
     "text": [
      "[[10 20 30]\n",
      " [40 50 60]]\n"
     ]
    },
    {
     "data": {
      "text/plain": [
       "6"
      ]
     },
     "execution_count": 4,
     "metadata": {},
     "output_type": "execute_result"
    }
   ],
   "source": [
    "# To find the number of element in matrix or size of matrix using size \n",
    "m = np.array([[10,20,30],[40,50,60]])\n",
    "print(m)\n",
    "np.size(m)"
   ]
  },
  {
   "cell_type": "code",
   "execution_count": 3,
   "metadata": {},
   "outputs": [
    {
     "name": "stdout",
     "output_type": "stream",
     "text": [
      "[[10 20 30]\n",
      " [40 50 60]]\n"
     ]
    },
    {
     "data": {
      "text/plain": [
       "(2, 3)"
      ]
     },
     "execution_count": 3,
     "metadata": {},
     "output_type": "execute_result"
    }
   ],
   "source": [
    "# To find shape of matrix  using shape \n",
    "m = np.array([[10,20,30],[40,50,60]])\n",
    "print(m)\n",
    "np.shape(m)"
   ]
  },
  {
   "cell_type": "code",
   "execution_count": 6,
   "metadata": {},
   "outputs": [
    {
     "name": "stdout",
     "output_type": "stream",
     "text": [
      "[ 1  2  3  4  5  6  7  8  9 10 11 12]\n",
      "[[ 1  2  3  4]\n",
      " [ 5  6  7  8]\n",
      " [ 9 10 11 12]]\n"
     ]
    }
   ],
   "source": [
    "# Create two dimensional array or matrix using arange()\n",
    "matrix = np.arange(start=1,stop=13)\n",
    "print(matrix)\n",
    "matrix.resize(3,4)\n",
    "print(matrix)\n"
   ]
  },
  {
   "cell_type": "code",
   "execution_count": 40,
   "metadata": {},
   "outputs": [
    {
     "name": "stdout",
     "output_type": "stream",
     "text": [
      "[ 1  2  3  4  5  6  7  8  9 10 11 12]\n",
      "[ 1  2  3  4  5  6  7  8  9 10 11 12]\n",
      "[[ 1  2  3]\n",
      " [ 4  5  6]\n",
      " [ 7  8  9]\n",
      " [10 11 12]]\n"
     ]
    }
   ],
   "source": [
    "# Create two dimensional array or matrix using arange()\n",
    "matrix = np.arange(start=1,stop=13)\n",
    "print(matrix)\n",
    "matrix.reshape(4,3)\n",
    "print(matrix)\n",
    "matrix.resize(4,3)\n",
    "print(matrix)\n"
   ]
  },
  {
   "cell_type": "code",
   "execution_count": 49,
   "metadata": {},
   "outputs": [
    {
     "name": "stdout",
     "output_type": "stream",
     "text": [
      "[ 1  2  3  4  5  6  7  8  9 10 11 12]\n",
      "[[ 1  2  3]\n",
      " [ 4  5  6]\n",
      " [ 7  8  9]\n",
      " [10 11 12]]\n",
      "3\n",
      "8\n"
     ]
    }
   ],
   "source": [
    "# Indexing and Selection of two dimensional element of matrix\n",
    "matrix = np.arange(start=1,stop=13)\n",
    "print(matrix)\n",
    "matrix.resize(4,3)\n",
    "print(matrix)\n",
    "print(matrix[0][2])\n",
    "print(matrix[2][1])\n"
   ]
  },
  {
   "cell_type": "code",
   "execution_count": 57,
   "metadata": {},
   "outputs": [
    {
     "name": "stdout",
     "output_type": "stream",
     "text": [
      "[[0. 0. 0. 0.]\n",
      " [0. 0. 0. 0.]\n",
      " [0. 0. 0. 0.]]\n",
      "Note: Bydefault It is in float type\n",
      "[[0 0 0 0]\n",
      " [0 0 0 0]\n",
      " [0 0 0 0]]\n"
     ]
    }
   ],
   "source": [
    "#Creating Zero Matrix using zeros()\n",
    "m=np.zeros((3,4))\n",
    "print(m)\n",
    "print(\"Note: Bydefault It is in float type\")\n",
    "m=np.zeros((3,4), dtype=int)\n",
    "print(m)"
   ]
  },
  {
   "cell_type": "code",
   "execution_count": 58,
   "metadata": {},
   "outputs": [
    {
     "name": "stdout",
     "output_type": "stream",
     "text": [
      "[[1. 1. 1. 1.]\n",
      " [1. 1. 1. 1.]\n",
      " [1. 1. 1. 1.]]\n",
      "Note: Bydefault It is in float type\n",
      "[[1 1 1 1]\n",
      " [1 1 1 1]\n",
      " [1 1 1 1]]\n"
     ]
    }
   ],
   "source": [
    "#Creating Zero Matrix using ones()\n",
    "m=np.ones((3,4))\n",
    "print(m)\n",
    "print(\"Note: Bydefault It is in float type\")\n",
    "m=np.ones((3,4), dtype=int)\n",
    "print(m)"
   ]
  },
  {
   "cell_type": "code",
   "execution_count": 62,
   "metadata": {},
   "outputs": [
    {
     "name": "stdout",
     "output_type": "stream",
     "text": [
      "[[1. 0. 0. 0.]\n",
      " [0. 1. 0. 0.]\n",
      " [0. 0. 1. 0.]\n",
      " [0. 0. 0. 1.]]\n",
      "Note: Bydefault It is in float type\n",
      "[[1 0 0 0]\n",
      " [0 1 0 0]\n",
      " [0 0 1 0]\n",
      " [0 0 0 1]]\n"
     ]
    }
   ],
   "source": [
    "#Creating Identity Matrix using eyes()\n",
    "m=np.eye(4)\n",
    "print(m)\n",
    "print(\"Note: Bydefault It is in float type\")\n",
    "m=np.eye(4, dtype=int)\n",
    "print(m)"
   ]
  },
  {
   "cell_type": "code",
   "execution_count": 65,
   "metadata": {},
   "outputs": [
    {
     "name": "stdout",
     "output_type": "stream",
     "text": [
      "[[15  0  0  0]\n",
      " [ 0 12  0  0]\n",
      " [ 0  0 14  0]\n",
      " [ 0  0  0 16]]\n",
      "Note: Bydefault It is in float type\n",
      "[[15  0  0  0]\n",
      " [ 0 12  0  0]\n",
      " [ 0  0 14  0]\n",
      " [ 0  0  0 16]]\n"
     ]
    }
   ],
   "source": [
    "#Creating Diagonal Matrix using diag()\n",
    "m=np.diag([15,12,14,16])\n",
    "print(m)\n",
    "print(\"Note: Bydefault It is in float type\")\n",
    "m=np.diag([15,12,14,16])\n",
    "print(m)"
   ]
  },
  {
   "cell_type": "code",
   "execution_count": 75,
   "metadata": {},
   "outputs": [
    {
     "name": "stdout",
     "output_type": "stream",
     "text": [
      "[10.         10.20408163 10.40816327 10.6122449  10.81632653 11.02040816\n",
      " 11.2244898  11.42857143 11.63265306 11.83673469 12.04081633 12.24489796\n",
      " 12.44897959 12.65306122 12.85714286 13.06122449 13.26530612 13.46938776\n",
      " 13.67346939 13.87755102 14.08163265 14.28571429 14.48979592 14.69387755\n",
      " 14.89795918 15.10204082 15.30612245 15.51020408 15.71428571 15.91836735\n",
      " 16.12244898 16.32653061 16.53061224 16.73469388 16.93877551 17.14285714\n",
      " 17.34693878 17.55102041 17.75510204 17.95918367 18.16326531 18.36734694\n",
      " 18.57142857 18.7755102  18.97959184 19.18367347 19.3877551  19.59183673\n",
      " 19.79591837 20.        ]\n"
     ]
    },
    {
     "data": {
      "text/plain": [
       "50"
      ]
     },
     "execution_count": 75,
     "metadata": {},
     "output_type": "execute_result"
    }
   ],
   "source": [
    "#Creating sample space using linspace() bydefault 50\n",
    "m=np.linspace(start=10,stop=20)\n",
    "print(m)\n",
    "m.size\n"
   ]
  },
  {
   "cell_type": "code",
   "execution_count": 74,
   "metadata": {},
   "outputs": [
    {
     "name": "stdout",
     "output_type": "stream",
     "text": [
      "[10.         10.52631579 11.05263158 11.57894737 12.10526316 12.63157895\n",
      " 13.15789474 13.68421053 14.21052632 14.73684211 15.26315789 15.78947368\n",
      " 16.31578947 16.84210526 17.36842105 17.89473684 18.42105263 18.94736842\n",
      " 19.47368421 20.        ]\n"
     ]
    }
   ],
   "source": [
    "m=np.linspace(start=10,stop=20,num=20)\n",
    "print(m)"
   ]
  },
  {
   "cell_type": "code",
   "execution_count": 17,
   "metadata": {},
   "outputs": [
    {
     "name": "stdout",
     "output_type": "stream",
     "text": [
      "0.007240434747672553\n",
      "[0.61286797 0.33304249 0.98437379 0.63930561 0.99050226]\n",
      "[[0.89261703 0.69440555 0.78692718 0.50124213 0.24066531]\n",
      " [0.115122   0.33145347 0.3585654  0.28668938 0.5508722 ]]\n",
      "[[40 93 79 55]\n",
      " [86 84 86 84]\n",
      " [57 39 88 19]]\n",
      "[[89 84 82 74]\n",
      " [88 93 81 73]\n",
      " [92 93 97 89]]\n",
      "8\n",
      "[[6 8 8 8]\n",
      " [5 5 8 5]\n",
      " [5 8 5 5]]\n"
     ]
    }
   ],
   "source": [
    "#Creating sample space using random() \n",
    "from numpy import random\n",
    "sample=random.rand()\n",
    "print(sample)\n",
    "sample=random.rand(5)\n",
    "print(sample)\n",
    "sample=random.rand(2,5)\n",
    "print(sample)\n",
    "sample=random.randint(100,size=(3,4))\n",
    "print(sample)\n",
    "sample=random.randint(70,100,size=(3,4))\n",
    "print(sample)\n",
    "sample=random.choice([5,6,8])\n",
    "print(sample)\n",
    "sample=random.choice([5,6,8],size=(3,4))\n",
    "print(sample)"
   ]
  },
  {
   "cell_type": "code",
   "execution_count": 19,
   "metadata": {
    "scrolled": true
   },
   "outputs": [
    {
     "name": "stdout",
     "output_type": "stream",
     "text": [
      "[6 8 5 6 8 3 8 6 8 5 6 8 6 5 5 5 6 8 8 3 6 6 8 3 3 6 6 8 5 8 3 6 8 8 6 6 6\n",
      " 6 6 8 3 6 8 3 6 8 3 6 3 5 8 6 6 6 6 6 8 6 8 8 3 8 6 3 6 8 6 8 5 3 8 6 8 8\n",
      " 5 8 3 3 6 6 3 8 6 6 8 6 5 6 8 6 8 6 5 3 3 6 8 6 3 6 8 6 8 6 8 3 3 5 6 8 6\n",
      " 6 6 5 3 3 6 5 6 6 3 6 8 3 8 6 6 5 6 8 3 8 8 8 6 6 5 8 8 8 6 8 6 6 5 6 8 8\n",
      " 5 3 6 8 8 8 3 6 5 3 3 8 6 6 8 6 8 8 8 8 5 5 6 6 8 6 5 6 8 6 6 8 3 5 8 8 8\n",
      " 6 3 6 6 6 8 3 6 6 8 8 8 6 8 6 6 6 6 8 6 8 8 6 3 3 6 8 6 6 6 6 6 8 6 6 3 8\n",
      " 5 8 6 5 3 3 3 6 8 6 6 8 3 6 6 3 6 8 8 5 6 6 3 3 3 8 6 6 3 6 6 8 8 6 6 8 6\n",
      " 8 6 6 8 6 3 6 8 8 3 8 8 8 3 6 5 8 3 6 6 8 3 8 6 6 6 6 6 6 5 8 6 8 3 8 6 6\n",
      " 6 8 8 6]\n"
     ]
    }
   ],
   "source": [
    "from numpy import random\n",
    "sample=random.choice([5,6,8,3],p=[0.1,0.4,0.3,0.2],size=300)\n",
    "print(sample)      "
   ]
  },
  {
   "cell_type": "code",
   "execution_count": 100,
   "metadata": {},
   "outputs": [
    {
     "name": "stdout",
     "output_type": "stream",
     "text": [
      "8 36 34 22\n"
     ]
    }
   ],
   "source": [
    "c5=0\n",
    "c6=0\n",
    "c8=0\n",
    "c3=0\n",
    "for i in sample:\n",
    "    if i==5:\n",
    "        c5+=1\n",
    "    if i==6:\n",
    "        c6+=1\n",
    "    if i==8:\n",
    "        c8+=1\n",
    "    if i==3:\n",
    "        c3+=1\n",
    "print(c5,c6,c8,c3)"
   ]
  },
  {
   "cell_type": "code",
   "execution_count": 109,
   "metadata": {},
   "outputs": [
    {
     "name": "stdout",
     "output_type": "stream",
     "text": [
      "[[ 1  2  3  4]\n",
      " [ 5  6  7  8]\n",
      " [ 9 10 11 12]]\n",
      "78\n",
      "1\n",
      "12\n",
      "3.452052529534663\n",
      "11.916666666666666\n",
      "11.916666666666666\n",
      "0\n",
      "11\n"
     ]
    }
   ],
   "source": [
    "# To find the sum, minimum, maximum, mean, standard deviation and variance \n",
    "m = np.arange(start=1,stop=13)\n",
    "m.resize((3,4))\n",
    "print(m)\n",
    "print(m.sum())\n",
    "print(m.min())\n",
    "print(m.max())\n",
    "print(m.std())\n",
    "print(m.var())\n",
    "print(m.argmin())#minimum index value\n",
    "print(m.argmax())#maximum index value\n"
   ]
  },
  {
   "cell_type": "code",
   "execution_count": 20,
   "metadata": {},
   "outputs": [
    {
     "name": "stdout",
     "output_type": "stream",
     "text": [
      "[3 8 8 6 6 6 8 8 6 6 5 6 6 6 8 3 3 6 8 5 3 8 3 6 5 6 6 6 6 8 3 8 6 6 6 3 8\n",
      " 8 6 8 3 6 3 8 3 8 6 6 6 6 6 8 6 6 8 3 5 5 6 6 8 5 3 3 8 6 8 3 6 3 6 6 5 6\n",
      " 6 8 6 8 6 3 6 3 6 3 6 6 6 5 8 8 5 6 8 8 6 8 8 8 6 3 6 6 3 8 6 6 3 8 6 5 8\n",
      " 3 6 8 6 8 8 8 8 8 5 6 6 8 5 8 3 6 3 6 8 6 8 6 8 6 6 6 8 8 6 6 6 8 6 5 6 6\n",
      " 8 8 6 6 5 6 6 6 6 6 8 8 8 6 8 6 6 3 6 6 3 6 6 3 3 6 8 6 8 6 8 6 3 8 6 6 8\n",
      " 6 8 6 3 6 5 3 8 8 6 3 6 6 8 6 3 5 3 3 8 5 8 8 3 8 6 3 6 8 5 6 6 6 8 8 3 5\n",
      " 8 8 8 5 5 5 8 8 6 5 6 8 6 6 5 6 3 6 6 8 5 8 6 6 6 3 5 3 6 8 3 8 6 8 8 6 5\n",
      " 6 6 8 6 8 5 8 8 8 6 8 6 3 6 5 8 3 3 6 6 5 3 8 6 6 6 3 6 8 3 3 3 6 3 3 3 6\n",
      " 3 6 3 6]\n"
     ]
    }
   ],
   "source": [
    "from numpy import random\n",
    "sample=random.choice([5,6,8,3],p=[0.1,0.4,0.3,0.2],size=300)\n",
    "print(sample)"
   ]
  },
  {
   "cell_type": "markdown",
   "metadata": {},
   "source": [
    "### Numpy Operation"
   ]
  },
  {
   "cell_type": "code",
   "execution_count": null,
   "metadata": {},
   "outputs": [],
   "source": [
    "from numpy import random\n",
    "sample=random.choice([5,6,8,3],p=[0.1,0.4,0.3,0.2],size=300)\n",
    "print(sample)\n"
   ]
  },
  {
   "cell_type": "markdown",
   "metadata": {},
   "source": [
    "# assignment 1\n",
    "# numpy function\n",
    "1)add()\n",
    "2)substract()\n",
    "3)multiply()\n",
    "4)divide()\n",
    "5)power()\n",
    "6)mod()\n",
    "7)remainder()\n",
    "8)divmod()\n",
    "9)absolute()\n",
    "10)around()\n",
    "11)floor()\n",
    "12)cell()\n",
    "13)sum()\n",
    "14)csum()\n",
    "15)prod()\n",
    "16)cumprod()\n",
    "17)diff()\n",
    "18)lcm()\n",
    "19)gcd()\n",
    "20)sin(),cos(),tan()\n",
    "21)deg2rad()\n",
    "22)rad2deg()\n",
    "23)hypot()\n",
    "24)unique()\n",
    "25)unionid()#\n",
    "26)intersectionid()\n",
    "\n",
    "\n"
   ]
  },
  {
   "cell_type": "code",
   "execution_count": 38,
   "metadata": {},
   "outputs": [
    {
     "name": "stdout",
     "output_type": "stream",
     "text": [
      "5\n",
      "4\n",
      "45\n",
      "1.8\n",
      "16\n",
      "4\n",
      "4\n",
      "(1, 4)\n",
      "5.9\n",
      "10.0\n",
      "9.0\n",
      "11\n",
      "[1]\n",
      "30\n",
      "[ 5 30]\n",
      "[ 5 11]\n",
      "12\n",
      "1\n",
      "-0.3048106211022167\n",
      "0.15425144988758405\n",
      "1.6197751905438615\n"
     ]
    },
    {
     "ename": "AttributeError",
     "evalue": "module 'numpy' has no attribute 'deg2rand'",
     "output_type": "error",
     "traceback": [
      "\u001b[1;31m---------------------------------------------------------------------------\u001b[0m",
      "\u001b[1;31mAttributeError\u001b[0m                            Traceback (most recent call last)",
      "\u001b[1;32m<ipython-input-38-dd7fe1e6c2c0>\u001b[0m in \u001b[0;36m<module>\u001b[1;34m\u001b[0m\n\u001b[0;32m     43\u001b[0m \u001b[0mb\u001b[0m\u001b[1;33m=\u001b[0m\u001b[0mnp\u001b[0m\u001b[1;33m.\u001b[0m\u001b[0mtan\u001b[0m\u001b[1;33m(\u001b[0m\u001b[1;36m45\u001b[0m\u001b[1;33m)\u001b[0m\u001b[1;33m\u001b[0m\u001b[1;33m\u001b[0m\u001b[0m\n\u001b[0;32m     44\u001b[0m \u001b[0mprint\u001b[0m\u001b[1;33m(\u001b[0m\u001b[0mb\u001b[0m\u001b[1;33m)\u001b[0m\u001b[1;33m\u001b[0m\u001b[1;33m\u001b[0m\u001b[0m\n\u001b[1;32m---> 45\u001b[1;33m \u001b[0mb\u001b[0m\u001b[1;33m=\u001b[0m\u001b[0mnp\u001b[0m\u001b[1;33m.\u001b[0m\u001b[0mdeg2rand\u001b[0m\u001b[1;33m(\u001b[0m\u001b[1;36m30\u001b[0m\u001b[1;33m,\u001b[0m\u001b[1;36m45\u001b[0m\u001b[1;33m)\u001b[0m\u001b[1;33m\u001b[0m\u001b[1;33m\u001b[0m\u001b[0m\n\u001b[0m\u001b[0;32m     46\u001b[0m \u001b[0mprint\u001b[0m\u001b[1;33m(\u001b[0m\u001b[0mb\u001b[0m\u001b[1;33m)\u001b[0m\u001b[1;33m\u001b[0m\u001b[1;33m\u001b[0m\u001b[0m\n",
      "\u001b[1;32mC:\\ProgramData\\Anaconda3\\lib\\site-packages\\numpy\\__init__.py\u001b[0m in \u001b[0;36m__getattr__\u001b[1;34m(attr)\u001b[0m\n\u001b[0;32m    212\u001b[0m                 \u001b[1;32mreturn\u001b[0m \u001b[0mTester\u001b[0m\u001b[1;33m\u001b[0m\u001b[1;33m\u001b[0m\u001b[0m\n\u001b[0;32m    213\u001b[0m             \u001b[1;32melse\u001b[0m\u001b[1;33m:\u001b[0m\u001b[1;33m\u001b[0m\u001b[1;33m\u001b[0m\u001b[0m\n\u001b[1;32m--> 214\u001b[1;33m                 raise AttributeError(\"module {!r} has no attribute \"\n\u001b[0m\u001b[0;32m    215\u001b[0m                                      \"{!r}\".format(__name__, attr))\n\u001b[0;32m    216\u001b[0m \u001b[1;33m\u001b[0m\u001b[0m\n",
      "\u001b[1;31mAttributeError\u001b[0m: module 'numpy' has no attribute 'deg2rand'"
     ]
    }
   ],
   "source": [
    "#here we have to take the array\n",
    "import numpy as np\n",
    "a=np.add(2,3)\n",
    "print(a)\n",
    "a=np.subtract(9,5)\n",
    "print(a)\n",
    "a=np.multiply(9,5)\n",
    "print(a)\n",
    "a=np.divide(9,5)\n",
    "print(a)\n",
    "a=np.power(4,2)\n",
    "print(a)\n",
    "a=np.mod(9,5)\n",
    "print(a)\n",
    "a=np.remainder(9,5)\n",
    "print(a)\n",
    "a=np.divmod(9,5)\n",
    "print(a)\n",
    "a=np.absolute(5.9)\n",
    "print(a)\n",
    "a=np.around(9.5)\n",
    "print(a)\n",
    "a=np.floor(9.5)\n",
    "print(a)\n",
    "a=np.array([5,6])\n",
    "b=np.sum(a)\n",
    "print(b)\n",
    "b=np.diff(a)\n",
    "print(b)\n",
    "b=np.prod(a)\n",
    "print(b)\n",
    "b=np.cumprod(a)\n",
    "print(b)\n",
    "b=np.cumsum(a)\n",
    "print(b)\n",
    "b=np.lcm(3,4)\n",
    "print(b)\n",
    "b=np.gcd(5,6)\n",
    "print(b)\n",
    "b=np.sin(60)\n",
    "print(b)\n",
    "b=np.cos(30)\n",
    "print(b)\n",
    "b=np.tan(45)\n",
    "print(b)\n",
    "b=np.deg2rand(30)\n",
    "print(b)"
   ]
  },
  {
   "cell_type": "code",
   "execution_count": null,
   "metadata": {},
   "outputs": [],
   "source": []
  }
 ],
 "metadata": {
  "kernelspec": {
   "display_name": "Python 3",
   "language": "python",
   "name": "python3"
  },
  "language_info": {
   "codemirror_mode": {
    "name": "ipython",
    "version": 3
   },
   "file_extension": ".py",
   "mimetype": "text/x-python",
   "name": "python",
   "nbconvert_exporter": "python",
   "pygments_lexer": "ipython3",
   "version": "3.8.5"
  }
 },
 "nbformat": 4,
 "nbformat_minor": 4
}
