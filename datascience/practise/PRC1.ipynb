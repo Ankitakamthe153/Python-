{
 "cells": [
  {
   "cell_type": "code",
   "execution_count": 2,
   "metadata": {},
   "outputs": [
    {
     "name": "stdout",
     "output_type": "stream",
     "text": [
      "enter a number:5\n",
      "5 is an odd number\n"
     ]
    }
   ],
   "source": [
    "n=int(input(\"enter a number:\"))\n",
    "if n%2==0:\n",
    "    print(\"{} is an even number\".format(n))\n",
    "else:\n",
    "    print(\"{} is an odd number\".format(n))"
   ]
  },
  {
   "cell_type": "code",
   "execution_count": 4,
   "metadata": {},
   "outputs": [
    {
     "name": "stdout",
     "output_type": "stream",
     "text": [
      "enter a number:6\n",
      "720\n"
     ]
    }
   ],
   "source": [
    "n=int(input(\"enter a number:\"))\n",
    "fact=1\n",
    "for i in range(1,n+1):\n",
    "    fact=fact*i\n",
    "print(fact)"
   ]
  },
  {
   "cell_type": "code",
   "execution_count": 6,
   "metadata": {},
   "outputs": [
    {
     "name": "stdout",
     "output_type": "stream",
     "text": [
      "enter a number:3\n",
      "3 is a prime number\n"
     ]
    }
   ],
   "source": [
    "n=int(input(\"enter a number:\"))\n",
    "if n>1:\n",
    "    for i in range(2,n):\n",
    "        if n%i==0:\n",
    "            print(n,\"is not an prime number\")\n",
    "            break\n",
    "    else:\n",
    "        print(n,\"is a prime number\")\n",
    "else:\n",
    "    print(n,\"is not a prime number\")\n",
    "      "
   ]
  },
  {
   "cell_type": "code",
   "execution_count": 7,
   "metadata": {},
   "outputs": [
    {
     "name": "stdout",
     "output_type": "stream",
     "text": [
      "enter number of elements:4\n",
      "enter element:34\n",
      "enter element:54\n",
      "enter element:65\n",
      "enter element:13\n",
      "largest element is: 65\n"
     ]
    }
   ],
   "source": [
    "#largest among n digit\n",
    "a=[]\n",
    "n=int(input(\"enter number of elements:\"))\n",
    "for i in range(1,n+1):\n",
    "    b=int(input(\"enter element:\"))\n",
    "    a.append(b)\n",
    "a.sort()\n",
    "print(\"largest element is:\",a[-1])"
   ]
  },
  {
   "cell_type": "code",
   "execution_count": 8,
   "metadata": {},
   "outputs": [
    {
     "name": "stdout",
     "output_type": "stream",
     "text": [
      "enter first number:23\n",
      "enter second number:43\n",
      "number before swapping are a:23 and b:43\n",
      "number after swapping are a:43 and b:23\n"
     ]
    }
   ],
   "source": [
    "#swap two number without using the third variable\n",
    "a=int(input(\"enter first number:\"))\n",
    "b=int(input(\"enter second number:\"))\n",
    "print(\"number before swapping are a:{} and b:{}\".format(a,b))\n",
    "a=a+b\n",
    "b=a-b\n",
    "a=a-b\n",
    "print(\"number after swapping are a:{} and b:{}\".format(a,b))"
   ]
  },
  {
   "cell_type": "code",
   "execution_count": 11,
   "metadata": {},
   "outputs": [
    {
     "name": "stdout",
     "output_type": "stream",
     "text": [
      "fibonacci sequence are:\n",
      "0\n",
      "1\n",
      "1\n",
      "2\n",
      "3\n",
      "5\n",
      "8\n",
      "13\n",
      "21\n",
      "34\n"
     ]
    }
   ],
   "source": [
    "#fibanacci sequence\n",
    "def recur_fibo(n):\n",
    "    if n<=1:\n",
    "        return n\n",
    "    else:\n",
    "        return(recur_fibo(n-1)+recur_fibo(n-2))\n",
    "nterms=10\n",
    "if nterms<=0:\n",
    "    print(\"please enter the positive number\")\n",
    "else:\n",
    "    print(\"fibonacci sequence are:\")\n",
    "    for i in range(nterms):\n",
    "        print(recur_fibo(i))"
   ]
  },
  {
   "cell_type": "code",
   "execution_count": 12,
   "metadata": {},
   "outputs": [
    {
     "name": "stdout",
     "output_type": "stream",
     "text": [
      "the string is pallindrome\n"
     ]
    }
   ],
   "source": [
    "#pallindrome\n",
    "my_str=\"radar\"\n",
    "my_str=my_str.casefold()\n",
    "rev_str=reversed(my_str)\n",
    "if list(my_str)==list(rev_str):\n",
    "    print(\"the string is pallindrome\")\n",
    "else:\n",
    "    print(\"the string is not a pallindrome\")"
   ]
  },
  {
   "cell_type": "code",
   "execution_count": 15,
   "metadata": {},
   "outputs": [
    {
     "name": "stdout",
     "output_type": "stream",
     "text": [
      "enter a number:121\n",
      "the number is a palindrome\n"
     ]
    }
   ],
   "source": [
    "#pallindrome number\n",
    "n=int(input(\"enter a number:\"))\n",
    "temp=n\n",
    "rev=0\n",
    "while(n>0):\n",
    "    dig=n%10\n",
    "    rev=rev*10+dig\n",
    "    n=n//10\n",
    "if(temp==rev):\n",
    "    print(\"the number is a palindrome\")\n",
    "else:\n",
    "    print(\"the number is not a pallindrome\")"
   ]
  },
  {
   "cell_type": "code",
   "execution_count": 18,
   "metadata": {},
   "outputs": [
    {
     "name": "stdout",
     "output_type": "stream",
     "text": [
      "enter number of lines:5\n"
     ]
    },
    {
     "ename": "TypeError",
     "evalue": "unsupported operand type(s) for *: 'NoneType' and 'NoneType'",
     "output_type": "error",
     "traceback": [
      "\u001b[1;31m---------------------------------------------------------------------------\u001b[0m",
      "\u001b[1;31mTypeError\u001b[0m                                 Traceback (most recent call last)",
      "\u001b[1;32m<ipython-input-18-0c5ac55a13e6>\u001b[0m in \u001b[0;36m<module>\u001b[1;34m\u001b[0m\n\u001b[0;32m     10\u001b[0m \u001b[1;32mfor\u001b[0m \u001b[0mx\u001b[0m \u001b[1;32min\u001b[0m \u001b[0mrange\u001b[0m\u001b[1;33m(\u001b[0m\u001b[0mnline\u001b[0m\u001b[1;33m)\u001b[0m\u001b[1;33m:\u001b[0m\u001b[1;33m\u001b[0m\u001b[1;33m\u001b[0m\u001b[0m\n\u001b[0;32m     11\u001b[0m     \u001b[1;32mfor\u001b[0m \u001b[0my\u001b[0m \u001b[1;32min\u001b[0m \u001b[0mrange\u001b[0m\u001b[1;33m(\u001b[0m\u001b[0mx\u001b[0m\u001b[1;33m+\u001b[0m\u001b[1;36m1\u001b[0m\u001b[1;33m)\u001b[0m\u001b[1;33m:\u001b[0m\u001b[1;33m\u001b[0m\u001b[1;33m\u001b[0m\u001b[0m\n\u001b[1;32m---> 12\u001b[1;33m         \u001b[0mprint\u001b[0m\u001b[1;33m(\u001b[0m\u001b[0mfact\u001b[0m\u001b[1;33m(\u001b[0m\u001b[0mx\u001b[0m\u001b[1;33m)\u001b[0m\u001b[1;33m//\u001b[0m\u001b[1;33m(\u001b[0m\u001b[0mfact\u001b[0m\u001b[1;33m(\u001b[0m\u001b[0my\u001b[0m\u001b[1;33m)\u001b[0m \u001b[1;33m*\u001b[0m \u001b[0mfact\u001b[0m\u001b[1;33m(\u001b[0m\u001b[0mx\u001b[0m\u001b[1;33m-\u001b[0m\u001b[0my\u001b[0m\u001b[1;33m)\u001b[0m\u001b[1;33m)\u001b[0m\u001b[1;33m,\u001b[0m\u001b[1;34m\" \"\u001b[0m\u001b[1;33m,\u001b[0m\u001b[0mend\u001b[0m\u001b[1;33m=\u001b[0m\u001b[1;34m\" \"\u001b[0m\u001b[1;33m)\u001b[0m\u001b[1;33m\u001b[0m\u001b[1;33m\u001b[0m\u001b[0m\n\u001b[0m\u001b[0;32m     13\u001b[0m     \u001b[0mprint\u001b[0m\u001b[1;33m(\u001b[0m\u001b[1;33m)\u001b[0m\u001b[1;33m\u001b[0m\u001b[1;33m\u001b[0m\u001b[0m\n",
      "\u001b[1;31mTypeError\u001b[0m: unsupported operand type(s) for *: 'NoneType' and 'NoneType'"
     ]
    }
   ],
   "source": []
  },
  {
   "cell_type": "markdown",
   "metadata": {},
   "source": [
    "perfect number:\n",
    "     a logic beyond the perfect number is that the number is divisible by the any number and its sum is equal to the entered number it is a perfect number else it is not a perfect number\n",
    "     "
   ]
  },
  {
   "cell_type": "code",
   "execution_count": 2,
   "metadata": {},
   "outputs": [
    {
     "name": "stdout",
     "output_type": "stream",
     "text": [
      "enter a number:5\n",
      "5 is not a perfect number\n"
     ]
    }
   ],
   "source": [
    "#perfect number\n",
    "i=1\n",
    "s=0\n",
    "n=int(input(\"enter a number:\"))\n",
    "while i<n:\n",
    "    if(n%i==0):\n",
    "        s=s+i\n",
    "    i+=1\n",
    "if(s==n):\n",
    "    print(n,\"is a perfect number\")\n",
    "else:\n",
    "    print(n,\"is not a perfect number\")"
   ]
  },
  {
   "cell_type": "markdown",
   "metadata": {},
   "source": [
    "armstrong number:\n",
    "   in armstrong number the number is stoared in the temp and then the number is gets under the modulus and then in the another variable the cube of variable where the modulus gets stoared and then find the floor if the entered number and the variable is same ot gives armstrong number."
   ]
  },
  {
   "cell_type": "code",
   "execution_count": 6,
   "metadata": {},
   "outputs": [
    {
     "name": "stdout",
     "output_type": "stream",
     "text": [
      "enter a number:154\n",
      "not an armstrong number\n"
     ]
    }
   ],
   "source": [
    "#armstrong number\n",
    "n=int(input(\"enter a number:\"))\n",
    "temp=n\n",
    "r=0\n",
    "while(n>0):\n",
    "    a=n%10\n",
    "    r=r+a*a*a\n",
    "    n=n//10\n",
    "if(r==temp):\n",
    "    print(\" armstrong number\")\n",
    "else:\n",
    "    print(\"not an armstrong number\")"
   ]
  },
  {
   "cell_type": "markdown",
   "metadata": {},
   "source": [
    "strong number:\n",
    "   strong number is the number in which the sum of the factorial of each digits of the number equals the given number."
   ]
  },
  {
   "cell_type": "code",
   "execution_count": 8,
   "metadata": {},
   "outputs": [
    {
     "name": "stdout",
     "output_type": "stream",
     "text": [
      "enter the number:154\n",
      "154 is not a strong number\n"
     ]
    }
   ],
   "source": [
    "n=int(input(\"enter the number:\"))\n",
    "temp_n=n\n",
    "s=0\n",
    "while(n):\n",
    "    i=1\n",
    "    fact=1\n",
    "    r=n%10\n",
    "    while(i<=r):\n",
    "        fact=fact*i\n",
    "        i+=1\n",
    "    s=s+fact\n",
    "    n=n//10\n",
    "if(s==temp_n):\n",
    "    print(temp_n,\"is a strong number\")\n",
    "else:\n",
    "    print(temp_n,\"is not a strong number\")\n",
    "    \n"
   ]
  },
  {
   "cell_type": "markdown",
   "metadata": {},
   "source": [
    "Automorphic number:\n",
    "    A number is called Automorphic if and only if its square ends with the same digits as the number itself."
   ]
  },
  {
   "cell_type": "code",
   "execution_count": 10,
   "metadata": {},
   "outputs": [
    {
     "name": "stdout",
     "output_type": "stream",
     "text": [
      "enter the number:7\n",
      "7 is not an automorphic number\n"
     ]
    }
   ],
   "source": [
    "n=int(input(\"enter the number:\"))\n",
    "num=n\n",
    "sq=n*n\n",
    "t=10\n",
    "equal=False\n",
    "while(n>0):\n",
    "    r=sq%t\n",
    "    if(num==r):\n",
    "        equal=True\n",
    "        break\n",
    "    n=n//10\n",
    "    t=t*10\n",
    "if(equal):\n",
    "    print(num,\"is a automorphic number\")\n",
    "else:\n",
    "    print(num,\"is not an automorphic number\")\n",
    "        "
   ]
  },
  {
   "cell_type": "code",
   "execution_count": 1,
   "metadata": {},
   "outputs": [
    {
     "name": "stdout",
     "output_type": "stream",
     "text": [
      "enter the number10\n",
      "1\n",
      "2\n",
      "6\n",
      "24\n",
      "120\n",
      "720\n",
      "5040\n",
      "40320\n",
      "362880\n",
      "3628800\n"
     ]
    }
   ],
   "source": [
    "fact=1\n",
    "n=int(input(\"enter the number\"))\n",
    "for i in range(1,n+1):\n",
    "    fact=fact*i\n",
    "    print(fact)"
   ]
  },
  {
   "cell_type": "code",
   "execution_count": 2,
   "metadata": {},
   "outputs": [
    {
     "name": "stdout",
     "output_type": "stream",
     "text": [
      "enter a number:234\n",
      "sum of digit is: 9\n"
     ]
    }
   ],
   "source": [
    "#sum of digit\n",
    "s=0\n",
    "n=int(input(\"enter a number:\"))\n",
    "while (n>0):\n",
    "    dig=n%10\n",
    "    s=s+dig\n",
    "    n=n//10\n",
    "print(\"sum of digit is:\",s)"
   ]
  },
  {
   "cell_type": "code",
   "execution_count": 4,
   "metadata": {},
   "outputs": [
    {
     "name": "stdout",
     "output_type": "stream",
     "text": [
      "enter the radius:12.8\n",
      "the area of a circle is a 514.4576000000001\n"
     ]
    }
   ],
   "source": [
    "#area of circle\n",
    "pi=3.14\n",
    "radius=float(input(\"enter the radius:\"))\n",
    "area=pi*radius**2\n",
    "print(\"the area of a circle is a\",area)"
   ]
  },
  {
   "cell_type": "code",
   "execution_count": 5,
   "metadata": {},
   "outputs": [
    {
     "name": "stdout",
     "output_type": "stream",
     "text": [
      "enter base:3\n",
      "enter height:4\n",
      "area of a triangle is: 6.0\n"
     ]
    }
   ],
   "source": [
    "#area of triangle\n",
    "b=int(input(\"enter base:\"))\n",
    "h=int(input(\"enter height:\"))\n",
    "area=(b*h)/2\n",
    "print(\"area of a triangle is:\",area)"
   ]
  },
  {
   "cell_type": "code",
   "execution_count": 6,
   "metadata": {},
   "outputs": [
    {
     "name": "stdout",
     "output_type": "stream",
     "text": [
      "enter length:5\n",
      "enter height:7\n",
      "area of a rectangle is: 35\n"
     ]
    }
   ],
   "source": [
    "#area of rectangle\n",
    "l=int(input(\"enter length:\"))\n",
    "b=int(input(\"enter height:\"))\n",
    "area=l*b\n",
    "print(\"area of a rectangle is:\",area)"
   ]
  },
  {
   "cell_type": "code",
   "execution_count": 7,
   "metadata": {},
   "outputs": [
    {
     "name": "stdout",
     "output_type": "stream",
     "text": [
      "enter the length of a side:6\n",
      "arear of a square is: 36\n"
     ]
    }
   ],
   "source": [
    "#area of square\n",
    "s=int(input(\"enter the length of a side:\"))\n",
    "a=s**2\n",
    "print(\"arear of a square is:\",a)"
   ]
  },
  {
   "cell_type": "code",
   "execution_count": 8,
   "metadata": {},
   "outputs": [
    {
     "name": "stdout",
     "output_type": "stream",
     "text": [
      "enter the length of diagonal1:4\n",
      "enter the length of diagonal2:5\n",
      "area of the rhombus is: 10.0\n"
     ]
    }
   ],
   "source": [
    "#area of rhombus\n",
    "d1=int(input(\"enter the length of diagonal1:\"))\n",
    "d2=int(input(\"enter the length of diagonal2:\"))\n",
    "a=(d1*d2)/2\n",
    "print(\"area of the rhombus is:\",a)"
   ]
  },
  {
   "cell_type": "code",
   "execution_count": 9,
   "metadata": {},
   "outputs": [
    {
     "name": "stdout",
     "output_type": "stream",
     "text": [
      "enter the radius of the sphere:2\n",
      "the volume of a sphere is: 33.49333333333333\n"
     ]
    }
   ],
   "source": [
    "#volume of sphere\n",
    "r=int(input(\"enter the radius of the sphere:\"))\n",
    "a=(4*3.14*r**3)/3\n",
    "print(\"the volume of a sphere is:\",a)"
   ]
  },
  {
   "cell_type": "code",
   "execution_count": 10,
   "metadata": {},
   "outputs": [
    {
     "name": "stdout",
     "output_type": "stream",
     "text": [
      "enter the radius of the hemisphere:7\n",
      "volume of hemisphere is: 718.0133333333333\n"
     ]
    }
   ],
   "source": [
    "#vloume of hemisphere\n",
    "r=int(input(\"enter the radius of the hemisphere:\"))\n",
    "v=(2*3.14*r**3)/3\n",
    "print(\"volume of hemisphere is:\",v)"
   ]
  },
  {
   "cell_type": "code",
   "execution_count": null,
   "metadata": {},
   "outputs": [],
   "source": []
  }
 ],
 "metadata": {
  "kernelspec": {
   "display_name": "Python 3",
   "language": "python",
   "name": "python3"
  },
  "language_info": {
   "codemirror_mode": {
    "name": "ipython",
    "version": 3
   },
   "file_extension": ".py",
   "mimetype": "text/x-python",
   "name": "python",
   "nbconvert_exporter": "python",
   "pygments_lexer": "ipython3",
   "version": "3.8.5"
  }
 },
 "nbformat": 4,
 "nbformat_minor": 4
}
