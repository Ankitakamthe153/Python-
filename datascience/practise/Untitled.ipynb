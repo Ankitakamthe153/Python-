{
 "cells": [
  {
   "cell_type": "code",
   "execution_count": 1,
   "metadata": {},
   "outputs": [
    {
     "name": "stdout",
     "output_type": "stream",
     "text": [
      "ankitaankitaankitaankita\n"
     ]
    }
   ],
   "source": [
    "#to print the string multiple times\n",
    "s=\"ankita\"\n",
    "print(s*4)"
   ]
  },
  {
   "cell_type": "code",
   "execution_count": 3,
   "metadata": {},
   "outputs": [
    {
     "name": "stdout",
     "output_type": "stream",
     "text": [
      "100\n"
     ]
    }
   ],
   "source": [
    "#write a program to find squre of a any number\n",
    "def square(n):\n",
    "    return n**2\n",
    "a=square(10)\n",
    "print(a)"
   ]
  },
  {
   "cell_type": "code",
   "execution_count": 4,
   "metadata": {},
   "outputs": [
    {
     "name": "stdout",
     "output_type": "stream",
     "text": [
      "13\n"
     ]
    }
   ],
   "source": [
    "#w.r.t. a program to find the sum of the square\n",
    "def sum_of_square(a,b):\n",
    "    return square(a)+square(b)\n",
    "a=sum_of_square(2,3)\n",
    "print(a)"
   ]
  },
  {
   "cell_type": "code",
   "execution_count": 5,
   "metadata": {},
   "outputs": [
    {
     "name": "stdout",
     "output_type": "stream",
     "text": [
      "1\n"
     ]
    }
   ],
   "source": [
    "#w.r.t. a function to find the difference between two number\n",
    "def diff(a,b):\n",
    "    return a-b\n",
    "a=diff(5,4)\n",
    "print(a)"
   ]
  },
  {
   "cell_type": "code",
   "execution_count": 6,
   "metadata": {},
   "outputs": [
    {
     "name": "stdout",
     "output_type": "stream",
     "text": [
      "enter the number:3\n",
      "enter the amount to want to increment:3\n",
      "6\n"
     ]
    }
   ],
   "source": [
    "#w.r.t. a function to take the input and increment to the given amount\n",
    "def increment(n,amount):\n",
    "    return n+amount\n",
    "n=int(input(\"enter the number:\"))\n",
    "amount=int(input(\"enter the amount to want to increment:\"))\n",
    "a=increment(n,amount)\n",
    "print(a)"
   ]
  },
  {
   "cell_type": "code",
   "execution_count": 7,
   "metadata": {},
   "outputs": [
    {
     "name": "stdout",
     "output_type": "stream",
     "text": [
      "enter the number:4\n",
      "even number\n"
     ]
    }
   ],
   "source": [
    "#w.r.t. a function to find the number is even or odd\n",
    "n=int(input(\"enter the number:\"))\n",
    "if n%2==0:\n",
    "    print(\"even number\")\n",
    "else:\n",
    "    print(\"odd number\")"
   ]
  },
  {
   "cell_type": "code",
   "execution_count": 9,
   "metadata": {},
   "outputs": [
    {
     "name": "stdout",
     "output_type": "stream",
     "text": [
      "enter the number:45\n",
      "two digit number\n"
     ]
    }
   ],
   "source": [
    "#w.r.t. a function to find the number is two digit, three digit or a big number\n",
    "def num(n):\n",
    "    if n<10:\n",
    "        print(\"one digit number\")\n",
    "    elif n<100:\n",
    "        print(\"two digit number\")\n",
    "    else:\n",
    "        print(\"big number\")\n",
    "n=int(input(\"enter the number:\"))\n",
    "num(n)"
   ]
  },
  {
   "cell_type": "code",
   "execution_count": 10,
   "metadata": {},
   "outputs": [
    {
     "data": {
      "text/plain": [
       "'Sat Mar 27 05:30:21 2021'"
      ]
     },
     "execution_count": 10,
     "metadata": {},
     "output_type": "execute_result"
    }
   ],
   "source": [
    "import time\n",
    "time.asctime()"
   ]
  },
  {
   "cell_type": "code",
   "execution_count": 11,
   "metadata": {},
   "outputs": [
    {
     "name": "stdout",
     "output_type": "stream",
     "text": [
      "[0, 1, [3]]\n"
     ]
    }
   ],
   "source": [
    "x=[0,1,[2]]\n",
    "x[2][0]=3\n",
    "print(x)"
   ]
  },
  {
   "cell_type": "code",
   "execution_count": 12,
   "metadata": {},
   "outputs": [
    {
     "name": "stdout",
     "output_type": "stream",
     "text": [
      "[0, 1, [3, 4]]\n"
     ]
    }
   ],
   "source": [
    "x[2].append(4)\n",
    "print(x)"
   ]
  },
  {
   "cell_type": "code",
   "execution_count": 14,
   "metadata": {},
   "outputs": [
    {
     "name": "stdout",
     "output_type": "stream",
     "text": [
      "ankita 1\n",
      "dolly 2\n",
      "vaishnavi 3\n"
     ]
    }
   ],
   "source": [
    "#here we have to merge the two element of the two different list using the zip() function\n",
    "name=[\"ankita\",\"dolly\",\"vaishnavi\"]\n",
    "value=[1,2,3]\n",
    "for name, values in zip(name,value):\n",
    "    print(name,values)"
   ]
  },
  {
   "cell_type": "code",
   "execution_count": 15,
   "metadata": {},
   "outputs": [
    {
     "name": "stdout",
     "output_type": "stream",
     "text": [
      "24\n"
     ]
    }
   ],
   "source": [
    "#w.r.t. a program to find the multiplication of the element present in the list\n",
    "list=[1,2,3,4]\n",
    "s=1\n",
    "for i in range(0,len(list)):\n",
    "    s=s*list[i]\n",
    "print(s)"
   ]
  },
  {
   "cell_type": "code",
   "execution_count": 16,
   "metadata": {},
   "outputs": [
    {
     "name": "stdout",
     "output_type": "stream",
     "text": [
      "10\n"
     ]
    }
   ],
   "source": [
    "#w.r.t. a program to find the sum of the element present in the list\n",
    "list=[1,2,3,4]\n",
    "s=0\n",
    "for i in range(0,len(list)):\n",
    "    s=s+list[i]\n",
    "print(s)\n",
    "    "
   ]
  },
  {
   "cell_type": "code",
   "execution_count": 17,
   "metadata": {},
   "outputs": [
    {
     "name": "stdout",
     "output_type": "stream",
     "text": [
      "enter the number to find the factorial of the number:5\n",
      "120\n"
     ]
    }
   ],
   "source": [
    "#w.r.t. a function to find the factorial of the given number\n",
    "def fact(n):\n",
    "    fact=1\n",
    "    for i in range(1,n+1):\n",
    "        fact=fact*i\n",
    "    return fact\n",
    "n=int(input(\"enter the number to find the factorial of the number:\"))\n",
    "a=fact(n)\n",
    "print(a)"
   ]
  },
  {
   "cell_type": "code",
   "execution_count": 18,
   "metadata": {},
   "outputs": [
    {
     "name": "stdout",
     "output_type": "stream",
     "text": [
      "enter the number with commas:1,2,3,4,5\n",
      "the given list is: ['1', '2', '3', '4', '5']\n",
      "reversed list is: ['5', '4', '3', '2', '1']\n"
     ]
    }
   ],
   "source": [
    "#w.r.t. a program to take the input to the list and reversed that list\n",
    "value=input(\"enter the number with commas:\")\n",
    "list=value.split(\",\")\n",
    "print(\"the given list is:\",list)\n",
    "print(\"reversed list is:\",list[::-1])"
   ]
  },
  {
   "cell_type": "code",
   "execution_count": 20,
   "metadata": {},
   "outputs": [
    {
     "name": "stdout",
     "output_type": "stream",
     "text": [
      "[1, 3, 6, 10]\n"
     ]
    }
   ],
   "source": [
    "#w.r.t. a program to find the cumulative sum of the element given in the list\n",
    "def cumulative_sum(list):\n",
    "    s=0\n",
    "    list1=[]\n",
    "    for i in range(0,len(list)):\n",
    "        s=s+list[i]\n",
    "        list1.append(s)\n",
    "    print(list1)\n",
    "list=[1,2,3,4]\n",
    "cumulative_sum(list)\n",
    "        "
   ]
  },
  {
   "cell_type": "code",
   "execution_count": 23,
   "metadata": {},
   "outputs": [
    {
     "name": "stdout",
     "output_type": "stream",
     "text": [
      "[1, 2, 6, 24]\n"
     ]
    }
   ],
   "source": [
    "#w.r.t. a program to find the cumulative product of the element given in the list\n",
    "def cumulative_product(list):\n",
    "    s=1\n",
    "    list1=[]\n",
    "    for i in range(0,len(list)):\n",
    "        s=s*list[i]\n",
    "        list1.append(s)\n",
    "    print(list1)\n",
    "list=[1,2,3,4]\n",
    "cumulative_product(list)"
   ]
  },
  {
   "cell_type": "code",
   "execution_count": 24,
   "metadata": {},
   "outputs": [
    {
     "name": "stdout",
     "output_type": "stream",
     "text": [
      "[-1, -3, -6, -10]\n"
     ]
    }
   ],
   "source": [
    "#w.r.t. a program to find the cumulative difference of the element given in the list\n",
    "def cumulative_difference(list):\n",
    "    s=0\n",
    "    list1=[]\n",
    "    for i in range(0,len(list)):\n",
    "        s=s-list[i]\n",
    "        list1.append(s)\n",
    "    print(list1)\n",
    "list=[1,2,3,4]\n",
    "cumulative_difference(list)"
   ]
  },
  {
   "cell_type": "code",
   "execution_count": 25,
   "metadata": {},
   "outputs": [
    {
     "name": "stdout",
     "output_type": "stream",
     "text": [
      "[1.0, 0.5, 0.16666666666666666, 0.041666666666666664]\n"
     ]
    }
   ],
   "source": [
    "#w.r.t. a program to find the cumulative division of the element given in the list\n",
    "def cumulative_division(list):\n",
    "    s=1\n",
    "    list1=[]\n",
    "    for i in range(0,len(list)):\n",
    "        s=s/list[i]\n",
    "        list1.append(s)\n",
    "    print(list1)\n",
    "list=[1,2,3,4]\n",
    "cumulative_division(list)"
   ]
  },
  {
   "cell_type": "code",
   "execution_count": 26,
   "metadata": {},
   "outputs": [
    {
     "name": "stdout",
     "output_type": "stream",
     "text": [
      "[1, 2, 3, 4]\n"
     ]
    }
   ],
   "source": [
    "#w.r.t. a function to find the unique element in the list\n",
    "def unique(n):\n",
    "    unique_list=[]\n",
    "    for i in n:\n",
    "        if i not in unique_list:\n",
    "            unique_list.append(i)\n",
    "    print(unique_list)\n",
    "unique([1,2,1,3,2,4])"
   ]
  },
  {
   "cell_type": "code",
   "execution_count": 28,
   "metadata": {},
   "outputs": [
    {
     "name": "stdout",
     "output_type": "stream",
     "text": [
      "[1, 2, 5]\n"
     ]
    }
   ],
   "source": [
    "#w.r.t. a functioon to find the duplicate value in the list\n",
    "def dup(n):\n",
    "    repeated=[]\n",
    "    for i in range(len(n)):\n",
    "        k=i+1\n",
    "        for j in range(k,len(n)):\n",
    "            if n[i]==n[j] and n[i] not in repeated:\n",
    "                repeated.append(n[i])\n",
    "    print(repeated)\n",
    "dup([1,2,3,2,5,1,5])\n",
    "        "
   ]
  },
  {
   "cell_type": "code",
   "execution_count": 30,
   "metadata": {},
   "outputs": [
    {
     "name": "stdout",
     "output_type": "stream",
     "text": [
      "enter the size:5\n",
      "[1, 2, 3, 4, 5]\n",
      "[6, 7, 8, 9, 10]\n"
     ]
    }
   ],
   "source": [
    "#w.r.t. a function group(list,size) that take a list and split into smaller lists of given size.\n",
    "def group(list,n):\n",
    "    for i in range(0,len(list),n):\n",
    "        print(list[i:i+n])\n",
    "n=int(input(\"enter the size:\"))\n",
    "list=[1,2,3,4,5,6,7,8,9,10]\n",
    "group(list,n)"
   ]
  },
  {
   "cell_type": "code",
   "execution_count": 31,
   "metadata": {},
   "outputs": [
    {
     "name": "stdout",
     "output_type": "stream",
     "text": [
      "[1, 2, 3, 5, 7]\n"
     ]
    }
   ],
   "source": [
    "#sorting list\n",
    "list=[2,5,1,7,3]\n",
    "list.sort()\n",
    "print(list)"
   ]
  },
  {
   "cell_type": "code",
   "execution_count": 32,
   "metadata": {},
   "outputs": [
    {
     "name": "stdout",
     "output_type": "stream",
     "text": [
      "1\n"
     ]
    }
   ],
   "source": [
    "#find minimum element in the list\n",
    "print(list[0])"
   ]
  },
  {
   "cell_type": "code",
   "execution_count": 33,
   "metadata": {},
   "outputs": [
    {
     "name": "stdout",
     "output_type": "stream",
     "text": [
      "7\n"
     ]
    }
   ],
   "source": [
    "#find maximum element in the list\n",
    "print(list[-1])"
   ]
  },
  {
   "cell_type": "code",
   "execution_count": 34,
   "metadata": {},
   "outputs": [
    {
     "name": "stdout",
     "output_type": "stream",
     "text": [
      "2\n"
     ]
    }
   ],
   "source": [
    "#find second smallest element\n",
    "print(list[1])"
   ]
  },
  {
   "cell_type": "code",
   "execution_count": 35,
   "metadata": {},
   "outputs": [
    {
     "name": "stdout",
     "output_type": "stream",
     "text": [
      "5\n"
     ]
    }
   ],
   "source": [
    "#fiind the second largest element\n",
    "print(list[-2])"
   ]
  },
  {
   "cell_type": "code",
   "execution_count": 36,
   "metadata": {},
   "outputs": [
    {
     "name": "stdout",
     "output_type": "stream",
     "text": [
      "[7, 5, 3, 2, 1]\n"
     ]
    }
   ],
   "source": [
    "#reversed the list\n",
    "print(list[::-1])"
   ]
  },
  {
   "cell_type": "code",
   "execution_count": 37,
   "metadata": {},
   "outputs": [
    {
     "name": "stdout",
     "output_type": "stream",
     "text": [
      "[7, 5, 3, 2, 1]\n"
     ]
    }
   ],
   "source": [
    "#sort the list in descending order\n",
    "list.sort()\n",
    "print(list[::-1])"
   ]
  },
  {
   "cell_type": "code",
   "execution_count": 40,
   "metadata": {},
   "outputs": [
    {
     "name": "stdout",
     "output_type": "stream",
     "text": [
      "[[2, 4], [3, 1]]\n"
     ]
    }
   ],
   "source": [
    "#sorting between two list\n",
    "a=[[3,1],[2,4]]\n",
    "a.sort()\n",
    "print(a)"
   ]
  },
  {
   "cell_type": "code",
   "execution_count": 42,
   "metadata": {},
   "outputs": [
    {
     "name": "stdout",
     "output_type": "stream",
     "text": [
      "[[1, 3], [3, 1], [4, 6]]\n"
     ]
    }
   ],
   "source": [
    "#sort the element based on the first element\n",
    "a=[[1,3],[4,6],[3,1]]\n",
    "a.sort(key=lambda x:x[0])\n",
    "print(a)"
   ]
  },
  {
   "cell_type": "code",
   "execution_count": 43,
   "metadata": {},
   "outputs": [
    {
     "name": "stdout",
     "output_type": "stream",
     "text": [
      "[[4, 1], [1, 2], [3, 4]]\n"
     ]
    }
   ],
   "source": [
    "#sort the element based on the last element\n",
    "a=[[3,4],[1,2],[4,1]]\n",
    "a.sort(key=lambda x:x[-1])\n",
    "print(a)"
   ]
  },
  {
   "cell_type": "code",
   "execution_count": 44,
   "metadata": {},
   "outputs": [
    {
     "name": "stdout",
     "output_type": "stream",
     "text": [
      "[[1, 3, 2], [4, 6, 5], [7, 8, 9]]\n"
     ]
    }
   ],
   "source": [
    "#sort the element based on the second element\n",
    "a=[[1,3,2],[4,6,5],[7,8,9]]\n",
    "a.sort(key=lambda x:x[1])\n",
    "print(a)"
   ]
  },
  {
   "cell_type": "code",
   "execution_count": 45,
   "metadata": {},
   "outputs": [
    {
     "name": "stdout",
     "output_type": "stream",
     "text": [
      "['c', 'java', 'perl', 'html', 'python']\n"
     ]
    }
   ],
   "source": [
    "#sort the list using the length of the string\n",
    "list=['python','java','c','perl','html']\n",
    "print(sorted(list,key=len))"
   ]
  },
  {
   "cell_type": "code",
   "execution_count": 46,
   "metadata": {},
   "outputs": [
    {
     "name": "stdout",
     "output_type": "stream",
     "text": [
      "['td', 'ol', 'pr', 'my']\n"
     ]
    }
   ],
   "source": [
    "#sort the list using the last element of the list\n",
    "list=['my','td','ol','pr']\n",
    "list.sort(key=lambda x:x[-1])\n",
    "print(list)"
   ]
  },
  {
   "cell_type": "code",
   "execution_count": 50,
   "metadata": {},
   "outputs": [
    {
     "name": "stdout",
     "output_type": "stream",
     "text": [
      "[1, 4, 9, 16]\n"
     ]
    }
   ],
   "source": [
    "#compresed method to find the square of the element in the list\n",
    "list=[1,2,3,4]\n",
    "square=[x*x for x in list]\n",
    "print(square)"
   ]
  },
  {
   "cell_type": "code",
   "execution_count": 53,
   "metadata": {},
   "outputs": [
    {
     "name": "stdout",
     "output_type": "stream",
     "text": [
      "['ANKITA', 'DOLLY', 'OM']\n"
     ]
    }
   ],
   "source": [
    "#to print the element in the list in capital letter\n",
    "list=['ankita','dolly','om']\n",
    "a=[i.upper() for i in list]\n",
    "print(a)"
   ]
  },
  {
   "cell_type": "code",
   "execution_count": 54,
   "metadata": {},
   "outputs": [
    {
     "name": "stdout",
     "output_type": "stream",
     "text": [
      "['MANGO', 'BANANA', 'GRAPES', 'ORANGE', 'TOMATO']\n"
     ]
    }
   ],
   "source": [
    "#having the a in the names of fruit\n",
    "list=['mango','banana','grapes','orange','kiwi','tomato']\n",
    "a=[i.upper() for i in list if 'a' in i]\n",
    "print(a)"
   ]
  },
  {
   "cell_type": "code",
   "execution_count": 55,
   "metadata": {},
   "outputs": [
    {
     "name": "stdout",
     "output_type": "stream",
     "text": [
      "(1, 2, 3, 4)\n"
     ]
    }
   ],
   "source": [
    "a=(1,2,3,4)\n",
    "print(a)"
   ]
  },
  {
   "cell_type": "code",
   "execution_count": 56,
   "metadata": {},
   "outputs": [
    {
     "name": "stdout",
     "output_type": "stream",
     "text": [
      "{1, 2, 3, 4}\n"
     ]
    }
   ],
   "source": [
    "a=set([1,2,3,4])\n",
    "print(a)"
   ]
  },
  {
   "cell_type": "code",
   "execution_count": 57,
   "metadata": {},
   "outputs": [
    {
     "name": "stdout",
     "output_type": "stream",
     "text": [
      "{1, 2, 3, 4, 5}\n"
     ]
    }
   ],
   "source": [
    "a.add(5)\n",
    "print(a)"
   ]
  },
  {
   "cell_type": "code",
   "execution_count": 59,
   "metadata": {},
   "outputs": [
    {
     "name": "stdout",
     "output_type": "stream",
     "text": [
      "{1, 2, 3, 4}\n"
     ]
    }
   ],
   "source": [
    "#implement unique function using the set\n",
    "def nu(x):\n",
    "    n=set([])\n",
    "    for i in x:\n",
    "        if i not in n:\n",
    "            n.add(i)\n",
    "    print(n)\n",
    "x=set([1,2,3,4,2,3])\n",
    "nu(x)"
   ]
  },
  {
   "cell_type": "code",
   "execution_count": 60,
   "metadata": {},
   "outputs": [
    {
     "data": {
      "text/plain": [
       "['ankita', 'kamthe']"
      ]
     },
     "execution_count": 60,
     "metadata": {},
     "output_type": "execute_result"
    }
   ],
   "source": [
    "\"ankita kamthe\".split()"
   ]
  },
  {
   "cell_type": "code",
   "execution_count": 61,
   "metadata": {},
   "outputs": [
    {
     "data": {
      "text/plain": [
       "['a', 'b', 'c']"
      ]
     },
     "execution_count": 61,
     "metadata": {},
     "output_type": "execute_result"
    }
   ],
   "source": [
    "\"a,b,c\".split(\",\")"
   ]
  },
  {
   "cell_type": "code",
   "execution_count": 62,
   "metadata": {},
   "outputs": [
    {
     "data": {
      "text/plain": [
       "'hello world'"
      ]
     },
     "execution_count": 62,
     "metadata": {},
     "output_type": "execute_result"
    }
   ],
   "source": [
    "\" \".join([\"hello\",\"world\"])"
   ]
  },
  {
   "cell_type": "code",
   "execution_count": 63,
   "metadata": {},
   "outputs": [
    {
     "data": {
      "text/plain": [
       "'abcd'"
      ]
     },
     "execution_count": 63,
     "metadata": {},
     "output_type": "execute_result"
    }
   ],
   "source": [
    "#strip\n",
    "\"abcdefg\".strip(\"efg\")"
   ]
  },
  {
   "cell_type": "code",
   "execution_count": 64,
   "metadata": {},
   "outputs": [
    {
     "data": {
      "text/plain": [
       "'chapter:2:data structure'"
      ]
     },
     "execution_count": 64,
     "metadata": {},
     "output_type": "execute_result"
    }
   ],
   "source": [
    "'chapter:%d:%s'%(2,'data structure')"
   ]
  },
  {
   "cell_type": "code",
   "execution_count": null,
   "metadata": {},
   "outputs": [],
   "source": []
  }
 ],
 "metadata": {
  "kernelspec": {
   "display_name": "Python 3",
   "language": "python",
   "name": "python3"
  },
  "language_info": {
   "codemirror_mode": {
    "name": "ipython",
    "version": 3
   },
   "file_extension": ".py",
   "mimetype": "text/x-python",
   "name": "python",
   "nbconvert_exporter": "python",
   "pygments_lexer": "ipython3",
   "version": "3.8.5"
  }
 },
 "nbformat": 4,
 "nbformat_minor": 4
}
