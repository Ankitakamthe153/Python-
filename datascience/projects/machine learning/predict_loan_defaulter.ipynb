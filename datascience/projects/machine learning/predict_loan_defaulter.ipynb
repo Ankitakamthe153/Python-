{
 "cells": [
  {
   "cell_type": "markdown",
   "metadata": {},
   "source": [
    "# Introduction"
   ]
  },
  {
   "cell_type": "markdown",
   "metadata": {},
   "source": [
    "This case study aims to give us an idea of applying EDA in a real business scenario. In this case study, apart from applying the techniques that\n",
    "we have learnt in the EDA module, we will also develop a basic understanding of risk analytics in banking and nancial services and understand\n",
    "how data is used to minimise the risk of losing money while lending to customers."
   ]
  },
  {
   "cell_type": "markdown",
   "metadata": {},
   "source": [
    "# Business Understanding"
   ]
  },
  {
   "cell_type": "markdown",
   "metadata": {},
   "source": [
    "The loan providing companies nd it hard to give loans to the people due to their insucient or non-existent credit history. Because of that,\n",
    "some consumers use it as their advantage by becoming a defaulter. Suppose you work for a consumer nance company which specialises in\n",
    "lending various types of loans to urban customers. You have to use EDA to analyse the patterns present in the data. This will ensure that the\n",
    "applicants are capable of repaying the loan are not rejected.\n",
    "When the company receives a loan application, the company has to decide for loan approval based on the applicant’s prole. Two types of risks\n",
    "are associated with the bank’s decision:\n",
    "If the applicant is likely to repay the loan, then not approving the loan results in a loss of business to the company\n",
    "If the applicant is not likely to repay the loan, i.e. he/she is likely to default, then approving the loan may lead to a nancial loss for the company.\n",
    "The data given below contains the information about the loan application at the time of applying for the loan. It contains two types of\n",
    "scenarios:\n",
    "The client with payment diculties: he/she had late payment more than X days on at least one of the rst Y instalments of the loan in our\n",
    "sample,\n",
    "All other cases: All other cases when the payment is paid on time.\n",
    "When a client applies for a loan, there are four types of decisions that could be taken by the client/company):\n",
    "The Company has approved loan Application\n",
    "Cancelled:\n",
    "The client cancelled the application sometime during approval. Either the client changed her/his mind about the loan or in some cases due to a\n",
    "higher risk of the client he received worse pricing which he did not want.\n",
    "Refused:\n",
    "The company had rejected the loan (because the client does not meet their requirements etc\n",
    "Unused offer:\n",
    "Loan has been cancelled by the client but on different stages of the process.\n"
   ]
  },
  {
   "cell_type": "markdown",
   "metadata": {},
   "source": [
    "# Business Objectives"
   ]
  },
  {
   "cell_type": "markdown",
   "metadata": {},
   "source": [
    "The case study aims to identify patterns which indicate if a client has diculty paying their installments which may be used for taking actions\n",
    "such as denying the loan, reducing the amount of loan, lending (to risky applicants) at a higher interest rate, etc. This will ensure that the\n",
    "consumers capable of repaying the loan are not rejected. Identication of such applicants using EDA is the aim of this case study.\n",
    "In other words, the company wants to understand the driving factors (or driver variables) behind loan default, i.e. the variables which are strong\n",
    "indicators of default. The company can utilise this knowledge for its portfolio and risk assessment.\n"
   ]
  },
  {
   "cell_type": "markdown",
   "metadata": {},
   "source": [
    "# IMPORTING LIBRARIES"
   ]
  },
  {
   "cell_type": "code",
   "execution_count": null,
   "metadata": {},
   "outputs": [],
   "source": [
    "import numpy as np\n",
    "import matplotlib.pyplot as plt\n",
    "%matplotlib inline\n",
    "import pandas as pd\n",
    "import seaborn as sns\n",
    "import warnings\n",
    "warnings.filterwarnings(\"ignore\")\n",
    "import itertools"
   ]
  },
  {
   "cell_type": "markdown",
   "metadata": {},
   "source": [
    "# Importing Data"
   ]
  },
  {
   "cell_type": "code",
   "execution_count": null,
   "metadata": {},
   "outputs": [],
   "source": [
    "application_data = pd.read_csv(r'/kaggle/input/application_data.csv')\n",
    "previous_application = pd.read_csv(r'/kaggle/input/previous_application.csv')\n",
    "columns_description = pd.read_csv(r'/kaggle/input/columns_description.csv',skiprows=1)"
   ]
  },
  {
   "cell_type": "markdown",
   "metadata": {},
   "source": [
    "# Data Dimensions"
   ]
  },
  {
   "cell_type": "code",
   "execution_count": null,
   "metadata": {},
   "outputs": [],
   "source": [
    "print (\"application_data :\",application_data.shape)\n",
    "print (\"previous_application :\",previous_application.shape)\n",
    "print (\"columns_description :\",columns_description.shape)"
   ]
  },
  {
   "cell_type": "markdown",
   "metadata": {},
   "source": [
    "# First Few rows of Data"
   ]
  },
  {
   "cell_type": "code",
   "execution_count": null,
   "metadata": {},
   "outputs": [],
   "source": [
    "pd.set_option(\"display.max_rows\", None, \"display.max_columns\", None)\n",
    "display(\"application_data\")\n",
    "display(application_data.head(3))"
   ]
  },
  {
   "cell_type": "code",
   "execution_count": null,
   "metadata": {},
   "outputs": [],
   "source": [
    "display(\"previous_application \")\n",
    "display(previous_application.head(3))"
   ]
  },
  {
   "cell_type": "markdown",
   "metadata": {},
   "source": [
    "# Term Dictionary"
   ]
  },
  {
   "cell_type": "code",
   "execution_count": null,
   "metadata": {},
   "outputs": [],
   "source": [
    "display(\"columns_description\")\n",
    "pd.set_option('display.max_colwidth', -1)\n",
    "columns_description=columns_description.drop(['1'],axis=1)\n",
    "display(columns_description)"
   ]
  },
  {
   "cell_type": "markdown",
   "metadata": {},
   "source": [
    "# Percentage of Missing values in previous_application"
   ]
  },
  {
   "cell_type": "code",
   "execution_count": null,
   "metadata": {},
   "outputs": [],
   "source": [
    "fig = plt.figure(figsize=(18,6))\n",
    "miss_previous_application = pd.DataFrame((previous_application.isnull().sum())*100/previous_application.shape[0]).reset_index()\n",
    "miss_previous_application[\"type\"] = \"previous_application\"\n",
    "ax = sns.pointplot(\"index\",0,data=miss_previous_application,hue=\"type\")\n",
    "plt.xticks(rotation =90,fontsize =7)\n",
    "plt.title(\"Percentage of Missing values in previous_application)\n",
    "plt.ylabel(\"PERCENTAGE\")\n",
    "plt.xlabel(\"COLUMNS\")\n",
    "ax.set_facecolor(\"k\")\n",
    "fig.set_facecolor(\"lightgrey\")"
   ]
  },
  {
   "cell_type": "code",
   "execution_count": null,
   "metadata": {},
   "outputs": [],
   "source": [
    "round(100*(previous_application.isnull().sum()/len(previous_application.index)),2)"
   ]
  },
  {
   "cell_type": "markdown",
   "metadata": {},
   "source": [
    "# Removing columns with missing values more than 50%"
   ]
  },
  {
   "cell_type": "markdown",
   "metadata": {},
   "source": [
    "As per Industrial Standard, max Threshold limit can be between 40% to 50 % depending upon the data acquired in specic sector"
   ]
  },
  {
   "cell_type": "code",
   "execution_count": null,
   "metadata": {},
   "outputs": [],
   "source": [
    "previous_application=previous_application.drop([ 'AMT_DOWN_PAYMENT', 'RATE_DOWN_PAYMENT', 'RATE_INTEREST_PRIMARY',\n",
    " \"RATE_INTEREST_PRIVILEGED\"],axis=1)\n",
    "fig = plt.figure(figsize=(18,6))\n",
    "miss_previous_application = pd.DataFrame((previous_application.isnull().sum())*100/previous_application.shape[0]).reset_index()\n",
    "miss_previous_application[\"type\"] = \"previous_application\"\n",
    "ax = sns.pointplot(\"index\",0,data=miss_previous_application,hue=\"type\")\n",
    "plt.xticks(rotation =90,fontsize =7)\n",
    "plt.title(\"Percentage of Missing values in previous_application\")\n",
    "plt.ylabel(\"PERCENTAGE\")\n",
    "plt.xlabel(\"COLUMNS\")\n",
    "ax.set_facecolor(\"k\")\n",
    "fig.set_facecolor(\"lightgrey)"
   ]
  },
  {
   "cell_type": "code",
   "execution_count": null,
   "metadata": {},
   "outputs": [],
   "source": [
    "round(100*(previous_application.isnull().sum()/len(previous_application.index)),2)"
   ]
  },
  {
   "cell_type": "markdown",
   "metadata": {},
   "source": [
    "# MISSING values Suggestion"
   ]
  },
  {
   "cell_type": "code",
   "execution_count": null,
   "metadata": {},
   "outputs": [],
   "source": [
    "print(\"AMT_ANNUITY NULL COUNT:\" ,previous_application['AMT_ANNUITY'].isnull().sum())\n",
    "AMT_ANNUITY NULL COUNT: 372235\n",
    "previous_application['AMT_ANNUITY'].describe()"
   ]
  },
  {
   "cell_type": "code",
   "execution_count": null,
   "metadata": {},
   "outputs": [],
   "source": [
    "sns.set_style('whitegrid')\n",
    "sns.distplot(previous_application['AMT_ANNUITY'])\n",
    "plt.show()"
   ]
  },
  {
   "cell_type": "markdown",
   "metadata": {},
   "source": [
    "# Suggestion"
   ]
  },
  {
   "cell_type": "markdown",
   "metadata": {},
   "source": [
    "We can Fill NA with 15955 i.e. Mean for this field"
   ]
  },
  {
   "cell_type": "code",
   "execution_count": null,
   "metadata": {},
   "outputs": [],
   "source": [
    "print(\"AMT_GOODS_PRICE NULL COUNT:\" ,previous_application['AMT_GOODS_PRICE'].isnull().sum())"
   ]
  },
  {
   "cell_type": "code",
   "execution_count": null,
   "metadata": {},
   "outputs": [],
   "source": [
    "previous_application['AMT_GOODS_PRICE'].describe()"
   ]
  },
  {
   "cell_type": "code",
   "execution_count": null,
   "metadata": {},
   "outputs": [],
   "source": [
    "sns.set_style('whitegrid')\n",
    "sns.distplot(previous_application['AMT_GOODS_PRICE'])\n",
    "plt.show()"
   ]
  },
  {
   "cell_type": "markdown",
   "metadata": {},
   "source": [
    "We can Fill NA with 112320 i.e. Median for this field"
   ]
  },
  {
   "cell_type": "code",
   "execution_count": null,
   "metadata": {},
   "outputs": [],
   "source": [
    "print(\"NAME_TYPE_SUITE NULL COUNT:\" ,previous_application['NAME_TYPE_SUITE'].isnull().sum())"
   ]
  },
  {
   "cell_type": "code",
   "execution_count": null,
   "metadata": {},
   "outputs": [],
   "source": [
    "previous_application['NAME_TYPE_SUITE'].value_counts()"
   ]
  },
  {
   "cell_type": "markdown",
   "metadata": {},
   "source": [
    "We can Fill NA with Unaccompanied i.e. Mode for this field"
   ]
  },
  {
   "cell_type": "code",
   "execution_count": null,
   "metadata": {},
   "outputs": [],
   "source": [
    "print(\"CNT_PAYMENT NULL COUNT:\" ,previous_application['CNT_PAYMENT'].isnull().sum())"
   ]
  },
  {
   "cell_type": "code",
   "execution_count": null,
   "metadata": {},
   "outputs": [],
   "source": [
    "previous_application['CNT_PAYMENT'].describe()"
   ]
  },
  {
   "cell_type": "code",
   "execution_count": null,
   "metadata": {},
   "outputs": [],
   "source": [
    "sns.set_style('whitegrid')\n",
    "sns.boxplot(previous_application['CNT_PAYMENT'])\n",
    "plt.show()"
   ]
  },
  {
   "cell_type": "markdown",
   "metadata": {},
   "source": [
    "We can Fill NA with 12 i.e. Median for this field"
   ]
  },
  {
   "cell_type": "code",
   "execution_count": null,
   "metadata": {},
   "outputs": [],
   "source": [
    "print(\"DAYS_FIRST_DRAWING :\" ,previous_application['CNT_PAYMENT'].isnull().sum())"
   ]
  },
  {
   "cell_type": "code",
   "execution_count": null,
   "metadata": {},
   "outputs": [],
   "source": [
    "previous_application['DAYS_FIRST_DRAWING'].describe()"
   ]
  },
  {
   "cell_type": "code",
   "execution_count": null,
   "metadata": {},
   "outputs": [],
   "source": [
    "sns.set_style('whitegrid')\n",
    "sns.boxplot(previous_application['DAYS_FIRST_DRAWING'])\n",
    "plt.show()"
   ]
  },
  {
   "cell_type": "markdown",
   "metadata": {},
   "source": [
    "We can Fill NA with 365243 i.e. Median for this field"
   ]
  },
  {
   "cell_type": "code",
   "execution_count": null,
   "metadata": {},
   "outputs": [],
   "source": [
    "print(\"DAYS_FIRST_DUE :\" ,previous_application['DAYS_FIRST_DUE'].isnull().sum())"
   ]
  },
  {
   "cell_type": "code",
   "execution_count": null,
   "metadata": {},
   "outputs": [],
   "source": [
    "previous_application['DAYS_FIRST_DUE'].describe()"
   ]
  },
  {
   "cell_type": "code",
   "execution_count": null,
   "metadata": {},
   "outputs": [],
   "source": [
    "sns.set_style('whitegrid')\n",
    "sns.boxplot(previous_application['DAYS_FIRST_DUE'])\n",
    "plt.show()"
   ]
  },
  {
   "cell_type": "markdown",
   "metadata": {},
   "source": [
    "We can Fill NA with -831 i.e. Median for this filed"
   ]
  },
  {
   "cell_type": "code",
   "execution_count": null,
   "metadata": {},
   "outputs": [],
   "source": [
    "print(\"DAYS_LAST_DUE_1ST_VERSION :\" ,previous_application['DAYS_LAST_DUE_1ST_VERSION'].isnull().sum())"
   ]
  },
  {
   "cell_type": "code",
   "execution_count": null,
   "metadata": {},
   "outputs": [],
   "source": [
    "previous_application['DAYS_LAST_DUE_1ST_VERSION'].describe()"
   ]
  },
  {
   "cell_type": "code",
   "execution_count": null,
   "metadata": {},
   "outputs": [],
   "source": [
    "sns.set_style('whitegrid')\n",
    "sns.boxplot(previous_application['DAYS_LAST_DUE_1ST_VERSION']) \n",
    "plt.show()"
   ]
  },
  {
   "cell_type": "markdown",
   "metadata": {},
   "source": [
    "We can Fill NA with -361 i.e. Median for this field"
   ]
  },
  {
   "cell_type": "code",
   "execution_count": null,
   "metadata": {},
   "outputs": [],
   "source": [
    "print(\"DAYS_LAST_DUE:\" ,previous_application['DAYS_LAST_DUE'].isnull().sum())"
   ]
  },
  {
   "cell_type": "code",
   "execution_count": null,
   "metadata": {},
   "outputs": [],
   "source": [
    "previous_application['DAYS_LAST_DUE'].describe()\n"
   ]
  },
  {
   "cell_type": "code",
   "execution_count": null,
   "metadata": {},
   "outputs": [],
   "source": [
    "sns.set_style('whitegrid')\n",
    "sns.boxplot(previous_application['DAYS_LAST_DUE'])\n",
    "plt.show()"
   ]
  },
  {
   "cell_type": "markdown",
   "metadata": {},
   "source": [
    "We can Fill NA with -537 i.e. Median for this field"
   ]
  },
  {
   "cell_type": "code",
   "execution_count": null,
   "metadata": {},
   "outputs": [],
   "source": [
    "print(\"DAYS_TERMINATION :\" ,previous_application['DAYS_TERMINATION'].isnull().sum())"
   ]
  },
  {
   "cell_type": "code",
   "execution_count": null,
   "metadata": {},
   "outputs": [],
   "source": [
    "previous_application['DAYS_TERMINATION'].describe()"
   ]
  },
  {
   "cell_type": "code",
   "execution_count": null,
   "metadata": {},
   "outputs": [],
   "source": [
    "sns.set_style('whitegrid')\n",
    "sns.boxplot(previous_application['DAYS_TERMINATION'])\n",
    "plt.show()"
   ]
  },
  {
   "cell_type": "markdown",
   "metadata": {},
   "source": [
    "We can Fill NA with -499 i.e. Median for this field"
   ]
  },
  {
   "cell_type": "code",
   "execution_count": null,
   "metadata": {},
   "outputs": [],
   "source": [
    "print(\"NFLAG_INSURED_ON_APPROVAL:\" ,previous_application['NFLAG_INSURED_ON_APPROVAL'].isnull().sum())"
   ]
  },
  {
   "cell_type": "code",
   "execution_count": null,
   "metadata": {},
   "outputs": [],
   "source": [
    "previous_application['NFLAG_INSURED_ON_APPROVAL'].value_counts()"
   ]
  },
  {
   "cell_type": "markdown",
   "metadata": {},
   "source": [
    "We can Fill NA with 0 i.e. Mode for this field"
   ]
  },
  {
   "cell_type": "code",
   "execution_count": null,
   "metadata": {},
   "outputs": [],
   "source": [
    "previous_application.isnull().sum()"
   ]
  },
  {
   "cell_type": "code",
   "execution_count": null,
   "metadata": {},
   "outputs": [],
   "source": [
    "print(\"AMT_CREDIT :\" ,previous_application['AMT_CREDIT'].isnull().sum())"
   ]
  },
  {
   "cell_type": "code",
   "execution_count": null,
   "metadata": {},
   "outputs": [],
   "source": [
    "previous_application['AMT_CREDIT'].describe()"
   ]
  },
  {
   "cell_type": "code",
   "execution_count": null,
   "metadata": {},
   "outputs": [],
   "source": [
    "sns.set_style('whitegrid')\n",
    "sns.boxplot(previous_application['AMT_CREDIT'])\n",
    "plt.show()"
   ]
  },
  {
   "cell_type": "markdown",
   "metadata": {},
   "source": [
    "We can Fill NA with 80541 i.e. Median for this field"
   ]
  },
  {
   "cell_type": "code",
   "execution_count": null,
   "metadata": {},
   "outputs": [],
   "source": [
    "print(\"PRODUCT_COMBINATION :\" ,previous_application['PRODUCT_COMBINATION'].isnull().sum())"
   ]
  },
  {
   "cell_type": "code",
   "execution_count": null,
   "metadata": {},
   "outputs": [],
   "source": [
    "previous_application['PRODUCT_COMBINATION'].value_counts()"
   ]
  },
  {
   "cell_type": "markdown",
   "metadata": {},
   "source": [
    "We can Fill NA with Cash i.e. Mode for this field"
   ]
  },
  {
   "cell_type": "code",
   "execution_count": null,
   "metadata": {},
   "outputs": [],
   "source": [
    "class color:\n",
    " PURPLE = '\\033[95m'\n",
    " CYAN = '\\033[96m'\n",
    " DARKCYAN = '\\033[36m'\n",
    " BLUE = '\\033[94m'\n",
    " GREEN = '\\033[92m'\n",
    " YELLOW = '\\033[93m'\n",
    " RED = '\\033[91m'\n",
    " BOLD = '\\033[1m'\n",
    " UNDERLINE = '\\033[4m'\n",
    " END = '\\033[0m'"
   ]
  },
  {
   "cell_type": "markdown",
   "metadata": {},
   "source": [
    "# Separating numerical and categorical columns from previous_application\n"
   ]
  },
  {
   "cell_type": "code",
   "execution_count": null,
   "metadata": {},
   "outputs": [],
   "source": [
    "obj_dtypes = [i for i in previous_application.select_dtypes(include=np.object).columns if i not in [\"type\"] ]\n",
    "num_dtypes = [i for i in previous_application.select_dtypes(include = np.number).columns if i not in ['SK_ID_CURR'] + [ 'TARGET']]"
   ]
  },
  {
   "cell_type": "code",
   "execution_count": null,
   "metadata": {},
   "outputs": [],
   "source": [
    "print(color.BOLD + color.PURPLE + 'Categorical Columns' + color.END, \"\\n\")\n",
    "for x in range(len(obj_dtypes)):\n",
    " print(obj_dtypes[x])"
   ]
  },
  {
   "cell_type": "code",
   "execution_count": null,
   "metadata": {},
   "outputs": [],
   "source": [
    "print(color.BOLD + color.PURPLE + 'Numerical' + color.END, \"\\n\")\n",
    "for x in range(len(obj_dtypes)):\n",
    " print(obj_dtypes[x])"
   ]
  },
  {
   "cell_type": "markdown",
   "metadata": {},
   "source": [
    "# Percentage of Missing values in application_data"
   ]
  },
  {
   "cell_type": "code",
   "execution_count": null,
   "metadata": {},
   "outputs": [],
   "source": [
    "fig = plt.figure(figsize=(18,6))\n",
    "miss_application_data = pd.DataFrame((application_data.isnull().sum())*100/application_data.shape[0]).reset_index()\n",
    "miss_application_data[\"type\"] = \"application_data\"\n",
    "ax = sns.pointplot(\"index\",0,data=miss_application_data,hue=\"type\")\n",
    "plt.xticks(rotation =90,fontsize =7)\n",
    "plt.title(\"Percentage of Missing values in application_data\")\n",
    "plt.ylabel(\"PERCENTAGE\")\n",
    "plt.xlabel(\"COLUMNS\")\n",
    "ax.set_facecolor(\"k\")\n",
    "fig.set_facecolor(\"lightgrey\")"
   ]
  },
  {
   "cell_type": "code",
   "execution_count": null,
   "metadata": {},
   "outputs": [],
   "source": [
    "round(100*(application_data.isnull().sum()/len(application_data.index)),2)"
   ]
  },
  {
   "cell_type": "markdown",
   "metadata": {},
   "source": [
    "# Removing columns with missing values more than 40%"
   ]
  },
  {
   "cell_type": "code",
   "execution_count": null,
   "metadata": {},
   "outputs": [],
   "source": [
    "application_data=application_data.drop([ 'EXT_SOURCE_1', 'EXT_SOURCE_2', 'EXT_SOURCE_3',\n",
    " 'APARTMENTS_AVG', 'BASEMENTAREA_AVG', 'YEARS_BEGINEXPLUATATION_AVG',\n",
    " 'YEARS_BUILD_AVG', 'COMMONAREA_AVG', 'ELEVATORS_AVG', 'ENTRANCES_AVG',\n",
    " 'FLOORSMAX_AVG', 'FLOORSMIN_AVG', 'LANDAREA_AVG',\n",
    " 'LIVINGAPARTMENTS_AVG', 'LIVINGAREA_AVG', 'NONLIVINGAPARTMENTS_AVG',\n",
    " 'NONLIVINGAREA_AVG', 'APARTMENTS_MODE', 'BASEMENTAREA_MODE',\n",
    " 'YEARS_BEGINEXPLUATATION_MODE', 'YEARS_BUILD_MODE', 'COMMONAREA_MODE',\n",
    " 'ELEVATORS_MODE', 'ENTRANCES_MODE', 'FLOORSMAX_MODE', 'FLOORSMIN_MODE',\n",
    " 'LANDAREA_MODE', 'LIVINGAPARTMENTS_MODE', 'LIVINGAREA_MODE','NONLIVINGAPARTMENTS_MODE', 'NONLIVINGAREA_MODE', 'APARTMENTS_MEDI',\n",
    " 'BASEMENTAREA_MEDI', 'YEARS_BEGINEXPLUATATION_MEDI', 'YEARS_BUILD_MEDI',\n",
    " 'COMMONAREA_MEDI', 'ELEVATORS_MEDI', 'ENTRANCES_MEDI', 'FLOORSMAX_MEDI',\n",
    " 'FLOORSMIN_MEDI', 'LANDAREA_MEDI', 'LIVINGAPARTMENTS_MEDI',\n",
    " 'LIVINGAREA_MEDI', 'NONLIVINGAPARTMENTS_MEDI', 'NONLIVINGAREA_MEDI',\n",
    " 'FONDKAPREMONT_MODE', 'HOUSETYPE_MODE', 'TOTALAREA_MODE',\n",
    " 'WALLSMATERIAL_MODE', 'EMERGENCYSTATE_MODE',\"OWN_CAR_AGE\",\"OCCUPATION_TYPE\"],axis=1)"
   ]
  },
  {
   "cell_type": "code",
   "execution_count": null,
   "metadata": {},
   "outputs": [],
   "source": [
    "fig = plt.figure(figsize=(18,6))\n",
    "miss_application_data = pd.DataFrame((application_data.isnull().sum())*100/application_data.shape[0]).reset_index()\n",
    "miss_application_data[\"type\"] = \"application_data\"\n",
    "ax = sns.pointplot(\"index\",0,data=miss_application_data,hue=\"type\")\n",
    "plt.xticks(rotation =90,fontsize =7)\n",
    "plt.title(\"Percentage of Missing values in application_data\")\n",
    "plt.ylabel(\"PERCENTAGE\")\n",
    "plt.xlabel(\"COLUMNS\")\n",
    "ax.set_facecolor(\"k\")\n",
    "fig.set_facecolor(\"lightgrey\")"
   ]
  },
  {
   "cell_type": "code",
   "execution_count": null,
   "metadata": {},
   "outputs": [],
   "source": [
    "round(100*(application_data.isnull().sum()/len(application_data.index)),2)\n"
   ]
  },
  {
   "cell_type": "markdown",
   "metadata": {},
   "source": [
    "# MISSING values Suggestion"
   ]
  },
  {
   "cell_type": "code",
   "execution_count": null,
   "metadata": {},
   "outputs": [],
   "source": [
    "print(\"AMT_REQ_CREDIT_BUREAU_DAY NAN COUNT :\" ,application_data['AMT_REQ_CREDIT_BUREAU_DAY'].isnull().sum())"
   ]
  },
  {
   "cell_type": "code",
   "execution_count": null,
   "metadata": {},
   "outputs": [],
   "source": [
    "application_data['AMT_REQ_CREDIT_BUREAU_DAY'].describe()"
   ]
  },
  {
   "cell_type": "markdown",
   "metadata": {},
   "source": [
    "We can Fill NA with 0 i.e. Median for this field"
   ]
  },
  {
   "cell_type": "code",
   "execution_count": null,
   "metadata": {},
   "outputs": [],
   "source": [
    "print(\"AMT_REQ_CREDIT_BUREAU_HOUR NAN COUNT :\" ,application_data['AMT_REQ_CREDIT_BUREAU_HOUR'].isnull().sum())\n"
   ]
  },
  {
   "cell_type": "code",
   "execution_count": null,
   "metadata": {},
   "outputs": [],
   "source": [
    "application_data['AMT_REQ_CREDIT_BUREAU_HOUR'].describe()"
   ]
  },
  {
   "cell_type": "markdown",
   "metadata": {},
   "source": [
    "We can Fill NA with 0 i.e. Median for this field"
   ]
  },
  {
   "cell_type": "code",
   "execution_count": null,
   "metadata": {},
   "outputs": [],
   "source": [
    "print(\"AMT_REQ_CREDIT_BUREAU_MON NAN COUNT :\" ,application_data['AMT_REQ_CREDIT_BUREAU_MON'].isnull().sum())"
   ]
  },
  {
   "cell_type": "code",
   "execution_count": null,
   "metadata": {},
   "outputs": [],
   "source": [
    "application_data['AMT_REQ_CREDIT_BUREAU_MON'].describe()"
   ]
  },
  {
   "cell_type": "markdown",
   "metadata": {},
   "source": [
    "We can Fill NA with 0 i.e. Median for this field"
   ]
  },
  {
   "cell_type": "code",
   "execution_count": null,
   "metadata": {},
   "outputs": [],
   "source": [
    "print(\"AMT_REQ_CREDIT_BUREAU_QRT NAN COUNT :\" ,application_data['AMT_REQ_CREDIT_BUREAU_QRT'].isnull().sum())"
   ]
  },
  {
   "cell_type": "code",
   "execution_count": null,
   "metadata": {},
   "outputs": [],
   "source": [
    "application_data['AMT_REQ_CREDIT_BUREAU_WEEK'].describe()"
   ]
  },
  {
   "cell_type": "markdown",
   "metadata": {},
   "source": [
    "We can Fill NA with 0 i.e. Median for this field"
   ]
  },
  {
   "cell_type": "code",
   "execution_count": null,
   "metadata": {},
   "outputs": [],
   "source": [
    "print(\"AMT_REQ_CREDIT_BUREAU_YEAR NAN COUNT :\" ,application_data['AMT_REQ_CREDIT_BUREAU_YEAR'].isnull().sum())"
   ]
  },
  {
   "cell_type": "code",
   "execution_count": null,
   "metadata": {},
   "outputs": [],
   "source": [
    "application_data['AMT_REQ_CREDIT_BUREAU_YEAR'].describe()"
   ]
  },
  {
   "cell_type": "markdown",
   "metadata": {},
   "source": [
    "We can Fill NA with 0 i.e. Median for this field"
   ]
  },
  {
   "cell_type": "code",
   "execution_count": null,
   "metadata": {},
   "outputs": [],
   "source": [
    "print(\"DEF_30_CNT_SOCIAL_CIRCLE NAN COUNT :\" ,application_data['DEF_30_CNT_SOCIAL_CIRCLE'].isnull().sum())"
   ]
  },
  {
   "cell_type": "code",
   "execution_count": null,
   "metadata": {},
   "outputs": [],
   "source": [
    "application_data['DEF_30_CNT_SOCIAL_CIRCLE'].describe()"
   ]
  },
  {
   "cell_type": "markdown",
   "metadata": {},
   "source": [
    "We can Fill NA with 0 i.e. Median for this field"
   ]
  },
  {
   "cell_type": "code",
   "execution_count": null,
   "metadata": {},
   "outputs": [],
   "source": [
    "print(\"DEF_30_CNT_SOCIAL_CIRCLE :\" ,application_data['DEF_30_CNT_SOCIAL_CIRCLE'].isnull().sum())"
   ]
  },
  {
   "cell_type": "code",
   "execution_count": null,
   "metadata": {},
   "outputs": [],
   "source": [
    "application_data['DEF_30_CNT_SOCIAL_CIRCLE'].describe()"
   ]
  },
  {
   "cell_type": "markdown",
   "metadata": {},
   "source": [
    "We can Fill NA with 0 i.e. Median for this field\n"
   ]
  },
  {
   "cell_type": "code",
   "execution_count": null,
   "metadata": {},
   "outputs": [],
   "source": [
    "print(\"OBS_60_CNT_SOCIAL_CIRCLE :\" ,application_data['OBS_60_CNT_SOCIAL_CIRCLE'].isnull().sum())"
   ]
  },
  {
   "cell_type": "code",
   "execution_count": null,
   "metadata": {},
   "outputs": [],
   "source": [
    "application_data['OBS_60_CNT_SOCIAL_CIRCLE'].describe()"
   ]
  },
  {
   "cell_type": "markdown",
   "metadata": {},
   "source": [
    "We can Fill NA with 0 i.e. Median for this field"
   ]
  },
  {
   "cell_type": "code",
   "execution_count": null,
   "metadata": {},
   "outputs": [],
   "source": [
    "print(\"DEF_60_CNT_SOCIAL_CIRCLE :\" ,application_data['DEF_60_CNT_SOCIAL_CIRCLE'].isnull().sum())"
   ]
  },
  {
   "cell_type": "code",
   "execution_count": null,
   "metadata": {},
   "outputs": [],
   "source": [
    "application_data['DEF_60_CNT_SOCIAL_CIRCLE'].describe()"
   ]
  },
  {
   "cell_type": "markdown",
   "metadata": {},
   "source": [
    "We can Fill NA with 0 i.e. Median for this field"
   ]
  },
  {
   "cell_type": "code",
   "execution_count": null,
   "metadata": {},
   "outputs": [],
   "source": [
    "application_data.isnull().sum()\n"
   ]
  },
  {
   "cell_type": "code",
   "execution_count": null,
   "metadata": {},
   "outputs": [],
   "source": [
    "print(\"AMT_ANNUITY :\" ,application_data['AMT_ANNUITY'].isnull().sum())"
   ]
  },
  {
   "cell_type": "code",
   "execution_count": null,
   "metadata": {},
   "outputs": [],
   "source": [
    "application_data['AMT_ANNUITY'].describe()"
   ]
  },
  {
   "cell_type": "code",
   "execution_count": null,
   "metadata": {},
   "outputs": [],
   "source": [
    "sns.set_style('whitegrid')\n",
    "sns.distplot(application_data['AMT_ANNUITY'])\n",
    "plt.show()"
   ]
  },
  {
   "cell_type": "markdown",
   "metadata": {},
   "source": [
    "We can Fill NA with 0 i.e. Mean for this eld as it's right skewed graph"
   ]
  },
  {
   "cell_type": "code",
   "execution_count": null,
   "metadata": {},
   "outputs": [],
   "source": [
    "print(\"AMT_GOODS_PRICE :\" ,application_data['AMT_GOODS_PRICE'].isnull().sum())"
   ]
  },
  {
   "cell_type": "code",
   "execution_count": null,
   "metadata": {},
   "outputs": [],
   "source": [
    "application_data['AMT_GOODS_PRICE'].describe()"
   ]
  },
  {
   "cell_type": "code",
   "execution_count": null,
   "metadata": {},
   "outputs": [],
   "source": [
    "sns.set_style('whitegrid')\n",
    "sns.distplot(application_data['AMT_GOODS_PRICE'])\n",
    "plt.show()\n"
   ]
  },
  {
   "cell_type": "markdown",
   "metadata": {},
   "source": [
    "We can Fill NA with 0 i.e. Mean for this eld as it's right skewed graph\n"
   ]
  },
  {
   "cell_type": "code",
   "execution_count": null,
   "metadata": {},
   "outputs": [],
   "source": [
    "print(\"NAME_TYPE_SUITE :\" ,application_data['NAME_TYPE_SUITE'].isnull().sum())"
   ]
  },
  {
   "cell_type": "code",
   "execution_count": null,
   "metadata": {},
   "outputs": [],
   "source": [
    "application_data['NAME_TYPE_SUITE'].value_counts()"
   ]
  },
  {
   "cell_type": "markdown",
   "metadata": {},
   "source": [
    "We can Fill NA with \"Unaccompanied\" i.e. Mode for this field"
   ]
  },
  {
   "cell_type": "code",
   "execution_count": null,
   "metadata": {},
   "outputs": [],
   "source": [
    "print(\"CNT_FAM_MEMBERS :\" ,application_data['CNT_FAM_MEMBERS'].isnull().sum())"
   ]
  },
  {
   "cell_type": "code",
   "execution_count": null,
   "metadata": {},
   "outputs": [],
   "source": [
    "application_data['CNT_FAM_MEMBERS'].describe()"
   ]
  },
  {
   "cell_type": "code",
   "execution_count": null,
   "metadata": {},
   "outputs": [],
   "source": [
    "sns.set_style('whitegrid')\n",
    "sns.distplot(application_data['CNT_FAM_MEMBERS'])\n",
    "plt.show()"
   ]
  },
  {
   "cell_type": "markdown",
   "metadata": {},
   "source": [
    "We can Fill NA with \"Unaccompanied\" i.e. Mode for this field"
   ]
  },
  {
   "cell_type": "code",
   "execution_count": null,
   "metadata": {},
   "outputs": [],
   "source": [
    "print(\"CNT_FAM_MEMBERS :\" ,application_data['CNT_FAM_MEMBERS'].isnull().sum())"
   ]
  },
  {
   "cell_type": "code",
   "execution_count": null,
   "metadata": {},
   "outputs": [],
   "source": [
    "application_data['CNT_FAM_MEMBERS'].describe()"
   ]
  },
  {
   "cell_type": "code",
   "execution_count": null,
   "metadata": {},
   "outputs": [],
   "source": [
    "sns.set_style('whitegrid')\n",
    "sns.distplot(application_data['CNT_FAM_MEMBERS'])\n",
    "plt.show()"
   ]
  },
  {
   "cell_type": "markdown",
   "metadata": {},
   "source": [
    "We can Fill NA with 2 i.e. Median for this eld, Mean is not be used as this eld needs to be Whole number"
   ]
  },
  {
   "cell_type": "code",
   "execution_count": null,
   "metadata": {},
   "outputs": [],
   "source": [
    "print(\"DAYS_LAST_PHONE_CHANGE :\" ,application_data['DAYS_LAST_PHONE_CHANGE'].isnull().sum())"
   ]
  },
  {
   "cell_type": "code",
   "execution_count": null,
   "metadata": {},
   "outputs": [],
   "source": [
    "application_data['DAYS_LAST_PHONE_CHANGE'].describe()"
   ]
  },
  {
   "cell_type": "code",
   "execution_count": null,
   "metadata": {},
   "outputs": [],
   "source": [
    "import statistics\n",
    "statistics.mode(application_data['DAYS_LAST_PHONE_CHANGE'])"
   ]
  },
  {
   "cell_type": "markdown",
   "metadata": {},
   "source": [
    "# Print the information about the attributes of application_data"
   ]
  },
  {
   "cell_type": "code",
   "execution_count": null,
   "metadata": {},
   "outputs": [],
   "source": [
    "print(type(application_data.info()))"
   ]
  },
  {
   "cell_type": "markdown",
   "metadata": {},
   "source": [
    "# Converting negative values to absolute values"
   ]
  },
  {
   "cell_type": "code",
   "execution_count": null,
   "metadata": {},
   "outputs": [],
   "source": [
    "application_data['DAYS_BIRTH'] = abs(application_data['DAYS_BIRTH'])\n",
    "application_data['DAYS_ID_PUBLISH'] = abs(application_data['DAYS_ID_PUBLISH'])\n",
    "application_data['DAYS_ID_PUBLISH'] = abs(application_data['DAYS_ID_PUBLISH'])\n",
    "application_data['DAYS_LAST_PHONE_CHANGE'] = abs(application_data['DAYS_LAST_PHONE_CHANGE'])\n",
    "display(\"application_data\")\n",
    "display(application_data.head())"
   ]
  },
  {
   "cell_type": "markdown",
   "metadata": {},
   "source": [
    "# Separating numerical and categorical in application_data"
   ]
  },
  {
   "cell_type": "code",
   "execution_count": null,
   "metadata": {},
   "outputs": [],
   "source": [
    "obj_dtypes = [i for i in application_data.select_dtypes(include=np.object).columns if i not in [\"type\"] ]\n",
    "num_dtypes = [i for i in application_data.select_dtypes(include = np.number).columns if i not in ['SK_ID_CURR'] + [ 'TARGET']]\n",
    "print(color.BOLD + color.PURPLE + 'Categorical Columns' + color.END, \"\\n\")\n",
    "for x in range(len(obj_dtypes)):\n",
    " print(obj_dtypes[x])\n"
   ]
  },
  {
   "cell_type": "code",
   "execution_count": null,
   "metadata": {},
   "outputs": [],
   "source": [
    "print(color.BOLD + color.PURPLE +\"Numerical Columns\" + color.END, \"\\n\")\n",
    "for x in range(len(num_dtypes)):\n",
    " print(num_dtypes[x])"
   ]
  },
  {
   "cell_type": "markdown",
   "metadata": {},
   "source": [
    "# Imbalance percentage"
   ]
  },
  {
   "cell_type": "code",
   "execution_count": null,
   "metadata": {},
   "outputs": [],
   "source": [
    "fig = plt.figure(figsize=(13,6))\n",
    "plt.subplot(121)\n",
    "application_data[\"CODE_GENDER\"].value_counts().plot.pie(autopct = \"%1.0f%%\",colors = [\"red\",\"yellow\"],startangle = 60,\n",
    " wedgeprops={\"linewidth\":2,\"edgecolor\":\"k\"},explode=[.05,0,0],sha)\n",
    "plt.title(\"Distribution of gender\")\n",
    "plt.show()"
   ]
  },
  {
   "cell_type": "markdown",
   "metadata": {},
   "source": [
    "It's non balanced data"
   ]
  },
  {
   "cell_type": "markdown",
   "metadata": {},
   "source": [
    "# Distribution of Target variable"
   ]
  },
  {
   "cell_type": "code",
   "execution_count": null,
   "metadata": {},
   "outputs": [],
   "source": [
    "plt.figure(figsize=(14,7))\n",
    "plt.subplot(121)\n",
    "application_data[\"TARGET\"].value_counts().plot.pie(autopct = \"%1.0f%%\",colors = sns.color_palette(\"prism\",7),startangle = 60,labels=[\"re\n",
    " wedgeprops={\"linewidth\":2,\"edgecolor\":\"k\"},explode=[.1,0],shadow\n",
    "plt.title(\"Distribution of target variable\")\n",
    "plt.subplot(122)\n",
    "ax = application_data[\"TARGET\"].value_counts().plot(kind=\"barh\")\n",
    "for i,j in enumerate(application_data[\"TARGET\"].value_counts().values):\n",
    " ax.text(.7,i,j,weight = \"bold\",fontsize=20)\n",
    "plt.title(\"Count of target variable\")\n",
    "plt.show()"
   ]
  },
  {
   "cell_type": "markdown",
   "metadata": {},
   "source": [
    "8% out of total client population have diculties in repaying loans."
   ]
  },
  {
   "cell_type": "markdown",
   "metadata": {},
   "source": [
    "# Concatenating application_data and previous_application\n"
   ]
  },
  {
   "cell_type": "code",
   "execution_count": null,
   "metadata": {},
   "outputs": [],
   "source": [
    "application_data_x = application_data[[x for x in application_data.columns if x not in [\"TARGET\"]]]\n",
    "previous_application_x = previous_application[[x for x in previous_application.columns if x not in [\"TARGET\"]]]\n",
    "application_data_x[\"type\"] = \"application_data\"\n",
    "previous_application_x[\"type\"] = \"previous_application\"\n",
    "data = pd.concat([application_data_x,previous_application_x],axis=0) "
   ]
  },
  {
   "cell_type": "markdown",
   "metadata": {},
   "source": [
    "# Distribution in Contract types in application_data"
   ]
  },
  {
   "cell_type": "code",
   "execution_count": null,
   "metadata": {},
   "outputs": [],
   "source": [
    "plt.figure(figsize=(14,7))\n",
    "plt.subplot(121)\n",
    "data[data[\"type\"] == \"application_data\"][\"NAME_CONTRACT_TYPE\"].value_counts().plot.pie(autopct = \"%1.0f%%\",colors = [\"orange\",\"red\"],sta\n",
    " wedgeprops={\"linewidth\":2,\"edgecolor\":\"white\"},shadow =True)\n",
    "circ = plt.Circle((0,0),.7,color=\"white\")\n",
    "plt.gca().add_artist(circ)\n",
    "plt.title(\"distribution of contract types in application_data\")\n",
    "plt.subplot(122)\n",
    "data[data[\"type\"] == \"previous_application\"][\"NAME_CONTRACT_TYPE\"].value_counts().plot.pie(autopct = \"%1.2f%%\",colors = [\"red\",\"yellow\",\n",
    " wedgeprops={\"linewidth\":2,\"edgecolor\":\"white\"},shadow =True)\n",
    " circ = plt.Circle((0,0),.7,color=\"white\")\n",
    "plt.gca().add_artist(circ)\n",
    "plt.ylabel(\"\")\n",
    "plt.title(\"distribution of contract types in previous_application\")\n",
    "plt.show()\n",
    "plt.show()                                                                                                                        "
   ]
  },
  {
   "cell_type": "markdown",
   "metadata": {},
   "source": [
    "The percentage of revolving loans and cash loans are 10% & 90%."
   ]
  },
  {
   "cell_type": "markdown",
   "metadata": {},
   "source": [
    "# Gender Distribution in application_data"
   ]
  },
  {
   "cell_type": "code",
   "execution_count": null,
   "metadata": {},
   "outputs": [],
   "source": [
    "fig = plt.figure(figsize=(13,6))\n",
    "plt.subplot(121)\n",
    "data[data[\"type\"] == \"application_data\"][\"CODE_GENDER\"].value_counts().plot.pie(autopct = \"%1.0f%%\",colors = [\"red\",\"yellow\"],startangle\n",
    " wedgeprops={\"linewidth\":2,\"edgecolor\":\"k\"},explode=[.05,0,0],sha)\n",
    "plt.title(\"distribution of gender in application_data\")\n",
    "plt.show()"
   ]
  },
  {
   "cell_type": "markdown",
   "metadata": {},
   "source": [
    "Female : 66%\n",
    "Male : 34%"
   ]
  },
  {
   "cell_type": "markdown",
   "metadata": {},
   "source": [
    "# Distribution of Contract type by gender"
   ]
  },
  {
   "cell_type": "code",
   "execution_count": null,
   "metadata": {},
   "outputs": [],
   "source": [
    "fig = plt.figure(figsize=(13,6))\n",
    "plt.subplot(121)\n",
    "ax = sns.countplot(\"NAME_CONTRACT_TYPE\",hue=\"CODE_GENDER\",data=data[data[\"type\"] == \"application_data\"],palette=[\"r\",\"b\",\"g\"])\n",
    "ax.set_facecolor(\"lightgrey\")\n",
    "ax.set_title(\"Distribution of Contract type by gender -application_data\")\n",
    "plt.show()"
   ]
  },
  {
   "cell_type": "markdown",
   "metadata": {},
   "source": [
    "Cash loans is always prefered over Revolving loans by both genders\n"
   ]
  },
  {
   "cell_type": "markdown",
   "metadata": {},
   "source": [
    "# Distribution of client owning a car and by gender"
   ]
  },
  {
   "cell_type": "code",
   "execution_count": null,
   "metadata": {},
   "outputs": [],
   "source": [
    "fig = plt.figure(figsize=(13,6))\n",
    "plt.subplot(121)\n",
    "data[\"FLAG_OWN_CAR\"].value_counts().plot.pie(autopct = \"%1.0f%%\",colors = [\"gold\",\"orangered\"],startangle = 60,\n",
    " wedgeprops={\"linewidth\":2,\"edgecolor\":\"k\"},explode=[.05,0],shado\n",
    "plt.title(\"distribution of client owning a car\")\n",
    "plt.subplot(122)\n",
    "data[data[\"FLAG OWN CAR\"] == \"Y\"][\"CODE GENDER\"].value counts().plot.pie(autopct = \"%1.0f%%\",colors = [\"b\",\"orangered\"],startangle = 90,\n",
    " wedgeprops={\"linewidth\":2,\"edgecolor\":\"k\"},explode=[.05,0,0],sha)\n",
    "plt.title(\"distribution of client owning a car by gender\")\n",
    "plt.show()"
   ]
  },
  {
   "cell_type": "markdown",
   "metadata": {},
   "source": [
    "SUBPLOT 1 : Distribution of client owning a car. 34% of clients own a car .\n",
    "SUBPLOT 2 : Distribution of client owning a car by gender. Out of total clients who own car 57% are male and 43% are female.\n"
   ]
  },
  {
   "cell_type": "markdown",
   "metadata": {},
   "source": [
    "# Distribution of client owning a house or at and by gender"
   ]
  },
  {
   "cell_type": "code",
   "execution_count": null,
   "metadata": {},
   "outputs": [],
   "source": [
    "plt.figure(figsize=(13,6))\n",
    "plt.subplot(121)\n",
    "data[\"FLAG_OWN_REALTY\"].value_counts().plot.pie(autopct = \"%1.0f%%\",colors = [\"skyblue\",\"gold\"],startangle = 90,\n",
    " wedgeprops={\"linewidth\":2,\"edgecolor\":\"k\"},explode=[0.05,0],shadow =True)\n",
    "plt.title(\"Distribution of client owns a house or flat\")\n",
    "plt.subplot(122)\n",
    "data[data[\"FLAG_OWN_REALTY\"] == \"Y\"][\"CODE_GENDER\"].value_counts().plot.pie(autopct = \"%1.0f%%\",colors = [\"orangered\",\"b\"],startangle =\n",
    " wedgeprops={\"linewidth\":2,\"edgecolor\":\"k\"},explode=[.05,0,0],sha\n",
    "plt.title(\"Distribution of client owning a house or flat by gender\")\n",
    "pplt.show()"
   ]
  },
  {
   "cell_type": "markdown",
   "metadata": {},
   "source": [
    "SUBPLOT 1 : Distribution of client owning a house or at . 69% of clients own a at or house .\n",
    "SUBPLOT 2 : Distribution of client owning a house or at by gender . Out of total clients who own house 67% are female and 33% are male.\n"
   ]
  },
  {
   "cell_type": "markdown",
   "metadata": {},
   "source": [
    "# Distribution of Number of children and family members of client by repayment status."
   ]
  },
  {
   "cell_type": "markdown",
   "metadata": {},
   "source": [
    "CNT_CHILDREN - Number of children the client has.\n",
    "CNT_FAM_MEMBERS - How many family members does client have"
   ]
  },
  {
   "cell_type": "code",
   "execution_count": null,
   "metadata": {},
   "outputs": [],
   "source": [
    "fig = plt.figure(figsize=(12,10))\n",
    "plt.subplot(211)\n",
    "sns.countplot(application_data[\"CNT_CHILDREN\"],palette=\"Set1\",hue=application_data[\"TARGET\"])\n",
    "plt.legend(loc=\"upper center\")\n",
    "plt.title(\" Distribution of Number of children client has by repayment status\")\n",
    "plt.subplot(212)\n",
    "sns.countplot(application_data[\"CNT_FAM_MEMBERS\"],palette=\"Set1\",hue=application_data[\"TARGET\"])\n",
    "plt.legend(loc=\"upper center\")\n",
    "plt.title(\" Distribution of Number of family members client has by repayment status\")\n",
    "fig.set_facecolor(\"lightblue\")"
   ]
  },
  {
   "cell_type": "markdown",
   "metadata": {},
   "source": [
    "# Distribution of contract type ,gender ,own car ,own house with respect to Repayment status(Target variable)\n"
   ]
  },
  {
   "cell_type": "code",
   "execution_count": null,
   "metadata": {},
   "outputs": [],
   "source": [
    "default = application_data[application_data[\"TARGET\"]==1][[ 'NAME_CONTRACT_TYPE', 'CODE_GENDER','FLAG_OWN_CAR', 'FLAG_OWN_REALTY']]\n",
    "non_default = application_data[application_data[\"TARGET\"]==0][[ 'NAME_CONTRACT_TYPE', 'CODE_GENDER','FLAG_OWN_CAR', 'FLAG_OWN_REALTY']]\n",
    "d_cols = ['NAME_CONTRACT_TYPE', 'CODE_GENDER','FLAG_OWN_CAR', 'FLAG_OWN_REALTY']\n",
    "d_length = len(d_cols)\n",
    "fig = plt.figure(figsize=(16,4))\n",
    "for i,j in itertools.zip_longest(d_cols,range(d_length)):\n",
    " plt.subplot(1,4,j+1)\n",
    " default[i].value_counts().plot.pie(autopct = \"%1.0f%%\",colors = sns.color_palette(\"prism\"),startangle = 90,\n",
    " wedgeprops={\"linewidth\":1,\"edgecolor\":\"white\"},shadow =True)\n",
    " circ = plt.Circle((0,0),.7,color=\"white\")\n",
    " plt.gca().add_artist(circ)\n",
    " plt.ylabel(\"\")\n",
    " plt.title(i+\"-Defaulter\")\n",
    "fig = plt.figure(figsize=(16,4))\n",
    "for i j in itertools zip longest(d cols range(d length)):\n",
    " plt.subplot(1,4,j+1)\n",
    " non_default[i].value_counts().plot.pie(autopct = \"%1.0f%%\",colors = sns.color_palette(\"prism\",3),startangle = 90,\n",
    " wedgeprops={\"linewidth\":1,\"edgecolor\":\"white\"},shadow =True)\n",
    " circ = plt.Circle((0,0),.7,color=\"white\")\n",
    " plt.gca().add_artist(circ)\n",
    " plt.ylabel(\"\")\n",
    " plt.title(i+\"-Repayer\")"
   ]
  },
  {
   "cell_type": "markdown",
   "metadata": {},
   "source": [
    "Percentage of males is 10% more in defaults than non defaulters.\n",
    "Percentage of Cash Loans is 4% more in defaults than Revolving Loans."
   ]
  },
  {
   "cell_type": "markdown",
   "metadata": {},
   "source": [
    "# Distribution of amount data"
   ]
  },
  {
   "cell_type": "markdown",
   "metadata": {},
   "source": [
    "AMT_INCOME_TOTAL - Income of the client\n",
    "AMT_CREDIT - Credit amount of the loan\n",
    "AMT_ANNUITY - Loan annuity\n",
    "AMT_GOODS_PRICE - For consumer loans it is the price of the goods for which the loan is given"
   ]
  },
  {
   "cell_type": "code",
   "execution_count": null,
   "metadata": {},
   "outputs": [],
   "source": [
    "cols = [ 'AMT_INCOME_TOTAL', 'AMT_CREDIT','AMT_ANNUITY', 'AMT_GOODS_PRICE']\n",
    "length = len(cols)\n",
    "cs = [\"r\",\"b\",\"g\",\"k\"]\n",
    "ax = plt.figure(figsize=(18,18))\n",
    "ax.set_facecolor(\"lightgrey\")\n",
    "for i,j,k in itertools.zip_longest(cols,range(length),cs):\n",
    " plt.subplot(2,2,j+1)\n",
    " sns.distplot(data[data[i].notnull()][i],color=k)\n",
    " plt.axvline(data[i].mean(),label = \"mean\",linestyle=\"dashed\",color=\"k\")\n",
    " plt.legend(loc=\"best\")\n",
    " plt.title(i)\n",
    " plt.subplots_adjust(hspace = .2)"
   ]
  },
  {
   "cell_type": "markdown",
   "metadata": {},
   "source": [
    "# Comparing summary statistics between defaulters and non - defaulters for loan amounts."
   ]
  },
  {
   "cell_type": "code",
   "execution_count": null,
   "metadata": {},
   "outputs": [],
   "source": [
    "df = application_data.groupby(\"TARGET\")[cols].describe().transpose().reset_index()\n",
    "df = df[df[\"level_1\"].isin([ 'mean', 'std', 'min', 'max'])]\n",
    "df_x = df[[\"level_0\",\"level_1\",0]]\n",
    "df_y = df[[\"level_0\",\"level_1\",1]]\n",
    "df_x = df_x.rename(columns={'level_0':\"amount_type\", 'level_1':\"statistic\", 0:\"amount\"})\n",
    "df_x[\"type\"] = \"REPAYER\"\n",
    "df_y = df_y.rename(columns={'level_0':\"amount_type\", 'level_1':\"statistic\", 1:\"amount\"})\n",
    "df_y[\"type\"] = \"DEFAULTER\"\n",
    "df_new = pd.concat([df_x,df_y],axis = 0)\n",
    "stat = df_new[\"statistic\"].unique().tolist()\n",
    "length = len(stat)\n",
    "plt.figure(figsize=(13,15))\n",
    "for i,j in itertools.zip_longest(stat,range(length)):\n",
    " plt.subplot(2,2,j+1)\n",
    " fig = sns.barplot(df_new[df_new[\"statistic\"] == i][\"amount_type\"],df_new[df_new[\"statistic\"] == i][\"amount\"],\n",
    " hue=df_new[df_new[\"statistic\"] == i][\"type\"],palette=[\"g\",\"r\"])\n",
    " plt.title(i + \"--Defaulters vs Non defaulters\")\n",
    " plt.subplots_adjust(hspace = .4)\n",
    " fig.set_facecolor(\"lightgrey\")"
   ]
  },
  {
   "cell_type": "markdown",
   "metadata": {},
   "source": [
    "Income of client -\n",
    "1 . Average income of clients who default and who do not are almost same.\n",
    "2 . Standard deviation in income of client who default is very high compared to who do not default.\n",
    "3 . Clients who default also has maximum income earnings\n",
    "Credit amount of the loan ,Loan annuity,Amount goods price -\n",
    "1 . Statistics between credit amounts,Loan annuity and Amount goods price given to cilents who default and who dont are almost similar"
   ]
  },
  {
   "cell_type": "markdown",
   "metadata": {},
   "source": [
    "# Average Income,credit,annuity & goods_price by gender"
   ]
  },
  {
   "cell_type": "code",
   "execution_count": null,
   "metadata": {},
   "outputs": [],
   "source": [
    "cols = [ 'AMT_INCOME_TOTAL', 'AMT_CREDIT','AMT_ANNUITY', 'AMT_GOODS_PRICE']\n",
    "df1 = data.groupby(\"CODE_GENDER\")[cols].mean().transpose().reset_index()\n",
    "df_f = df1[[\"index\",\"F\"]]\n",
    "df_f = df_f.rename(columns={'index':\"amt_type\", 'F':\"amount\"})\n",
    "df_f[\"gender\"] = \"FEMALE\"\n",
    "df_m = df1[[\"index\",\"M\"]]\n",
    "df_m = df_m.rename(columns={'index':\"amt_type\", 'M':\"amount\"})\n",
    "df_m[\"gender\"] = \"MALE\"\n",
    "df_xna = df1[[\"index\",\"XNA\"]]\n",
    "df_xna = df_xna.rename(columns={'index':\"amt_type\", 'XNA':\"amount\"})\n",
    "df_xna[\"gender\"] = \"XNA\"\n",
    "df_gen = pd.concat([df_m,df_f,df_xna],axis=0)\n",
    "plt.figure(figsize=(12,5))\n",
    "ax = sns.barplot(\"amt_type\",\"amount\",data=df_gen,hue=\"gender\",palette=\"Set1\")\n",
    "plt.title(\"Average Income,credit,annuity & goods_price by gender\")\n",
    "plt.show()"
   ]
  },
  {
   "cell_type": "markdown",
   "metadata": {},
   "source": [
    "# Scatter plot between credit amount and annuity amount"
   ]
  },
  {
   "cell_type": "code",
   "execution_count": null,
   "metadata": {},
   "outputs": [],
   "source": [
    "fig = plt.figure(figsize=(10,8))\n",
    "plt.scatter(application_data[application_data[\"TARGET\"]==0]['AMT_ANNUITY'],application_data[application_data[\"TARGET\"]==0]['AMT_CREDIT']\n",
    " color=\"b\",alpha=.5,label=\"REPAYER\",linewidth=.5,edgecolor=\"k\")\n",
    "plt.scatter(application_data[application_data[\"TARGET\"]==1]['AMT_ANNUITY'],application_data[application_data[\"TARGET\"]==1]['AMT_CREDIT']\n",
    " color=\"r\",alpha=.2,label=\"DEFAULTER\",linewidth=.5,edgecolor=\"k\")\n",
    "plt.legend(loc=\"best\",prop={\"size\":15})\n",
    "plt.xlabel(\"AMT_ANNUITY\")\n",
    "plt.ylabel(\"AMT_CREDIT\")\n",
    "plt.title(\"Scatter plot between credit amount and annuity amount\")\n",
    "plt.show()"
   ]
  },
  {
   "cell_type": "markdown",
   "metadata": {},
   "source": [
    "# Pair Plot between amount variables"
   ]
  },
  {
   "cell_type": "markdown",
   "metadata": {},
   "source": [
    "AMT_INCOME_TOTAL - Income of the client\n",
    "AMT_CREDIT - Credit amount of the loan\n",
    "AMT_ANNUITY - Loan annuity\n",
    "AMT_GOODS_PRICE - For consumer loans it is the price of the goods for which the loan is given"
   ]
  },
  {
   "cell_type": "code",
   "execution_count": null,
   "metadata": {},
   "outputs": [],
   "source": [
    "amt = application_data[[ 'AMT_INCOME_TOTAL','AMT_CREDIT',\n",
    " 'AMT_ANNUITY', 'AMT_GOODS_PRICE',\"TARGET\"]]\n",
    "amt = amt[(amt[\"AMT_GOODS_PRICE\"].notnull()) & (amt[\"AMT_ANNUITY\"].notnull())]\n",
    "sns.pairplot(amt,hue=\"TARGET\",palette=[\"b\",\"r\"])\n",
    "plt.show()"
   ]
  },
  {
   "cell_type": "markdown",
   "metadata": {},
   "source": [
    "# Distribution of Suite type"
   ]
  },
  {
   "cell_type": "markdown",
   "metadata": {},
   "source": [
    "NAME_TYPE_SUITE - Who was accompanying client when he was applying for the loan"
   ]
  },
  {
   "cell_type": "code",
   "execution_count": null,
   "metadata": {},
   "outputs": [],
   "source": [
    "plt.figure(figsize=(18,12))\n",
    "plt.subplot(121)\n",
    "sns.countplot(y=data[\"NAME_TYPE_SUITE\"],\n",
    " palette=\"Set2\",\n",
    " order=data[\"NAME_TYPE_SUITE\"].value_counts().index[:5])\n",
    "plt.title(\"Distribution of Suite type\")\n",
    "plt.subplot(122)\n",
    "sns.countplot(y=data[\"NAME_TYPE_SUITE\"],\n",
    " hue=data[\"CODE_GENDER\"],palette=\"Set2\",\n",
    " order=data[\"NAME_TYPE_SUITE\"].value_counts().index[:5])\n",
    "plt.ylabel(\"\")\n",
    "plt.title(\"Distribution of Suite type by gender\")\n",
    "plt.subplots_adjust(wspace = .4)"
   ]
  },
  {
   "cell_type": "markdown",
   "metadata": {},
   "source": [
    "# Distribution of client income type\n"
   ]
  },
  {
   "cell_type": "markdown",
   "metadata": {},
   "source": [
    "NAME_INCOME_TYPE Clients income type (businessman, working, maternity leave,…)"
   ]
  },
  {
   "cell_type": "code",
   "execution_count": null,
   "metadata": {},
   "outputs": [],
   "source": [
    "plt.figure(figsize=(18,12))\n",
    "plt.subplot(121)\n",
    "sns.countplot(y=data[\"NAME_INCOME_TYPE\"],palette=\"Set2\",order=data[\"NAME_INCOME_TYPE\"].value_counts().index[:4])\n",
    "plt.title(\"Distribution of client income type\")\n",
    "plt.subplot(122)\n",
    "sns.countplot(y=data[\"NAME_INCOME_TYPE\"],\n",
    " hue=data[\"CODE_GENDER\"],\n",
    " palette=\"Set2\",\n",
    " order=data[\"NAME_INCOME_TYPE\"].value_counts().index[:4])\n",
    "plt.ylabel(\"\")\n",
    "plt.title(\"Distribution of client income type by gender\")\n",
    "plt.subplots_adjust(wspace = .4)"
   ]
  },
  {
   "cell_type": "markdown",
   "metadata": {},
   "source": [
    "# Distribution of Education type by loan repayment status"
   ]
  },
  {
   "cell_type": "markdown",
   "metadata": {},
   "source": [
    "NAME_EDUCATION_TYPE Level of highest education the client achieved..\n"
   ]
  },
  {
   "cell_type": "code",
   "execution_count": null,
   "metadata": {},
   "outputs": [],
   "source": [
    "plt.figure(figsize=(25,25))\n",
    "plt.subplot(121)\n",
    "application_data[application_data[\"TARGET\"]==0][\"NAME_EDUCATION_TYPE\"].value_counts().plot.pie(fontsize=12,autopct = \"%1.0f%%\",\n",
    " colors = sns.color_palette(\"Set1\"),\n",
    " wedgeprops={\"linewidth\":2,\"edgecolor\":\"white\"},shadow =True)\n",
    "circ = plt.Circle((0,0),.7,color=\"white\")\n",
    "plt.gca().add_artist(circ)\n",
    "plt.title(\"Distribution of Education type for Repayers\",color=\"b\")\n",
    "plt.subplot(122)\n",
    "application_data[application_data[\"TARGET\"]==1][\"NAME_EDUCATION_TYPE\"].value_counts().plot.pie(fontsize=12,autopct = \"%1.0f%%\",\n",
    " colors = sns.color_palette(\"Set1\"),\n",
    " wedgeprops={\"linewidth\":2,\"edgecolor\":\"white\"},shadow =True)\n",
    "circ = plt.Circle((0,0),.7,color=\"white\")\n",
    "plt.gca().add_artist(circ)\n",
    "plt.title(\"Distribution of Education type for Defaulters\",color=\"b\")\n",
    "plt.ylabel(\"\")\n",
    "plt.show()"
   ]
  },
  {
   "cell_type": "markdown",
   "metadata": {},
   "source": [
    "Clients who default have proportionally 9% less higher education compared to clients who do not default.\n"
   ]
  },
  {
   "cell_type": "markdown",
   "metadata": {},
   "source": [
    "# Average Earnings by different professions and education types"
   ]
  },
  {
   "cell_type": "code",
   "execution_count": null,
   "metadata": {},
   "outputs": [],
   "source": [
    "edu = data.groupby(['NAME_EDUCATION_TYPE','NAME_INCOME_TYPE'])['AMT_INCOME_TOTAL'].mean().reset_index().sort_values(by='AMT_INCOME_TOTAL\n",
    "fig = plt.figure(figsize=(13,7))\n",
    "ax = sns.barplot('NAME_INCOME_TYPE','AMT_INCOME_TOTAL',data=edu,hue='NAME_EDUCATION_TYPE',palette=\"seismic\")\n",
    "ax.set_facecolor(\"k\")\n",
    "plt.title(\" Average Earnings by different professions and education types\")\n",
    "plt.show()"
   ]
  },
  {
   "cell_type": "markdown",
   "metadata": {},
   "source": [
    "# Distribution of Education type by loan repayment status"
   ]
  },
  {
   "cell_type": "markdown",
   "metadata": {},
   "source": [
    "NAME_FAMILY_STATUS - Family status of the client\n"
   ]
  },
  {
   "cell_type": "code",
   "execution_count": null,
   "metadata": {},
   "outputs": [],
   "source": [
    "plt.figure(figsize=(16,8))\n",
    "plt.subplot(121)\n",
    "application_data[application_data[\"TARGET\"]==0][\"NAME_FAMILY_STATUS\"].value_counts().plot.pie(autopct = \"%1.0f%%\",\n",
    " startangle=120,colors = sns.color_palette(\"Set2\",7),\n",
    " wedgeprops={\"linewidth\":2,\"edgecolor\":\"white\"},shadow =True,explode=[0,.07,0,0,0,0])\n",
    "plt.title(\"Distribution of Family status for Repayers\",color=\"b\")\n",
    "plt.subplot(122)\n",
    "application_data[application_data[\"TARGET\"]==1][\"NAME_FAMILY_STATUS\"].value_counts().plot.pie(autopct = \"%1.0f%%\",\n",
    " startangle=120,colors = sns.color_palette(\"Set2\",7),\n",
    " wedgeprops={\"linewidth\":2,\"edgecolor\":\"white\"},shadow =True,explode=[0,.07,0,0,0])\n",
    "plt.title(\"Distribution of Family status for Defaulters\",color=\"b\")\n",
    "plt.ylabel(\"\")\n",
    "plt.show()"
   ]
  },
  {
   "cell_type": "markdown",
   "metadata": {},
   "source": [
    "Percentage of single people are more in defaulters than non defaulters."
   ]
  },
  {
   "cell_type": "markdown",
   "metadata": {},
   "source": [
    "# Distribution of Housing type by loan repayment status"
   ]
  },
  {
   "cell_type": "markdown",
   "metadata": {},
   "source": [
    "NAME_HOUSING_TYPE - What is the housing situation of the client (renting, living with parents, ...)"
   ]
  },
  {
   "cell_type": "code",
   "execution_count": null,
   "metadata": {},
   "outputs": [],
   "source": [
    "plt.figure(figsize=(20,20))\n",
    "plt.subplot(121)\n",
    "application_data[application_data[\"TARGET\"]==0][\"NAME_HOUSING_TYPE\"].value_counts().plot.pie(autopct = \"%1.0f%%\",fontsize=10,\n",
    " colors = sns.color_palette(\"Spectral\"),\n",
    " wedgeprops={\"linewidth\":2,\"edgecolor\":\"white\"},shadow =True)\n",
    "plt.title(\"Distribution of housing type for Repayer\",color=\"b\")\n",
    "plt.subplot(122)\n",
    "application_data[application_data[\"TARGET\"]==1][\"NAME_HOUSING_TYPE\"].value_counts().plot.pie(autopct = \"%1.0f%%\",fontsize=10,\n",
    " colors = sns.color_palette(\"Spectral\"),\n",
    " wedgeprops={\"linewidth\":2,\"edgecolor\":\"white\"},shadow =True)\n",
    "plt.title(\"Distribution of housing type for Defaulters\",color=\"b\")\n",
    "plt.ylabel(\"\")\n",
    "plt.show()"
   ]
  },
  {
   "cell_type": "markdown",
   "metadata": {},
   "source": [
    "# Distribution normalized population of region where client lives by loan repayment status"
   ]
  },
  {
   "cell_type": "markdown",
   "metadata": {},
   "source": [
    "REGION_POPULATION_RELATIVE - Normalized population of region where client lives (higher number means the client lives in more populated region)"
   ]
  },
  {
   "cell_type": "code",
   "execution_count": null,
   "metadata": {},
   "outputs": [],
   "source": [
    "fig = plt.figure(figsize=(13,8))\n",
    "plt.subplot(121)\n",
    "sns.violinplot(y=application_data[application_data[\"TARGET\"]==0][\"REGION_POPULATION_RELATIVE\"]\n",
    " ,x=application_data[application_data[\"TARGET\"]==0][\"NAME_CONTRACT_TYPE\"],\n",
    " palette=\"Set1\")\n",
    "plt.title(\"Distribution of region population for Non Default loans\",color=\"b\")\n",
    "plt.subplot(122)\n",
    "sns.violinplot(y = application_data[application_data[\"TARGET\"]==1][\"REGION_POPULATION_RELATIVE\"]\n",
    " ,x=application_data[application_data[\"TARGET\"]==1][\"NAME_CONTRACT_TYPE\"]\n",
    " ,palette=\"Set1\")\n",
    "plt.title(\"Distribution of region population for Default loans\",color=\"b\")\n",
    "plt.subplots_adjust(wspace = .2)\n",
    "fig.set_facecolor(\"lightgrey\")"
   ]
  },
  {
   "cell_type": "markdown",
   "metadata": {},
   "source": [
    "In High population density regions people are less likely to default on loans."
   ]
  },
  {
   "cell_type": "markdown",
   "metadata": {},
   "source": [
    "# Client's age"
   ]
  },
  {
   "cell_type": "markdown",
   "metadata": {},
   "source": [
    "DAYS_BIRTH - Client's age in days at the time of application.\n"
   ]
  },
  {
   "cell_type": "code",
   "execution_count": null,
   "metadata": {},
   "outputs": [],
   "source": [
    "fig = plt.figure(figsize=(13,15))\n",
    "plt.subplot(221)"
   ]
  },
  {
   "cell_type": "code",
   "execution_count": null,
   "metadata": {},
   "outputs": [],
   "source": [
    "fig = plt.figure(figsize=(13,15))\n",
    "plt.subplot(221)\n",
    "sns.distplot(application_data[application_data[\"TARGET\"]==0][\"DAYS_BIRTH\"],color=\"b\")\n",
    "plt.title(\"Age Distribution of repayers\")\n",
    "plt.subplot(222)\n",
    "sns.distplot(application_data[application_data[\"TARGET\"]==1][\"DAYS_BIRTH\"],color=\"r\")\n",
    "plt.title(\"Age Distribution of defaulters\")\n",
    "plt.subplot(223)\n",
    "sns.lvplot(application_data[\"TARGET\"],application_data[\"DAYS_BIRTH\"],hue=application_data[\"CODE_GENDER\"],palette=[\"b\",\"grey\",\"m\"])\n",
    "plt.axhline(application_data[\"DAYS_BIRTH\"].mean(),linestyle=\"dashed\",color=\"k\",label =\"average age of client\")\n",
    "plt.legend(loc=\"lower right\")\n",
    "plt.title(\"Client age vs Loan repayment status(hue=gender)\")\n",
    "plt.subplot(224)\n",
    "sns.lvplot(application_data[\"TARGET\"],application_data[\"DAYS_BIRTH\"],hue=application_data[\"NAME_CONTRACT_TYPE\"],palette=[\"r\",\"g\"])\n",
    "plt.axhline(application_data[\"DAYS_BIRTH\"].mean(),linestyle=\"dashed\",color=\"k\",label =\"average age of client\")\n",
    "plt.legend(loc=\"lower right\")\n",
    "plt.title(\"Client age vs Loan repayment status(hue=contract type)\")\n",
    "plt.subplots_adjust(wspace = .2,hspace = .3)\n",
    "fig.set_facecolor(\"lightgrey\")"
   ]
  },
  {
   "cell_type": "markdown",
   "metadata": {},
   "source": [
    "Average clients age is comparatively less in non repayers than repayers in every aspect.\n",
    "Younger people tend to default more than elder people.\n"
   ]
  },
  {
   "cell_type": "markdown",
   "metadata": {},
   "source": [
    "# Distribution of days employed for target variable"
   ]
  },
  {
   "cell_type": "markdown",
   "metadata": {},
   "source": [
    "DAYS_EMPLOYED - How many days before the application for target variable the person started current employment"
   ]
  },
  {
   "cell_type": "code",
   "execution_count": null,
   "metadata": {},
   "outputs": [],
   "source": [
    "fig = plt.figure(figsize=(13,5))\n",
    "plt.subplot(121)\n",
    "sns.distplot(application_data[application_data[\"TARGET\"]==0][\"DAYS_EMPLOYED\"],color=\"b\")\n",
    "plt.title(\"days employed distribution of repayers\")\n",
    "plt.subplot(122)\n",
    "sns.distplot(application_data[application_data[\"TARGET\"]==1][\"DAYS_EMPLOYED\"],color=\"r\")\n",
    "plt.title(\"days employed distribution of defaulters\")\n",
    "fig.set_facecolor(\"ghostwhite\")"
   ]
  },
  {
   "cell_type": "markdown",
   "metadata": {},
   "source": [
    "# Distribution of registration days for target variable."
   ]
  },
  {
   "cell_type": "markdown",
   "metadata": {},
   "source": [
    "DAYS_REGISTRATION How many days before the application did client change his registration"
   ]
  },
  {
   "cell_type": "code",
   "execution_count": null,
   "metadata": {},
   "outputs": [],
   "source": [
    "fig = plt.figure(figsize=(13,5))\n",
    "plt.subplot(121)\n",
    "sns.distplot(application_data[application_data[\"TARGET\"]==0][\"DAYS_REGISTRATION\"],color=\"b\")\n",
    "plt.title(\"registration days distribution of repayers\")\n",
    "plt.subplot(122)\n",
    "sns.distplot(application_data[application_data[\"TARGET\"]==1][\"DAYS_REGISTRATION\"],color=\"r\")\n",
    "plt.title(\"registration days distribution of defaulter\")\n",
    "fig.set_facecolor(\"ghostwhite\")"
   ]
  },
  {
   "cell_type": "markdown",
   "metadata": {},
   "source": [
    "# Distribution in contact information provided by client"
   ]
  },
  {
   "cell_type": "markdown",
   "metadata": {},
   "source": [
    "FLAG_MOBIL - Did client provide mobile phone (1=YES, 0=NO)\n",
    "FLAG_EMP_PHONE - Did client provide work phone (1=YES, 0=NO)\n",
    "FLAG_WORK_PHONE - Did client provide home phone (1=YES, 0=NO)\n",
    "FLAG_CONT_MOBILE - Was mobile phone reachable (1=YES, 0=NO)\n",
    "FLAG_PHONE - Did client provide home phone (1=YES, 0=NO)\n",
    "FLAG_EMAIL - Did client provide email (1=YES, 0=NO)"
   ]
  },
  {
   "cell_type": "code",
   "execution_count": null,
   "metadata": {},
   "outputs": [],
   "source": [
    "x = application_data[['FLAG_MOBIL', 'FLAG_EMP_PHONE', 'FLAG_WORK_PHONE', 'FLAG_CONT_MOBILE',\n",
    " 'FLAG_PHONE', 'FLAG_EMAIL',\"TARGET\"]]\n",
    "x[\"TARGET\"] = x[\"TARGET\"].replace({0:\"repayers\",1:\"defaulters\"})\n",
    "x = x.replace({1:\"YES\",0:\"NO\"})\n",
    "cols = ['FLAG_MOBIL', 'FLAG_EMP_PHONE', 'FLAG_WORK_PHONE', 'FLAG_CONT_MOBILE',\n",
    " 'FLAG_PHONE', 'FLAG_EMAIL']\n",
    "length = len(cols)\n",
    "fig = plt.figure(figsize=(15,12))\n",
    "fig.set_facecolor(\"lightgrey\")\n",
    "for i,j in itertools.zip_longest(cols,range(length)):\n",
    " plt.subplot(2,3,j+1)\n",
    " sns.countplot(x[i],hue=x[\"TARGET\"],palette=[\"r\",\"g\"])\n",
    " plt.title(i,color=\"b\")"
   ]
  },
  {
   "cell_type": "markdown",
   "metadata": {},
   "source": [
    "# Distribution of registration days for target variable."
   ]
  },
  {
   "cell_type": "markdown",
   "metadata": {},
   "source": [
    "REGION_RATING_CLIENT - Home credit rating of the region where client lives (1,2,3).\n",
    "REGION_RATING_CLIENT_W_CITY - Home credit rating of the region where client lives with taking city into account (1,2,3). Percentage of\n",
    "defaulters are less in 1-rated regions compared to repayers."
   ]
  },
  {
   "cell_type": "code",
   "execution_count": null,
   "metadata": {},
   "outputs": [],
   "source": [
    "fig = plt.figure(figsize=(13,13))\n",
    "plt.subplot(221)\n",
    "p t.subp ot( )\n",
    "application_data[application_data[\"TARGET\"]==0][\"REGION_RATING_CLIENT\"].value_counts().plot.pie(autopct = \"%1.0f%%\",fontsize=12,\n",
    " colors = sns.color_palette(\"Pastel1\"),\n",
    " wedgeprops={\"linewidth\":2,\"edgecolor\":\"white\"},shadow =True)\n",
    "plt.title(\"Distribution of region rating for Repayers\",color=\"b\")\n",
    "plt.subplot(222)\n",
    "application_data[application_data[\"TARGET\"]==1][\"REGION_RATING_CLIENT\"].value_counts().plot.pie(autopct = \"%1.0f%%\",fontsize=12,\n",
    " colors = sns.color_palette(\"Pastel1\"),\n",
    " wedgeprops={\"linewidth\":2,\"edgecolor\":\"white\"},shadow =True)\n",
    "plt.title(\"Distribution of region rating for Defaulters\",color=\"b\")\n",
    "plt.ylabel(\"\")\n",
    "plt.subplot(223)\n",
    "application_data[application_data[\"TARGET\"]==0][\"REGION_RATING_CLIENT_W_CITY\"].value_counts().plot.pie(autopct = \"%1.0f%%\",fontsize=12,\n",
    " colors = sns.color_palette(\"Paired\"),\n",
    " wedgeprops={\"linewidth\":2,\"edgecolor\":\"white\"},shadow =True)\n",
    "plt.title(\"Distribution of city region rating for Repayers\",color=\"b\")\n",
    "plt.subplot(224)\n",
    "application_data[application_data[\"TARGET\"]==1][\"REGION_RATING_CLIENT_W_CITY\"].value_counts().plot.pie(autopct = \"%1.0f%%\",fontsize=12,\n",
    " colors = sns.color_palette(\"Paired\"),\n",
    " wedgeprops={\"linewidth\":2,\"edgecolor\":\"white\"},shadow =True)\n",
    "plt.title(\"Distribution of city region rating for Defaulters\",color=\"b\")\n",
    "plt.ylabel(\"\")\n",
    "fig.set_facecolor(\"ivory\")"
   ]
  },
  {
   "cell_type": "markdown",
   "metadata": {},
   "source": [
    "Percentage of defaulters are less in 1-rated regions compared to repayers.\n",
    "Percentage of defaulters are more in 3-rated regions compared to repayers.\n"
   ]
  },
  {
   "cell_type": "markdown",
   "metadata": {},
   "source": [
    "# Peak days and hours for applying loans (defaulters vs repayers)"
   ]
  },
  {
   "cell_type": "markdown",
   "metadata": {},
   "source": [
    "WEEKDAY_APPR_PROCESS_START - On which day of the week did the client apply for the loan.\n",
    "HOUR_APPR_PROCESS_START - Approximately at what hour did the client apply for the loan."
   ]
  },
  {
   "cell_type": "code",
   "execution_count": null,
   "metadata": {},
   "outputs": [],
   "source": [
    "day = application_data.groupby(\"TARGET\").agg({\"WEEKDAY_APPR_PROCESS_START\":\"value_counts\"})\n",
    "day = day.rename(columns={\"WEEKDAY_APPR_PROCESS_START\":\"value_counts\"})\n",
    "day = day.reset_index()\n",
    "day_0 = day[:7]\n",
    "day_1 = day[7:]\n",
    "day_0[\"percentage\"] = day_0[\"value_counts\"]*100/day_0[\"value_counts\"].sum()\n",
    "day_1[\"percentage\"] = day_1[\"value_counts\"]*100/day_1[\"value_counts\"].sum()\n",
    "days = pd.concat([day_0,day_1],axis=0)\n",
    "days[\"TARGET\"] = days.replace({1:\"defaulters\",0:\"repayers\"})\n",
    "fig = plt.figure(figsize=(13,15))\n",
    "plt.subplot(211)\n",
    "order = ['SUNDAY', 'MONDAY','TUESDAY', 'WEDNESDAY','THURSDAY', 'FRIDAY', 'SATURDAY']\n",
    "ax= sns.barplot(\"WEEKDAY_APPR_PROCESS_START\",\"percentage\",data=days,\n",
    " hue=\"TARGET\",order=order,palette=\"prism\")\n",
    "ax.set_facecolor(\"k\")\n",
    "ax.set_title(\"Peak days for applying loans (defaulters vs repayers)\")\n",
    "hr = application_data.groupby(\"TARGET\").agg({\"HOUR_APPR_PROCESS_START\":\"value_counts\"})\n",
    "hr = hr.rename(columns={\"HOUR_APPR_PROCESS_START\":\"value_counts\"}).reset_index()\n",
    "hr_0 = hr[hr[\"TARGET\"]==0]\n",
    "hr_1 = hr[hr[\"TARGET\"]==1]\n",
    "hr_0[\"percentage\"] = hr_0[\"value_counts\"]*100/hr_0[\"value_counts\"].sum()\n",
    "hr_1[\"percentage\"] = hr_1[\"value_counts\"]*100/hr_1[\"value_counts\"].sum()\n",
    "hrs = pd.concat([hr_0,hr_1],axis=0)\n",
    "hrs[\"TARGET\"] = hrs[\"TARGET\"].replace({1:\"defaulters\",0:\"repayers\"})\n",
    "hrs = hrs.sort_values(by=\"HOUR_APPR_PROCESS_START\",ascending=True)\n",
    "plt.subplot(212)\n",
    "ax1 = sns.pointplot(\"HOUR_APPR_PROCESS_START\",\"percentage\",\n",
    " data=hrs,hue=\"TARGET\",palette=\"prism\")\n",
    "ax1.set_facecolor(\"k\")\n",
    "ax1.set_title(\"Peak hours for applying loans (defaulters vs repayers)\")\n",
    "fig.set_facecolor(\"snow\")"
   ]
  },
  {
   "cell_type": "markdown",
   "metadata": {},
   "source": [
    "On tuesdays , percentage of defaulters applying for loans is greater than that of repayers.\n",
    "From morning 4'O clock to 9'O clock percentage of defaulters applying for loans is greater than that of repayers."
   ]
  },
  {
   "cell_type": "markdown",
   "metadata": {},
   "source": [
    "# Distribution in organization types for repayers and defaulters\n"
   ]
  },
  {
   "cell_type": "markdown",
   "metadata": {},
   "source": [
    "ORGANIZATION_TYPE - Type of organization where client works."
   ]
  },
  {
   "cell_type": "code",
   "execution_count": null,
   "metadata": {},
   "outputs": [],
   "source": [
    "org = application_data.groupby(\"TARGET\").agg({\"ORGANIZATION_TYPE\":\"value_counts\"})\n",
    "org = org.rename(columns = {\"ORGANIZATION_TYPE\":\"value_counts\"}).reset_index()\n",
    "org_0 = org[org[\"TARGET\"] == 0]\n",
    "org_1 = org[org[\"TARGET\"] == 1]\n",
    "org_0[\"percentage\"] = org_0[\"value_counts\"]*100/org_0[\"value_counts\"].sum()\n",
    "org_1[\"percentage\"] = org_1[\"value_counts\"]*100/org_1[\"value_counts\"].sum()\n",
    "organization = pd.concat([org_0,org_1],axis=0)\n",
    "organization = organization.sort_values(by=\"ORGANIZATION_TYPE\",ascending=True)\n",
    "organization[\"TARGET\"] = organization[\"TARGET\"].replace({0:\"repayers\",1:\"defaulters\"})\n",
    "plt.figure(figsize=(13,7))\n",
    "ax = sns.pointplot(\"ORGANIZATION_TYPE\",\"percentage\",\n",
    " data=organization,hue=\"TARGET\",palette=[\"b\",\"r\"])\n",
    "plt.xticks(rotation=90)\n",
    "plt.grid(True,alpha=.3)\n",
    "ax.set_facecolor(\"k\")\n",
    "ax.set_title(\"Distribution in organization types for repayers and defaulters\")\n",
    "plt.show()"
   ]
  },
  {
   "cell_type": "markdown",
   "metadata": {},
   "source": [
    "Organizations like Business Entity Type 3,Construction,Self-employed percentage of defaulters are higher than repayers."
   ]
  },
  {
   "cell_type": "markdown",
   "metadata": {},
   "source": [
    "# Distribution client's social surroundings with observed and defaulted 30 DPD (days past due)"
   ]
  },
  {
   "cell_type": "markdown",
   "metadata": {},
   "source": [
    "OBS_30_CNT_SOCIAL_CIRCLE- How many observation of client's social surroundings with observable 30 DPD (days past due) default.\n",
    "DEF_30_CNT_SOCIAL_CIRCLE-How many observation of client's social surroundings defaulted on 30 DPD (days past due) .\n",
    "OBS_60_CNT_SOCIAL_CIRCLE - How many observation of client's social surroundings with observable 60 DPD (days past due) default.\n",
    "DEF_60_CNT_SOCIAL_CIRCLE - How many observation of client's social surroundings defaulted on 60 (days past due) DPD"
   ]
  },
  {
   "cell_type": "code",
   "execution_count": null,
   "metadata": {},
   "outputs": [],
   "source": [
    "fig = plt.figure(figsize=(20,20))\n",
    "plt.subplot(421)\n",
    "sns.boxplot(data=application_data,x='TARGET',y='OBS_30_CNT_SOCIAL_CIRCLE',\n",
    " hue=\"TARGET\", palette=\"Set3\")\n",
    "plt.title(\"Client's social surroundings with observable 30 DPD (days past due) def\",color=\"b\")\n",
    "plt.subplot(422)\n",
    "sns.boxplot(data=application_data,x='TARGET',y='DEF_30_CNT_SOCIAL_CIRCLE',\n",
    " hue=\"TARGET\", palette=\"Set3\")\n",
    "plt.title(\"Client's social surroundings defaulted on 30 DPD (days past due)\",color=\"b\")\n",
    "plt.subplot(423)\n",
    "sns.boxplot(data=application_data,x='TARGET',y='OBS_60_CNT_SOCIAL_CIRCLE',\n",
    " hue=\"TARGET\", palette=\"Set3\")\n",
    "plt.title(\"Client's social surroundings with observable 60 DPD (days past due) default\",color=\"b\")\n",
    "plt.subplot(424)\n",
    "sns.boxplot(data=application_data,x='TARGET',y='DEF_60_CNT_SOCIAL_CIRCLE',\n",
    " hue=\"TARGET\", palette=\"Set3\")\n",
    "plt.title(\"Client's social surroundings defaulted on 60 DPD (days past due)\",color=\"b\")\n",
    "fig.set_facecolor(\"ghostwhite\")"
   ]
  },
  {
   "cell_type": "markdown",
   "metadata": {},
   "source": [
    "# Number of days before application client changed phone "
   ]
  },
  {
   "cell_type": "markdown",
   "metadata": {},
   "source": [
    "DAYS_LAST_PHONE_CHANGE - How many days before application did client change phone.\n"
   ]
  },
  {
   "cell_type": "code",
   "execution_count": null,
   "metadata": {},
   "outputs": [],
   "source": [
    "plt.figure(figsize=(13,7))\n",
    "plt.subplot(121)\n",
    "ax = sns.violinplot(application_data[\"TARGET\"],\n",
    " application_data[\"DAYS_LAST_PHONE_CHANGE\"],palette=[\"g\",\"r\"])\n",
    "ax.set_facecolor(\"oldlace\")\n",
    "ax.set_title(\"days before application client changed phone -violin plot\")\n",
    "plt.subplot(122)\n",
    "ax1 = sns.lvplot(application_data[\"TARGET\"],\n",
    " application_data[\"DAYS_LAST_PHONE_CHANGE\"],palette=[\"g\",\"r\"])\n",
    "ax1.set_facecolor(\"oldlace\")\n",
    "ax1.set_ylabel(\"\")\n",
    "ax1.set_title(\"days before application client changed phone -box plot\")\n",
    "plt.subplots_adjust(wspace = .2)\n"
   ]
  },
  {
   "cell_type": "markdown",
   "metadata": {},
   "source": [
    "Average days of defaulters phone change is less than average days of repayers phone change.\n"
   ]
  },
  {
   "cell_type": "markdown",
   "metadata": {},
   "source": [
    "# Documents provided by the clients."
   ]
  },
  {
   "cell_type": "markdown",
   "metadata": {},
   "source": [
    "FLAG_DOCUMENT - Did client provide documents.(1,0)"
   ]
  },
  {
   "cell_type": "code",
   "execution_count": null,
   "metadata": {},
   "outputs": [],
   "source": [
    "cols = [ 'FLAG_DOCUMENT_2', 'FLAG_DOCUMENT_3',\n",
    " 'FLAG_DOCUMENT_4', 'FLAG_DOCUMENT_5', 'FLAG_DOCUMENT_6',\n",
    " 'FLAG_DOCUMENT_7', 'FLAG_DOCUMENT_8', 'FLAG_DOCUMENT_9',\n",
    " 'FLAG_DOCUMENT_10', 'FLAG_DOCUMENT_11', 'FLAG_DOCUMENT_12',\n",
    " 'FLAG_DOCUMENT_13', 'FLAG_DOCUMENT_14', 'FLAG_DOCUMENT_15',\n",
    " 'FLAG_DOCUMENT_16', 'FLAG_DOCUMENT_17', 'FLAG_DOCUMENT_18',\n",
    " 'FLAG_DOCUMENT_19', 'FLAG_DOCUMENT_20', 'FLAG_DOCUMENT_21']\n",
    "df_flag = application_data[cols+[\"TARGET\"]]\n",
    "length = len(cols)\n",
    "df_flag[\"TARGET\"] = df_flag[\"TARGET\"].replace({1:\"defaulter\",0:\"repayer\"})\n",
    "fig = plt.figure(figsize=(13,24))\n",
    "fig.set_facecolor(\"lightgrey\")\n",
    "for i,j in itertools.zip_longest(cols,range(length)):\n",
    " plt.subplot(5,4,j+1)\n",
    " ax = sns.countplot(df_flag[i],hue=df_flag[\"TARGET\"],palette=[\"r\",\"b\"])\n",
    " plt.yticks(fontsize=5)\n",
    " plt.xlabel(\"\")\n",
    " plt.title(i)\n",
    " ax.set_facecolor(\"k\")"
   ]
  },
  {
   "cell_type": "markdown",
   "metadata": {},
   "source": [
    "# Equiries to Credit Bureau about the client before application."
   ]
  },
  {
   "cell_type": "markdown",
   "metadata": {},
   "source": [
    "AMT_REQ_CREDIT_BUREAU_HOUR - Number of enquiries to Credit Bureau about the client one hour before application.\n",
    "AMT_REQ_CREDIT_BUREAU_DAY - Number of enquiries to Credit Bureau about the client one day before application (excluding one hour before\n",
    "application).\n",
    "AMT_REQ_CREDIT_BUREAU_WEEK - Number of enquiries to Credit Bureau about the client one week before application (excluding one day\n",
    "before application).\n",
    "AMT_REQ_CREDIT_BUREAU_MON - Number of enquiries to Credit Bureau about the client one month before application (excluding one week\n",
    "before application).\n",
    "Equiries to Credit Bureau about the client before application.\n",
    "AMT_REQ_CREDIT_BUREAU_QRT - Number of enquiries to Credit Bureau about the client 3 month before application (excluding one month\n",
    "before application).\n",
    "AMT_REQ_CREDIT_BUREAU_YEAR - Number of enquiries to Credit Bureau about the client one day year (excluding last 3 months before\n",
    "application)"
   ]
  },
  {
   "cell_type": "code",
   "execution_count": null,
   "metadata": {},
   "outputs": [],
   "source": [
    "cols = ['AMT_REQ_CREDIT_BUREAU_HOUR', 'AMT_REQ_CREDIT_BUREAU_DAY',\n",
    " 'AMT_REQ_CREDIT_BUREAU_WEEK', 'AMT_REQ_CREDIT_BUREAU_MON',\n",
    " 'AMT_REQ_CREDIT_BUREAU_QRT', 'AMT_REQ_CREDIT_BUREAU_YEAR']\n",
    "application_data.groupby(\"TARGET\")[cols].max().transpose().plot(kind=\"barh\",\n",
    " figsize=(10,5),width=.8)\n",
    "plt.title(\"Maximum enquries made by defaulters and repayers\")\n",
    "application_data.groupby(\"TARGET\")[cols].mean().transpose().plot(kind=\"barh\",\n",
    " figsize=(10,5),width=.8)\n",
    "plt.title(\"average enquries made by defaulters and repayers\")\n",
    "application_data.groupby(\"TARGET\")[cols].std().transpose().plot(kind=\"barh\",\n",
    " figsize=(10,5),width=.8)\n",
    "plt.title(\"standard deviation in enquries made by defaulters and repayers\")\n",
    "plt.show()"
   ]
  },
  {
   "cell_type": "markdown",
   "metadata": {},
   "source": [
    "# Current loan id having previous loan applications"
   ]
  },
  {
   "cell_type": "markdown",
   "metadata": {},
   "source": [
    "SK_ID_PREV - ID of previous credit in Home credit related to loan in our sample. (One loan in our sample can have 0,1,2 or more previous loan\n",
    "applications in Home Credit, previous application could, but not necessarily have to lead to credit).\n",
    "SK_ID_CURR ID of loan in our sample"
   ]
  },
  {
   "cell_type": "code",
   "execution_count": null,
   "metadata": {},
   "outputs": [],
   "source": [
    "x = previous_application.groupby(\"SK_ID_CURR\")[\"SK_ID_PREV\"].count().reset_index()\n",
    "plt.figure(figsize=(13,7))\n",
    "ax = sns.distplot(x[\"SK_ID_PREV\"],color=\"orange\")\n",
    "plt.axvline(x[\"SK_ID_PREV\"].mean(),linestyle=\"dashed\",color=\"r\",label=\"average\")\n",
    "plt.axvline(x[\"SK_ID_PREV\"].std(),linestyle=\"dashed\",color=\"b\",label=\"standard deviation\")\n",
    "plt.axvline(x[\"SK_ID_PREV\"].max(),linestyle=\"dashed\",color=\"g\",label=\"maximum\")\n",
    "plt.legend(loc=\"best\")\n",
    "plt.title(\"Current loan id having previous loan applications\")\n",
    "ax.set_facecolor(\"k\")"
   ]
  },
  {
   "cell_type": "markdown",
   "metadata": {},
   "source": [
    "On average current loan ids have 4 to 5 loan applications previously"
   ]
  },
  {
   "cell_type": "markdown",
   "metadata": {},
   "source": [
    "# Contract types in previous applications"
   ]
  },
  {
   "cell_type": "markdown",
   "metadata": {},
   "source": [
    "NAME_CONTRACT_TYPE Contract product type (Cash loan, consumer loan [POS] ,...) of the previous application."
   ]
  },
  {
   "cell_type": "code",
   "execution_count": null,
   "metadata": {},
   "outputs": [],
   "source": [
    "cnts = previous_application[\"NAME_CONTRACT_TYPE\"].value_counts()\n",
    "import squarify\n",
    "plt.figure(figsize=(8,6))\n",
    "squarify.plot(cnts.values,label=cnts.keys(),value=cnts.values,linewidth=2,edgecolor=\"k\",alpha=.8,color=sns.color_palette(\"Set1\"))\n",
    "plt.axis(\"off\")\n",
    "plt.title(\"Contaract types in previous applications\")\n",
    "plt.show()"
   ]
  },
  {
   "cell_type": "markdown",
   "metadata": {},
   "source": [
    "Cash loan applications are maximum followed by consumer loan applications."
   ]
  },
  {
   "cell_type": "markdown",
   "metadata": {},
   "source": [
    "# Previous loan amounts applied and loan amounts credited.\n"
   ]
  },
  {
   "cell_type": "markdown",
   "metadata": {},
   "source": [
    "AMT_APPLICATION-For how much credit did client ask on the previous application.\n",
    "AMT_CREDIT-Final credit amount on the previous application. This differs from AMT_APPLICATION in a way that the AMT_APPLICATION is the\n",
    "amount for which the client initially applied for, but during our approval process he could have received different amount - AMT_CREDIT.\n"
   ]
  },
  {
   "cell_type": "code",
   "execution_count": null,
   "metadata": {},
   "outputs": [],
   "source": [
    "plt.figure(figsize=(20,20))\n",
    "plt.subplot(211)\n",
    "ax = sns.kdeplot(previous_application[\"AMT_APPLICATION\"],color=\"b\",linewidth=3)\n",
    "ax = sns.kdeplot(previous_application[previous_application[\"AMT_CREDIT\"].notnull()][\"AMT_CREDIT\"],color=\"r\",linewidth=3)\n",
    "plt.axvline(previous_application[previous_application[\"AMT_CREDIT\"].notnull()][\"AMT_CREDIT\"].mean(),color=\"r\",linestyle=\"dashed\",label=\"\n",
    "plt.axvline(previous_application[\"AMT_APPLICATION\"].mean(),color=\"b\",linestyle=\"dashed\",label=\"AMT_APPLICATION_MEAN\")\n",
    "plt.legend(loc=\"best\")\n",
    "plt.title(\"Previous loan amounts applied and loan amounts credited.\")\n",
    "ax.set_facecolor(\"k\")\n",
    "plt.subplot(212)\n",
    "diff = (previous_application[\"AMT_CREDIT\"] - previous_application[\"AMT_APPLICATION\"]).reset_index()\n",
    "diff = diff[diff[0].notnull()]\n",
    "ax1 = sns.kdeplot(diff[0],color=\"g\",linewidth=3,label = \"difference in amount requested by client and amount credited\")\n",
    "plt.axvline(diff[0].mean(),color=\"white\",linestyle=\"dashed\",label = \"mean\")\n",
    "plt.title(\"difference in amount requested by client and amount credited\")\n",
    "ax1.legend(loc=\"best\")\n",
    "ax1.set_facecolor(\"k\")"
   ]
  },
  {
   "cell_type": "markdown",
   "metadata": {},
   "source": [
    "# Total and average amounts applied and credited in previous applications"
   ]
  },
  {
   "cell_type": "markdown",
   "metadata": {},
   "source": [
    "AMT_APPLICATION-For how much credit did client ask on the previous application. >AMT_CREDIT-Final credit amount on the previous\n",
    "application. This differs from AMT_APPLICATION in a way that the AMT_APPLICATION is the amount for which the client."
   ]
  },
  {
   "cell_type": "code",
   "execution_count": null,
   "metadata": {},
   "outputs": [],
   "source": [
    "mn = previous_application.groupby(\"NAME_CONTRACT_TYPE\")[[\"AMT_APPLICATION\",\"AMT_CREDIT\"]].mean().stack().reset_index()\n",
    "tt = previous_application.groupby(\"NAME_CONTRACT_TYPE\")[[\"AMT_APPLICATION\",\"AMT_CREDIT\"]].sum().stack().reset_index()\n",
    "fig = plt.figure(figsize=(10,13))\n",
    "fig.set_facecolor(\"ghostwhite\")\n",
    "plt.subplot(211)\n",
    "ax = sns.barplot(0,\"NAME_CONTRACT_TYPE\",data=mn[:6],hue=\"level_1\",palette=\"inferno\")\n",
    "ax.set_facecolor(\"k\")\n",
    "ax.set_xlabel(\"average amounts\")\n",
    "ax.set_title(\"Average amounts by contract types\")\n",
    "plt.subplot(212)\n",
    "ax1 = sns.barplot(0,\"NAME_CONTRACT_TYPE\",data=tt[:6],hue=\"level_1\",palette=\"magma\")\n",
    "ax1.set_facecolor(\"k\")\n",
    "ax1.set_xlabel(\"total amounts\")\n",
    "ax1.set_title(\"total amounts by contract types\")\n",
    "plt.subplots_adjust(hspace = .2)\n",
    "plt.show()"
   ]
  },
  {
   "cell_type": "markdown",
   "metadata": {},
   "source": [
    "# Annuity of previous application"
   ]
  },
  {
   "cell_type": "markdown",
   "metadata": {},
   "source": [
    "AMT_ANNUITY - Annuity of previous application"
   ]
  },
  {
   "cell_type": "code",
   "execution_count": null,
   "metadata": {},
   "outputs": [],
   "source": [
    "plt.figure(figsize=(14,5))\n",
    "plt.subplot(121)\n",
    "previous_application.groupby(\"NAME_CONTRACT_TYPE\")[\"AMT_ANNUITY\"].sum().plot(kind=\"bar\")\n",
    "plt.xticks(rotation=0)\n",
    "plt.title(\"Total annuity amount by contract types in previous applications\")\n",
    "plt.subplot(122)\n",
    "previous_application.groupby(\"NAME_CONTRACT_TYPE\")[\"AMT_ANNUITY\"].mean().plot(kind=\"bar\")\n",
    "plt.title(\"average annuity amount by contract types in previous applications\")\n",
    "plt.xticks(rotation=0)\n",
    "plt.show()"
   ]
  },
  {
   "cell_type": "markdown",
   "metadata": {},
   "source": [
    "# Count of application status by application type."
   ]
  },
  {
   "cell_type": "markdown",
   "metadata": {},
   "source": [
    "NAME_CONTRACT_TYPE -Contract product type (Cash loan, consumer loan [POS] ,...) of the previous application.\n",
    "NAME_CONTRACT_STATUS -Contract status (approved, cancelled, ...) of previous application"
   ]
  },
  {
   "cell_type": "code",
   "execution_count": null,
   "metadata": {},
   "outputs": [],
   "source": [
    "ax = pd.crosstab(previous_application[\"NAME_CONTRACT_TYPE\"],previous_application[\"NAME_CONTRACT_STATUS\"]).plot(kind=\"barh\",figsize=(10,7\n",
    "plt.xticks(rotation =0)\n",
    "plt.ylabel(\"count\")\n",
    "plt.title(\"Count of application status by application type\")\n",
    "ax.set_facecolor(\"k\")"
   ]
  },
  {
   "cell_type": "markdown",
   "metadata": {},
   "source": [
    "Consumer loan applications are most approved loans and cash loans are most cancelled and refused loans.\n"
   ]
  },
  {
   "cell_type": "markdown",
   "metadata": {},
   "source": [
    "# Contract status by weekdays"
   ]
  },
  {
   "cell_type": "markdown",
   "metadata": {},
   "source": [
    "WEEKDAY_APPR_PROCESS_START - On which day of the week did the client apply for previous application\n"
   ]
  },
  {
   "cell_type": "code",
   "execution_count": null,
   "metadata": {},
   "outputs": [],
   "source": [
    "hr = pd.crosstab(previous_application[\"WEEKDAY_APPR_PROCESS_START\"],previous_application[\"NAME_CONTRACT_STATUS\"]).stack().reset_index()\n",
    "plt.figure(figsize=(12,8))\n",
    "ax = sns.pointplot(hr[\"WEEKDAY_APPR_PROCESS_START\"],hr[0],hue=hr[\"NAME_CONTRACT_STATUS\"],palette=[\"g\",\"r\",\"b\",\"orange\"],scale=1)\n",
    "ax.set_facecolor(\"k\")\n",
    "ax.set_ylabel(\"count\")\n",
    "ax.set_title(\"Contract status by weekdays\")\n",
    "plt.grid(True,alpha=.2)"
   ]
  },
  {
   "cell_type": "markdown",
   "metadata": {},
   "source": [
    "# Contract status by hour of the day"
   ]
  },
  {
   "cell_type": "markdown",
   "metadata": {},
   "source": [
    "HOUR_APPR_PROCESS_START - Approximately at what day hour did the client apply for the previous application"
   ]
  },
  {
   "cell_type": "code",
   "execution_count": null,
   "metadata": {},
   "outputs": [],
   "source": [
    "hr = pd.crosstab(previous_application[\"HOUR_APPR_PROCESS_START\"],previous_application[\"NAME_CONTRACT_STATUS\"]).stack().reset_index()\n",
    "plt.figure(figsize=(12,8))\n",
    "ax = sns.pointplot(hr[\"HOUR_APPR_PROCESS_START\"],hr[0],hue=hr[\"NAME_CONTRACT_STATUS\"],palette=[\"g\",\"r\",\"b\",\"orange\"],scale=1)\n",
    "ax.set_facecolor(\"k\")\n",
    "ax.set_ylabel(\"count\")\n",
    "ax.set_title(\"Contract status by day hours.\")\n",
    "plt.grid(True,alpha=.2)"
   ]
  },
  {
   "cell_type": "markdown",
   "metadata": {},
   "source": [
    "Morning 11'o clock have maximum number of approvals.\n",
    "Morning 10'o clock have maximum number of refused and cancelled contracts"
   ]
  },
  {
   "cell_type": "markdown",
   "metadata": {},
   "source": [
    "# Peak hours for week days for applying loans."
   ]
  },
  {
   "cell_type": "code",
   "execution_count": null,
   "metadata": {},
   "outputs": [],
   "source": [
    "hr = pd.crosstab(previous_application[\"HOUR_APPR_PROCESS_START\"],previous_application[\"WEEKDAY_APPR_PROCESS_START\"]).stack().reset_index\n",
    "plt.figure(figsize=(12,8))\n",
    "ax = sns.pointplot(hr[\"HOUR_APPR_PROCESS_START\"],hr[0],hue=hr[\"WEEKDAY_APPR_PROCESS_START\"],palette=[\"g\",\"r\",\"b\",\"orange\"],scale=1)\n",
    "ax.set_facecolor(\"k\")\n",
    "ax.set_ylabel(\"count\")\n",
    "ax.set_title(\"Peak hours for week days\")\n",
    "plt.grid(True,alpha=.2)"
   ]
  },
  {
   "cell_type": "markdown",
   "metadata": {},
   "source": [
    "# Percentage of applications accepted,cancelled,refused and unused for different loan purposes"
   ]
  },
  {
   "cell_type": "markdown",
   "metadata": {},
   "source": [
    "NAME_CASH_LOAN_PURPOSE - Purpose of the cash loan.\n",
    "NAME_CONTRACT_STATUS - Contract status (approved, cancelled, ...) of previous application.\n"
   ]
  },
  {
   "cell_type": "code",
   "execution_count": null,
   "metadata": {},
   "outputs": [],
   "source": [
    "previous_application[[\"NAME_CASH_LOAN_PURPOSE\",\"NAME_CONTRACT_STATUS\"]]\n",
    "purpose = pd.crosstab(previous_application[\"NAME_CASH_LOAN_PURPOSE\"],previous_application[\"NAME_CONTRACT_STATUS\"])\n",
    "purpose[\"a\"] = (purpose[\"Approved\"]*100)/(purpose[\"Approved\"]+purpose[\"Canceled\"]+purpose[\"Refused\"]+purpose[\"Unused offer\"])\n",
    "purpose[\"c\"] = (purpose[\"Canceled\"]*100)/(purpose[\"Approved\"]+purpose[\"Canceled\"]+purpose[\"Refused\"]+purpose[\"Unused offer\"])\n",
    "purpose[\"r\"] = (purpose[\"Refused\"]*100)/(purpose[\"Approved\"]+purpose[\"Canceled\"]+purpose[\"Refused\"]+purpose[\"Unused offer\"])\n",
    "purpose[\"u\"] = (purpose[\"Unused offer\"]*100)/(purpose[\"Approved\"]+purpose[\"Canceled\"]+purpose[\"Refused\"]+purpose[\"Unused offer\"])\n",
    "purpose_new = purpose[[\"a\",\"c\",\"r\",\"u\"]]\n",
    "purpose_new = purpose_new.stack().reset_index()\n",
    "purpose new[\"NAME CONTRACT STATUS\"] = purpose new[\"NAME CONTRACT STATUS\"].replace({\"a\":\"accepted percentage\",\"c\":\"cancelled percentage\",\n",
    " \"r\":\"refused_percentage\",\"u\":\"unused_percentage\"})\n",
    "lst = purpose_new[\"NAME_CONTRACT_STATUS\"].unique().tolist()\n",
    "length = len(lst)\n",
    "cs = [\"lime\",\"orange\",\"r\",\"b\"]\n",
    "fig = plt.figure(figsize=(14,18))\n",
    "fig.set_facecolor(\"lightgrey\")\n",
    "for i,j,k in itertools.zip_longest(lst,range(length),cs):\n",
    " plt.subplot(2,2,j+1)\n",
    " dat = purpose_new[purpose_new[\"NAME_CONTRACT_STATUS\"] == i]\n",
    " ax = sns.barplot(0,\"NAME_CASH_LOAN_PURPOSE\",data=dat.sort_values(by=0,ascending=False),color=k)\n",
    " plt.ylabel(\"\")\n",
    " plt.xlabel(\"percentage\")\n",
    " plt.title(i+\" by purpose\")\n",
    " plt.subplots_adjust(wspace = .7)\n",
    " ax.set_facecolor(\"k\")"
   ]
  },
  {
   "cell_type": "markdown",
   "metadata": {},
   "source": [
    "Purposes like XAP ,electronic eqipment ,everey day expences and education have maximum loan acceptance.\n",
    "Loan puposes like payment of other loans ,refusal to name goal ,buying new home or car have most refusals.\n",
    "40% of XNA purpose loans are cancalled."
   ]
  },
  {
   "cell_type": "markdown",
   "metadata": {},
   "source": [
    "# Contract status relative to decision made about previous application."
   ]
  },
  {
   "cell_type": "markdown",
   "metadata": {},
   "source": [
    "DAYS_DECISION - Relative to current application when was the decision about previous application made."
   ]
  },
  {
   "cell_type": "code",
   "execution_count": null,
   "metadata": {},
   "outputs": [],
   "source": [
    "plt.figure(figsize=(13,6))\n",
    "sns.violinplot(y= previous_application[\"DAYS_DECISION\"],\n",
    " x = previous_application[\"NAME_CONTRACT_STATUS\"],palette=[\"r\",\"g\",\"b\",\"y\"])\n",
    "plt.axhline(previous_application[previous_application[\"NAME_CONTRACT_STATUS\"] == \"Approved\"][\"DAYS_DECISION\"].mean(),\n",
    " color=\"r\",linestyle=\"dashed\",label=\"accepted_average\")\n",
    "plt.axhline(previous_application[previous_application[\"NAME_CONTRACT_STATUS\"] == \"Refused\"][\"DAYS_DECISION\"].mean(),\n",
    " color=\"g\",linestyle=\"dashed\",label=\"refused_average\")\n",
    "plt.axhline(previous_application[previous_application[\"NAME_CONTRACT_STATUS\"] == \"Cancelled\"][\"DAYS_DECISION\"].mean(),color=\"b\",\n",
    " linestyle=\"dashed\",label=\"cancelled_average\")\n",
    "plt.axhline(previous_application[previous_application[\"NAME_CONTRACT_STATUS\"] == \"Unused offer\"][\"DAYS_DECISION\"].mean(),color=\"y\",\n",
    " linestyle=\"dashed\",label=\"un used_average\")\n",
    "plt.legend(loc=\"best\")\n",
    "plt.title(\"Contract status relative to decision made about previous application.\")\n",
    "plt.show()"
   ]
  },
  {
   "cell_type": "markdown",
   "metadata": {},
   "source": [
    "On average approved contract types have higher number of decision days compared to cancelled and refused contracts"
   ]
  },
  {
   "cell_type": "markdown",
   "metadata": {},
   "source": [
    "# Client payment methods & reasons for application rejections"
   ]
  },
  {
   "cell_type": "markdown",
   "metadata": {},
   "source": [
    "NAME_PAYMENT_TYPE - Payment method that client chose to pay for the previous application.\n",
    "CODE_REJECT_REASON - Why was the previous application rejected."
   ]
  },
  {
   "cell_type": "code",
   "execution_count": null,
   "metadata": {},
   "outputs": [],
   "source": [
    "plt.figure(figsize=(8,12))\n",
    "plt.subplot(211)\n",
    "rej = previous_application[\"CODE_REJECT_REASON\"].value_counts().reset_index()\n",
    "ax = sns.barplot(\"CODE_REJECT_REASON\",\"index\",data=rej[:6],palette=\"husl\")\n",
    "for i,j in enumerate(np.around((rej[\"CODE_REJECT_REASON\"][:6].values*100/(rej[\"CODE_REJECT_REASON\"][:6].sum())))):\n",
    " ax.text(.7,i,j,weight=\"bold\")\n",
    "plt.xlabel(\"Top as percentage & Bottom as Count\")\n",
    "plt.ylabel(\"CODE_REJECT_REASON\")\n",
    "plt.title(\"Reasons for application rejections\")\n",
    "plt.subplot(212)\n",
    "pay = previous_application[\"NAME_PAYMENT_TYPE\"].value_counts().reset_index()\n",
    "ax1 = sns.barplot(\"NAME_PAYMENT_TYPE\",\"index\",data=pay,palette=\"husl\")\n",
    "for i,j in enumerate(np.around((pay[\"NAME_PAYMENT_TYPE\"].values*100/(pay[\"NAME_PAYMENT_TYPE\"].sum())))):\n",
    " ax1.text(.7,i,j,weight=\"bold\")\n",
    "plt.xlabel(\"pTop as percentage & Bottom as Count\")\n",
    "plt.ylabel(\"NAME_PAYMENT_TYPE\")\n",
    "plt.title(\"Clients payment methods\")\n",
    "plt.subplots_adjust(hspace = .3)"
   ]
  },
  {
   "cell_type": "markdown",
   "metadata": {},
   "source": [
    "Around 81% of rejected applications the reason is XAP.\n",
    "62% of chose to pay through cash by bank for previous applications."
   ]
  },
  {
   "cell_type": "markdown",
   "metadata": {},
   "source": [
    "# Distribution in Client suite type & client type"
   ]
  },
  {
   "cell_type": "markdown",
   "metadata": {},
   "source": [
    "NAME_TYPE_SUITE - Who accompanied client when applying for the previous application.\n",
    "NAME_CLIENT_TYPE - Was the client old or new client when applying for the previous application"
   ]
  },
  {
   "cell_type": "code",
   "execution_count": null,
   "metadata": {},
   "outputs": [],
   "source": [
    "plt.figure(figsize=(20,20))\n",
    "plt.subplot(121)\n",
    "previous_application[\"NAME_TYPE_SUITE\"].value_counts().plot.pie(autopct = \"%1.1f%%\",fontsize=12,\n",
    " colors = sns.color_palette(\"inferno\"),\n",
    " wedgeprops={\"linewidth\":2,\"edgecolor\":\"white\"},shadow =True)\n",
    "circ = plt.Circle((0,0),.7,color=\"white\")\n",
    "plt.gca().add_artist(circ)\n",
    "plt.title(\"NAME_TYPE_SUITE\")\n",
    "plt.subplot(122)\n",
    "previous_application[\"NAME_CLIENT_TYPE\"].value_counts().plot.pie(autopct = \"%1.1f%%\",fontsize=12,\n",
    " colors = sns.color_palette(\"inferno\"),\n",
    " wedgeprops={\"linewidth\":2,\"edgecolor\":\"white\"},shadow =True)\n",
    "circ = plt.Circle((0,0),.7,color=\"white\")\n",
    "plt.gca().add_artist(circ)\n",
    "plt.title(\"NAME_CLIENT_TYPE\")\n",
    "plt.show()"
   ]
  },
  {
   "cell_type": "markdown",
   "metadata": {},
   "source": [
    "About 60% clients are un-accompained when applying for loans.\n",
    "73% clients are old clients\n"
   ]
  },
  {
   "cell_type": "markdown",
   "metadata": {},
   "source": [
    "# Popular goods for applying loans"
   ]
  },
  {
   "cell_type": "markdown",
   "metadata": {},
   "source": [
    "NAME_GOODS_CATEGORY - What kind of goods did the client apply for in the previous application.\n"
   ]
  },
  {
   "cell_type": "code",
   "execution_count": null,
   "metadata": {},
   "outputs": [],
   "source": [
    "goods = previous_application[\"NAME_GOODS_CATEGORY\"].value_counts().reset_index()\n",
    "goods[\"percentage\"] = round(goods[\"NAME_GOODS_CATEGORY\"]*100/goods[\"NAME_GOODS_CATEGORY\"].sum(),2)\n",
    "fig = plt.figure(figsize=(12,5))\n",
    "ax = sns.pointplot(\"index\",\"percentage\",data=goods,color=\"yellow\")\n",
    "plt.xticks(rotation = 80)\n",
    "plt.xlabel(\"NAME_GOODS_CATEGORY\")\n",
    "plt.ylabel(\"percentage\")\n",
    "plt.title(\"popular goods for applying loans\")\n",
    "ax.set_facecolor(\"k\")\n",
    "fig.set_facecolor('lightgrey')"
   ]
  },
  {
   "cell_type": "markdown",
   "metadata": {},
   "source": [
    "XNA ,Mobiles ,Computers and consumer electronics are popular goods for applying loans\n"
   ]
  },
  {
   "cell_type": "markdown",
   "metadata": {},
   "source": [
    "# Previous applications portfolio and product types"
   ]
  },
  {
   "cell_type": "markdown",
   "metadata": {},
   "source": [
    "AME_PORTFOLIO - Was the previous application for CASH, POS, CAR, …\n",
    "NAME_PRODUCT_TYPE - Was the previous application x-sell o walk-in"
   ]
  },
  {
   "cell_type": "code",
   "execution_count": null,
   "metadata": {},
   "outputs": [],
   "source": [
    "plt.figure(figsize=(20,20))\n",
    "plt.subplot(121)\n",
    "previous_application[\"NAME_PORTFOLIO\"].value_counts().plot.pie(autopct = \"%1.1f%%\",fontsize=12,\n",
    " colors = sns.color_palette(\"prism\",5),\n",
    " wedgeprops={\"linewidth\":2,\"edgecolor\":\"white\"},\n",
    " shadow =True)\n",
    "plt.title(\"previous applications portfolio\")\n",
    "plt.subplot(122)\n",
    "previous_application[\"NAME_PRODUCT_TYPE\"].value_counts().plot.pie(autopct = \"%1.1f%%\",fontsize=12,\n",
    " colors = sns.color_palette(\"prism\",3),\n",
    " wedgeprops={\"linewidth\":2,\"edgecolor\":\"white\"},\n",
    " shadow =True)\n",
    "plt.title(\"previous applications product types\")\n",
    "plt.show()"
   ]
  },
  {
   "cell_type": "markdown",
   "metadata": {},
   "source": [
    "# Approval,canceled and refusal rates by channel types"
   ]
  },
  {
   "cell_type": "markdown",
   "metadata": {},
   "source": [
    "CHANNEL_TYPE - Through which channel we acquired the client on the previous application.\n",
    "NAME_CONTRACT_STATUS- Contract status (approved, cancelled, ...) of previous application"
   ]
  },
  {
   "cell_type": "code",
   "execution_count": null,
   "metadata": {},
   "outputs": [],
   "source": [
    "app = pd.crosstab(previous_application[\"CHANNEL_TYPE\"],previous_application[\"NAME_CONTRACT_STATUS\"])\n",
    "app1 = app\n",
    "app1[\"approval_rate\"] = app1[\"Approved\"]*100/(app1[\"Approved\"]+app1[\"Refused\"]+app1[\"Canceled\"])\n",
    "app1[\"refused_rate\"] = app1[\"Refused\"]*100/(app1[\"Approved\"]+app1[\"Refused\"]+app1[\"Canceled\"])\n",
    "app1[\"cacelled_rate\"] = app1[\"Canceled\"]*100/(app1[\"Approved\"]+app1[\"Refused\"]+app1[\"Canceled\"])\n",
    "app2 = app[[\"approval_rate\",\"refused_rate\",\"cacelled_rate\"]]\n",
    "ax = app2.plot(kind=\"barh\",stacked=True,figsize=(10,7))\n",
    "ax.set_facecolor(\"k\")\n",
    "ax.set_xlabel(\"percentage\")\n",
    "ax.set_title(\"approval,cancel and refusal rates by channel types\")\n",
    "plt.show()"
   ]
  },
  {
   "cell_type": "markdown",
   "metadata": {},
   "source": [
    "Channel types like Stone ,regional and country-wide have maximum approval rates.\n",
    "Channel of coorporate sales have maximum refusal rate.\n",
    "Credit-cash centres and Contact centres have maximum cancellation rates."
   ]
  },
  {
   "cell_type": "markdown",
   "metadata": {},
   "source": [
    "# Highest amount credited seller areas and industries"
   ]
  },
  {
   "cell_type": "markdown",
   "metadata": {},
   "source": [
    "SELLERPLACE_AREA - Selling area of seller place of the previous application.\n",
    "NAME_SELLER_INDUSTRY - The industry of the seller"
   ]
  },
  {
   "cell_type": "code",
   "execution_count": null,
   "metadata": {},
   "outputs": [],
   "source": [
    "fig = plt.figure(figsize=(13,5))\n",
    "plt.subplot(121)\n",
    "are = previous_application.groupby(\"SELLERPLACE_AREA\")[\"AMT_CREDIT\"].sum().reset_index()\n",
    "are = are.sort_values(by =\"AMT_CREDIT\",ascending = False)\n",
    "ax = sns.barplot(y= \"AMT_CREDIT\",x =\"SELLERPLACE_AREA\",data=are[:15],color=\"r\")\n",
    "ax.set_facecolor(\"k\")\n",
    "ax.set_title(\"Highest amount credited seller place areas\")\n",
    "plt.subplot(122)\n",
    "sell = previous_application.groupby(\"NAME_SELLER_INDUSTRY\")[\"AMT_CREDIT\"].sum().reset_index().sort_values(by = \"AMT_CREDIT\",ascending =\n",
    "ax1=sns.barplot(y = \"AMT_CREDIT\",x = \"NAME_SELLER_INDUSTRY\",data=sell,color=\"b\")\n",
    "ax1.set_facecolor(\"k\")\n",
    "ax1.set_title(\"Highest amount credited seller industrys\")\n",
    "plt.xticks(rotation=90)\n",
    "plt.subplots_adjust(wspace = .5)\n",
    "fig.set_facecolor(\"lightgrey\")"
   ]
  },
  {
   "cell_type": "markdown",
   "metadata": {},
   "source": [
    "# Popular terms of previous credit at application"
   ]
  },
  {
   "cell_type": "markdown",
   "metadata": {},
   "source": [
    "CNT_PAYMENT - Term of previous credit at application of the previous application."
   ]
  },
  {
   "cell_type": "code",
   "execution_count": null,
   "metadata": {},
   "outputs": [],
   "source": [
    "plt.figure(figsize=(13,5))\n",
    "ax = sns.countplot(previous_application[\"CNT_PAYMENT\"],palette=\"Set1\",order=previous_application[\"CNT_PAYMENT\"].value_counts().index)\n",
    "ax.set_facecolor(\"k\")\n",
    "plt.xticks(rotation = 90)\n",
    "plt.title(\"popular terms of previous credit at application\")\n",
    "plt.show()"
   ]
  },
  {
   "cell_type": "markdown",
   "metadata": {},
   "source": [
    "pular term of previous credit are 6months ,10months ,1year ,2years & 3 years.\n"
   ]
  },
  {
   "cell_type": "markdown",
   "metadata": {},
   "source": [
    "# Detailed product combination of the previous application"
   ]
  },
  {
   "cell_type": "code",
   "execution_count": null,
   "metadata": {},
   "outputs": [],
   "source": [
    "plt.figure(figsize=(10,8))\n",
    "sns.countplot(y = previous_application[\"PRODUCT_COMBINATION\"],order=previous_application[\"PRODUCT_COMBINATION\"].value_counts().index)\n",
    "plt.title(\"Detailed product combination of the previous application -count\")\n",
    "plt.show()"
   ]
  },
  {
   "cell_type": "markdown",
   "metadata": {},
   "source": [
    "# Frequency distribution of intrest rates and client insurance requests"
   ]
  },
  {
   "cell_type": "markdown",
   "metadata": {},
   "source": [
    "NAME_YIELD_GROUP - Grouped interest rate into small medium and high of the previous application.\n",
    "NFLAG_INSURED_ON_APPROVAL - Did the client requested insurance during the previous application"
   ]
  },
  {
   "cell_type": "code",
   "execution_count": null,
   "metadata": {},
   "outputs": [],
   "source": [
    "plt.figure(figsize=(12,6))\n",
    "plt.subplot(121)\n",
    "previous_application[\"NFLAG_INSURED_ON_APPROVAL\"].value_counts().plot.pie(autopct = \"%1.1f%%\",fontsize=8,\n",
    " colors = sns.color_palette(\"prism\",4),\n",
    " wedgeprops={\"linewidth\":2,\"edgecolor\":\"white\"},shadow =True)\n",
    "circ = plt.Circle((0,0),.7,color=\"white\")\n",
    "plt.gca().add_artist(circ)\n",
    "plt.title(\"client requesting insurance\")\n",
    "plt.subplot(122)\n",
    "previous_application[\"NAME_YIELD_GROUP\"].value_counts().plot.pie(autopct = \"%1.1f%%\",fontsize=8,\n",
    " colors = sns.color_palette(\"prism\",4),\n",
    " wedgeprops={\"linewidth\":2,\"edgecolor\":\"white\"},shadow =True)\n",
    "circ = plt.Circle((0,0),.7,color=\"white\")\n",
    "plt.gca().add_artist(circ)\n",
    "plt.title(\"interest rates\")\n",
    "plt.show()"
   ]
  },
  {
   "cell_type": "markdown",
   "metadata": {},
   "source": [
    "# Days variables - Relative to application date of current application"
   ]
  },
  {
   "cell_type": "markdown",
   "metadata": {},
   "source": [
    "DAYS_FIRST_DRAWING - Relative to application date of current application when was the rst disbursement of the previous application.\n",
    "DAYS_FIRST_DUE - Relative to application date of current application when was the rst due supposed to be of the previous application.\n",
    "DAYS_LAST_DUE_1ST_VERSION - Relative to application date of current application when was the rst due of the previous application.\n",
    "DAYS_LAST_DUE -Relative to application date of current application when was the last due date of the previous application.\n",
    "DAYS_TERMINATION - Relative to application date of current application when was the expected termination of the previous application"
   ]
  },
  {
   "cell_type": "code",
   "execution_count": null,
   "metadata": {},
   "outputs": [],
   "source": [
    "cols = ['DAYS_FIRST_DRAWING', 'DAYS_FIRST_DUE', 'DAYS_LAST_DUE_1ST_VERSION','DAYS_LAST_DUE', 'DAYS_TERMINATION']\n",
    "plt.figure(figsize=(12,6))\n",
    "sns.heatmap(previous_application[cols].describe()[1:].transpose(),\n",
    " annot=True,linewidth=2,linecolor=\"k\",cmap=sns.color_palette(\"inferno\"))\n",
    "plt.show()"
   ]
  },
  {
   "cell_type": "markdown",
   "metadata": {},
   "source": [
    "# Corelation between variables"
   ]
  },
  {
   "cell_type": "code",
   "execution_count": null,
   "metadata": {},
   "outputs": [],
   "source": [
    "corrmat = application_data.corr()\n",
    "\n",
    "f, ax = plt.subplots(figsize =(8, 8))\n",
    "sns.heatmap(corrmat, ax = ax, cmap =\"rainbow\")\n",
    "plt.show()"
   ]
  },
  {
   "cell_type": "markdown",
   "metadata": {},
   "source": [
    "# Previous Application"
   ]
  },
  {
   "cell_type": "code",
   "execution_count": null,
   "metadata": {},
   "outputs": [],
   "source": [
    "corrmat = previous_application.corr()\n",
    "\n",
    "f, ax = plt.subplots(figsize =(8, 8))\n",
    "sns.heatmap(corrmat, ax = ax, cmap =\"rainbow\")\n",
    "plt.show()"
   ]
  },
  {
   "cell_type": "code",
   "execution_count": null,
   "metadata": {},
   "outputs": [],
   "source": [
    "corrmat = previous_application.corr()\n",
    "corrdf = corrmat.where(np.triu(np.ones(corrmat.shape), k=1).astype(np.bool))\n",
    "corrdf = corrdf.unstack().reset_index()\n",
    "corrdf.columns = ['Var1', 'Var2', 'Correlation']\n",
    "corrdf.dropna(subset = ['Correlation'], inplace = True)\n",
    "corrdf['Correlation'] = round(corrdf['Correlation'], 2)\n",
    "corrdf['Correlation'] = abs(corrdf['Correlation'])\n",
    "corrdf.sort_values(by = 'Correlation', ascending = False).head(10)"
   ]
  },
  {
   "cell_type": "markdown",
   "metadata": {},
   "source": [
    "# Top 10 Correlation Fields for Repayer"
   ]
  },
  {
   "cell_type": "code",
   "execution_count": null,
   "metadata": {},
   "outputs": [],
   "source": [
    "df_repayer = application_data[application_data['TARGET'] == 0]\n",
    "df_defaulter = application_data[application_data['TARGET'] == 1]\n",
    "corrmat = df_repayer.corr()\n",
    "corrdf = corrmat.where(np.triu(np.ones(corrmat.shape), k=1).astype(np.bool))\n",
    "corrdf = corrdf.unstack().reset_index()\n",
    "corrdf.columns = ['Var1', 'Var2', 'Correlation']\n",
    "corrdf.dropna(subset = ['Correlation'], inplace = True)\n",
    "corrdf['Correlation'] = round(corrdf['Correlation'], 2)\n",
    "corrdf['Correlation'] = abs(corrdf['Correlation'])\n",
    "corrdf.sort_values(by = 'Correlation', ascending = False).head(10)"
   ]
  },
  {
   "cell_type": "markdown",
   "metadata": {},
   "source": [
    "# Top 10 Correlation Fields for Defaulter"
   ]
  },
  {
   "cell_type": "code",
   "execution_count": null,
   "metadata": {},
   "outputs": [],
   "source": [
    "corrmat = df_defaulter.corr()\n",
    "corrdf = corrmat.where(np.triu(np.ones(corrmat.shape), k=1).astype(np.bool))\n",
    "corrdf = corrdf.unstack().reset_index()\n",
    "corrdf.columns = ['Var1', 'Var2', 'Correlation']\n",
    "corrdf.dropna(subset = ['Correlation'], inplace = True)\n",
    "corrdf['Correlation'] = round(corrdf['Correlation'], 2)\n",
    "corrdf['Correlation'] = abs(corrdf['Correlation'])\n",
    "corrdf.sort_values(by = 'Correlation', ascending = False).head(10)"
   ]
  },
  {
   "cell_type": "code",
   "execution_count": null,
   "metadata": {},
   "outputs": [],
   "source": [
    "mergeddf = pd.merge(application_data,previous_application,on='SK_ID_CURR')\n",
    "mergeddf.head()\n"
   ]
  },
  {
   "cell_type": "code",
   "execution_count": null,
   "metadata": {},
   "outputs": [],
   "source": [
    "y = mergeddf.groupby('SK_ID_CURR').size()\n",
    "dfA = mergeddf.groupby('SK_ID_CURR').agg({'TARGET': np.sum})\n",
    "dfA['count'] = y\n",
    "display(dfA.head(10))"
   ]
  },
  {
   "cell_type": "code",
   "execution_count": null,
   "metadata": {},
   "outputs": [],
   "source": [
    "dfA.sort_values(by = 'count',ascending=False).head(10)"
   ]
  },
  {
   "cell_type": "code",
   "execution_count": null,
   "metadata": {},
   "outputs": [],
   "source": [
    "df_repayer = dfA[dfA['TARGET'] == 0]\n",
    "df_defaulter = dfA[dfA['TARGET'] == 1]"
   ]
  },
  {
   "cell_type": "markdown",
   "metadata": {},
   "source": [
    "# Repayers' Borrowing History"
   ]
  },
  {
   "cell_type": "code",
   "execution_count": null,
   "metadata": {},
   "outputs": [],
   "source": [
    "df_repayer.sort_values(by = 'count',ascending=False).head(10)"
   ]
  },
  {
   "cell_type": "markdown",
   "metadata": {},
   "source": [
    "# Defaulters' Borrowing History\n"
   ]
  },
  {
   "cell_type": "code",
   "execution_count": null,
   "metadata": {},
   "outputs": [],
   "source": [
    "df_defaulter.sort_values(by = 'count',ascending=False).head(10)"
   ]
  },
  {
   "cell_type": "code",
   "execution_count": null,
   "metadata": {},
   "outputs": [],
   "source": [
    "mergeddf.isnull().sum()\n"
   ]
  },
  {
   "cell_type": "code",
   "execution_count": null,
   "metadata": {},
   "outputs": [],
   "source": [
    "round(100*(mergeddf.isnull().sum()/len(mergeddf.index)), 2)"
   ]
  },
  {
   "cell_type": "code",
   "execution_count": null,
   "metadata": {},
   "outputs": [],
   "source": [
    "mergeddf.head()"
   ]
  },
  {
   "cell_type": "code",
   "execution_count": null,
   "metadata": {},
   "outputs": [],
   "source": [
    "#dropping SK_ID_CURR since it all unique values\n",
    "mergeddf.drop(['SK_ID_CURR'], 1, inplace = True)"
   ]
  },
  {
   "cell_type": "code",
   "execution_count": null,
   "metadata": {},
   "outputs": [],
   "source": [
    "mergeddf.head()"
   ]
  },
  {
   "cell_type": "code",
   "execution_count": null,
   "metadata": {},
   "outputs": [],
   "source": [
    "#Now we will take care of null values in each column one by one.\n",
    "round(100*(mergeddf.isnull().sum()/len(mergeddf.index)), 2)\n"
   ]
  },
  {
   "cell_type": "code",
   "execution_count": null,
   "metadata": {},
   "outputs": [],
   "source": [
    "enq_cs =['AMT_REQ_CREDIT_BUREAU_DAY', 'AMT_REQ_CREDIT_BUREAU_HOUR',\n",
    " 'AMT_REQ_CREDIT_BUREAU_MON', 'AMT_REQ_CREDIT_BUREAU_QRT',\n",
    " 'AMT_REQ_CREDIT_BUREAU_WEEK', 'AMT_REQ_CREDIT_BUREAU_YEAR']\n",
    "for i in enq_cs:\n",
    " mergeddf[i] = mergeddf[i].fillna(0)\n",
    "amt_cs = [\"AMT_ANNUITY_y\",\"AMT_GOODS_PRICE_y\"]\n",
    "for i in amt_cs:\n",
    " mergeddf[i] = mergeddf[i].fillna(mergeddf[i].mean())\n",
    "\n",
    "cols = [\"DAYS_FIRST_DRAWING\",\"DAYS_FIRST_DUE\",\"DAYS_LAST_DUE_1ST_VERSION\",\n",
    " \"DAYS_LAST_DUE\",\"DAYS_TERMINATION\",'CNT_PAYMENT']\n",
    "for i in cols :\n",
    " mergeddf[i] = mergeddf[i].fillna(mergeddf[i].median())\n",
    "cols = [\"NAME_TYPE_SUITE_y\",\"NFLAG_INSURED_ON_APPROVAL\"]\n",
    "for i in cols :\n",
    " mergeddf[i] = mergeddf[i].fillna(mergeddf[i].mode()[0])\n",
    "# Rest missing values are under 1.5% so we can drop these rows.\n",
    "mergeddf.dropna(inplace = True)\n",
    "round(100*(mergeddf.isnull().sum()/len(mergeddf.index)), 2)"
   ]
  },
  {
   "cell_type": "code",
   "execution_count": null,
   "metadata": {},
   "outputs": [],
   "source": [
    "mergeddf.isnull().sum()"
   ]
  },
  {
   "cell_type": "code",
   "execution_count": null,
   "metadata": {},
   "outputs": [],
   "source": [
    "mergeddf.head()"
   ]
  },
  {
   "cell_type": "markdown",
   "metadata": {},
   "source": [
    "# Data Preparation"
   ]
  },
  {
   "cell_type": "markdown",
   "metadata": {},
   "source": [
    "Converting some binary variables (Y/N) to 1/0"
   ]
  },
  {
   "cell_type": "code",
   "execution_count": null,
   "metadata": {},
   "outputs": [],
   "source": [
    "# List of variables to map\n",
    "varlist = ['FLAG_OWN_CAR','FLAG_OWN_REALTY','FLAG_LAST_APPL_PER_CONTRACT']\n",
    "# Defining the map function\n",
    "def binary_map(x):\n",
    " return x.map({'Y': 1, \"N\": 0})\n",
    "# Applying the function to the housing list\n",
    "mergeddf[varlist] = mergeddf[varlist].apply(binary_map)\n",
    "mergeddf.head()\n",
    "#dropping SK_ID_PREV since non required technical field\n",
    "mergeddf.drop(['SK_ID_PREV'], 1, inplace = True)\n",
    "mergeddf.head()\n"
   ]
  },
  {
   "cell_type": "code",
   "execution_count": null,
   "metadata": {},
   "outputs": [],
   "source": [
    "mergeddf[['FLAG_OWN_CAR','FLAG_OWN_REALTY','FLAG_MOBIL',\n",
    "'FLAG_EMP_PHONE','FLAG_WORK_PHONE','FLAG_CONT_MOBILE',\n",
    "'FLAG_PHONE','FLAG_EMAIL','REGION_RATING_CLIENT',\n",
    "'REGION_RATING_CLIENT_W_CITY','REG_REGION_NOT_LIVE_REGION',\n",
    "'REG_REGION_NOT_WORK_REGION','LIVE_REGION_NOT_WORK_REGION',\n",
    "'REG_CITY_NOT_LIVE_CITY','REG_CITY_NOT_WORK_CITY','FLAG_DOCUMENT_2',\n",
    "'FLAG_DOCUMENT_3','FLAG_DOCUMENT_4','FLAG_DOCUMENT_5','FLAG_DOCUMENT_6',\n",
    "'FLAG_DOCUMENT_7','FLAG_DOCUMENT_8','FLAG_DOCUMENT_9',\n",
    "'FLAG_DOCUMENT_10','FLAG_DOCUMENT_11','FLAG_DOCUMENT_12','FLAG_DOCUMENT_13',\n",
    "'FLAG_DOCUMENT_14','FLAG_DOCUMENT_15','FLAG_DOCUMENT_16','FLAG_DOCUMENT_17',\n",
    "'FLAG_DOCUMENT_18','FLAG_DOCUMENT_19','FLAG_DOCUMENT_20','FLAG_DOCUMENT_21',\n",
    "'NFLAG_INSURED_ON_APPROVAL']]= mergeddf[['FLAG_OWN_CAR','FLAG_OWN_REALTY','FLAG_MOBIL',\n",
    " 'FLAG_EMP_PHONE','FLAG_WORK_PHONE','FLAG_CONT_MOBILE',\n",
    " 'FLAG_PHONE','FLAG_EMAIL','REGION_RATING_CLIENT',\n",
    " 'REGION_RATING_CLIENT_W_CITY','REG_REGION_NOT_LIVE_REGION',\n",
    "'REG REGION NOT WORK REGION' 'LIVE REGION NOT WORK REGION'\n",
    " 'REG_REGION_NOT_WORK_REGION','LIVE_REGION_NOT_WORK_REGION',\n",
    "'REG_CITY_NOT_LIVE_CITY','REG_CITY_NOT_WORK_CITY','FLAG_DOCUMENT_2',\n",
    " 'FLAG_DOCUMENT_3','FLAG_DOCUMENT_4','FLAG_DOCUMENT_5','FLAG_DOCUMENT_6',\n",
    " 'FLAG_DOCUMENT_7','FLAG_DOCUMENT_8','FLAG_DOCUMENT_9',\n",
    " 'FLAG_DOCUMENT_10','FLAG_DOCUMENT_11','FLAG_DOCUMENT_12','FLAG_DOCUMENT_13',\n",
    " 'FLAG_DOCUMENT_14','FLAG_DOCUMENT_15','FLAG_DOCUMENT_16','FLAG_DOCUMENT_17',\n",
    " 'FLAG_DOCUMENT_18','FLAG_DOCUMENT_19','FLAG_DOCUMENT_20','FLAG_DOCUMENT_21',\n",
    " 'NFLAG_INSURED_ON_APPROVAL']].astype('category')\n",
    "obj_dtypes = [i for i in mergeddf.select_dtypes(include=np.object).columns if i not in [\"type\"] ]\n",
    "num_dtypes = [i for i in mergeddf.select_dtypes(include = np.number).columns if i not in [ 'TARGET']]\n"
   ]
  },
  {
   "cell_type": "code",
   "execution_count": null,
   "metadata": {},
   "outputs": [],
   "source": [
    "# Creating a dummy variable for some of the categorical variables and dropping the first one.\n",
    "dummy1 = pd.get_dummies(mergeddf[['FLAG_OWN_CAR','FLAG_OWN_REALTY','FLAG_MOBIL',\n",
    " 'FLAG_EMP_PHONE','FLAG_WORK_PHONE','FLAG_CONT_MOBILE',\n",
    " 'FLAG_PHONE','FLAG_EMAIL','REGION_RATING_CLIENT',\n",
    " 'REGION_RATING_CLIENT_W_CITY','REG_REGION_NOT_LIVE_REGION',\n",
    "'REG_REGION_NOT_WORK_REGION','LIVE_REGION_NOT_WORK_REGION',\n",
    "'REG_CITY_NOT_LIVE_CITY','REG_CITY_NOT_WORK_CITY','FLAG_DOCUMENT_2',\n",
    " 'FLAG_DOCUMENT_3','FLAG_DOCUMENT_4','FLAG_DOCUMENT_5','FLAG_DOCUMENT_6',\n",
    " 'FLAG_DOCUMENT_7','FLAG_DOCUMENT_8','FLAG_DOCUMENT_9',\n",
    " 'FLAG_DOCUMENT_10','FLAG_DOCUMENT_11','FLAG_DOCUMENT_12','FLAG_DOCUMENT_13',\n",
    " 'FLAG_DOCUMENT_14','FLAG_DOCUMENT_15','FLAG_DOCUMENT_16','FLAG_DOCUMENT_17',\n",
    " 'FLAG_DOCUMENT_18','FLAG_DOCUMENT_19','FLAG_DOCUMENT_20','FLAG_DOCUMENT_21',\n",
    " 'NFLAG_INSURED_ON_APPROVAL','NAME_CONTRACT_TYPE_x','CODE_GENDER',\n",
    " 'NAME_TYPE_SUITE_x','NAME_INCOME_TYPE','NAME_EDUCATION_TYPE','NAME_FAMILY_STATUS',\n",
    " 'NAME_HOUSING_TYPE','WEEKDAY_APPR_PROCESS_START_x','ORGANIZATION_TYPE','NAME_CONTRACT_TYPE_y',\n",
    " 'WEEKDAY_APPR_PROCESS_START_y','NAME_CASH_LOAN_PURPOSE','NAME_CONTRACT_STATUS','NAME_PAYMENT_TYPE',\n",
    " 'CODE_REJECT_REASON','NAME_TYPE_SUITE_y','NAME_CLIENT_TYPE','NAME_GOODS_CATEGORY',\n",
    " 'NAME_PORTFOLIO','NAME_PRODUCT_TYPE','CHANNEL_TYPE','NAME_SELLER_INDUSTRY',\n",
    " 'NAME_YIELD_GROUP','PRODUCT_COMBINATION']], drop_first=True)\n",
    "dummy1.head()"
   ]
  },
  {
   "cell_type": "code",
   "execution_count": null,
   "metadata": {},
   "outputs": [],
   "source": [
    "# Adding the results to the master dataframe\n",
    "mergeddf = pd.concat([mergeddf, dummy1], axis=1)\n",
    "mergeddf.head()"
   ]
  },
  {
   "cell_type": "code",
   "execution_count": null,
   "metadata": {},
   "outputs": [],
   "source": [
    "rgeddf = mergeddf.drop(['FLAG_OWN_CAR','FLAG_OWN_REALTY','FLAG_MOBIL',\n",
    " 'FLAG_EMP_PHONE','FLAG_WORK_PHONE','FLAG_CONT_MOBILE',\n",
    " 'FLAG_PHONE','FLAG_EMAIL','REGION_RATING_CLIENT',\n",
    " 'REGION_RATING_CLIENT_W_CITY','REG_REGION_NOT_LIVE_REGION',\n",
    "'REG_REGION_NOT_WORK_REGION','LIVE_REGION_NOT_WORK_REGION',\n",
    "'REG_CITY_NOT_LIVE_CITY','REG_CITY_NOT_WORK_CITY','FLAG_DOCUMENT_2',\n",
    " 'FLAG_DOCUMENT_3','FLAG_DOCUMENT_4','FLAG_DOCUMENT_5','FLAG_DOCUMENT_6',\n",
    " 'FLAG_DOCUMENT_7','FLAG_DOCUMENT_8','FLAG_DOCUMENT_9',\n",
    " 'FLAG_DOCUMENT_10','FLAG_DOCUMENT_11','FLAG_DOCUMENT_12','FLAG_DOCUMENT_13',\n",
    " 'FLAG_DOCUMENT_14','FLAG_DOCUMENT_15','FLAG_DOCUMENT_16','FLAG_DOCUMENT_17',\n",
    " 'FLAG_DOCUMENT_18','FLAG_DOCUMENT_19','FLAG_DOCUMENT_20','FLAG_DOCUMENT_21',\n",
    " 'NFLAG_INSURED_ON_APPROVAL','NAME_CONTRACT_TYPE_x','CODE_GENDER',\n",
    " 'NAME_TYPE_SUITE_x','NAME_INCOME_TYPE','NAME_EDUCATION_TYPE','NAME_FAMILY_STATUS',\n",
    " 'NAME_HOUSING_TYPE','WEEKDAY_APPR_PROCESS_START_x','ORGANIZATION_TYPE','NAME_CONTRACT_TYPE_y',\n",
    " 'WEEKDAY_APPR_PROCESS_START_y','NAME_CASH_LOAN_PURPOSE','NAME_CONTRACT_STATUS','NAME_PAYMENT_TYPE',\n",
    " 'CODE_REJECT_REASON','NAME_TYPE_SUITE_y','NAME_CLIENT_TYPE','NAME_GOODS_CATEGORY',\n",
    " 'NAME_PORTFOLIO','NAME_PRODUCT_TYPE','CHANNEL_TYPE','NAME_SELLER_INDUSTRY',\n",
    " 'NAME_YIELD_GROUP','PRODUCT_COMBINATION'], axis = 1)\n",
    "mergeddf.head()"
   ]
  },
  {
   "cell_type": "code",
   "execution_count": null,
   "metadata": {},
   "outputs": [],
   "source": [
    "mergeddf.shape"
   ]
  },
  {
   "cell_type": "code",
   "execution_count": null,
   "metadata": {},
   "outputs": [],
   "source": [
    "mergeddfs=mergeddf.sample(n = 7000)\n",
    "from sklearn.model_selection import train_test_split\n",
    "# Putting feature variable to X\n",
    "X = mergeddfs.drop(['TARGET'], axis=1)\n",
    "X.head()"
   ]
  },
  {
   "cell_type": "code",
   "execution_count": null,
   "metadata": {},
   "outputs": [],
   "source": [
    "X.shape"
   ]
  },
  {
   "cell_type": "code",
   "execution_count": null,
   "metadata": {},
   "outputs": [],
   "source": [
    "# Putting response variable to y\n",
    "y = mergeddfs['TARGET']\n",
    "y.head()\n"
   ]
  },
  {
   "cell_type": "code",
   "execution_count": null,
   "metadata": {},
   "outputs": [],
   "source": [
    "# Splitting the data into train and test\n",
    "X_train, X_test, y_train, y_test = train_test_split(X, y, train_size=0.7, random_state=70)\n",
    "X_train.head()"
   ]
  },
  {
   "cell_type": "code",
   "execution_count": null,
   "metadata": {},
   "outputs": [],
   "source": [
    "X_train.shape"
   ]
  },
  {
   "cell_type": "code",
   "execution_count": null,
   "metadata": {},
   "outputs": [],
   "source": [
    "X_test.head()"
   ]
  },
  {
   "cell_type": "code",
   "execution_count": null,
   "metadata": {},
   "outputs": [],
   "source": [
    "X_test.shape"
   ]
  },
  {
   "cell_type": "code",
   "execution_count": null,
   "metadata": {},
   "outputs": [],
   "source": [
    "y_train.head()"
   ]
  },
  {
   "cell_type": "code",
   "execution_count": null,
   "metadata": {},
   "outputs": [],
   "source": [
    "y_train.shape"
   ]
  },
  {
   "cell_type": "code",
   "execution_count": null,
   "metadata": {},
   "outputs": [],
   "source": [
    "y_test.head()"
   ]
  },
  {
   "cell_type": "code",
   "execution_count": null,
   "metadata": {},
   "outputs": [],
   "source": [
    "y_test.shape"
   ]
  },
  {
   "cell_type": "markdown",
   "metadata": {},
   "source": [
    "# Feature Scaling"
   ]
  },
  {
   "cell_type": "code",
   "execution_count": null,
   "metadata": {},
   "outputs": [],
   "source": [
    "from sklearn.preprocessing import StandardScaler\n",
    "scaler = StandardScaler()\n",
    "X_train[['CNT_CHILDREN','AMT_INCOME_TOTAL','AMT_CREDIT_x','AMT_ANNUITY_x',\n",
    " 'AMT_GOODS_PRICE_x','REGION_POPULATION_RELATIVE','DAYS_BIRTH',\n",
    " 'DAYS_EMPLOYED','DAYS_REGISTRATION','DAYS_ID_PUBLISH','CNT_FAM_MEMBERS',\n",
    " 'HOUR_APPR_PROCESS_START_x','LIVE_CITY_NOT_WORK_CITY','OBS_30_CNT_SOCIAL_CIRCLE',\n",
    " 'DEF_30_CNT_SOCIAL_CIRCLE','OBS_60_CNT_SOCIAL_CIRCLE','DEF_60_CNT_SOCIAL_CIRCLE',\n",
    " 'DAYS_LAST_PHONE_CHANGE','AMT_REQ_CREDIT_BUREAU_HOUR','AMT_REQ_CREDIT_BUREAU_DAY',\n",
    " 'AMT_REQ_CREDIT_BUREAU_WEEK','AMT_REQ_CREDIT_BUREAU_MON','AMT_REQ_CREDIT_BUREAU_QRT',\n",
    " 'AMT_REQ_CREDIT_BUREAU_YEAR','AMT_ANNUITY_y','AMT_APPLICATION','AMT_CREDIT_y',\n",
    " 'AMT_GOODS_PRICE_y','HOUR_APPR_PROCESS_START_y','FLAG_LAST_APPL_PER_CONTRACT',\n",
    " 'NFLAG_LAST_APPL_IN_DAY','DAYS_DECISION','SELLERPLACE_AREA','CNT_PAYMENT',\n",
    " 'DAYS_FIRST_DRAWING','DAYS_FIRST_DUE','DAYS_LAST_DUE_1ST_VERSION','DAYS_LAST_DUE',\n",
    " 'DAYS_TERMINATION']] = scaler.fit_transform(X_train[['CNT_CHILDREN','AMT_INCOME_TOTAL','AMT_CREDIT_x',\n",
    " 'AMT_ANNUITY_x','AMT_GOODS_PRICE_x','REGION_POPULATION_RELATIVE',\n",
    " 'DAYS_BIRTH','DAYS_EMPLOYED','DAYS_REGISTRATION','DAYS_ID_PUBLISH',\n",
    " 'CNT_FAM_MEMBERS','HOUR_APPR_PROCESS_START_x','LIVE_CITY_NOT_WORK_CITY',\n",
    " 'OBS_30_CNT_SOCIAL_CIRCLE','DEF_30_CNT_SOCIAL_CIRCLE','OBS_60_CNT_SOCIAL_\n",
    " 'DEF_60_CNT_SOCIAL_CIRCLE','DAYS_LAST_PHONE_CHANGE','AMT_REQ_CREDIT_BUREA\n",
    " 'AMT_REQ_CREDIT_BUREAU_DAY','AMT_REQ_CREDIT_BUREAU_WEEK','AMT_REQ_CREDIT_\n",
    " 'AMT_REQ_CREDIT_BUREAU_QRT','AMT_REQ_CREDIT_BUREAU_YEAR','AMT_ANNUITY_y',\n",
    " 'AMT_CREDIT_y','AMT_GOODS_PRICE_y','HOUR_APPR_PROCESS_START_y','FLAG_LAST\n",
    " 'NFLAG_LAST_APPL_IN_DAY','DAYS_DECISION','SELLERPLACE_AREA','CNT_PAYMENT'\n",
    " 'DAYS_FIRST_DUE','DAYS_LAST_DUE_1ST_VERSION','DAYS_LAST_DUE','DAYS_TERMIN']]\n",
    "X_train.head()"
   ]
  },
  {
   "cell_type": "code",
   "execution_count": null,
   "metadata": {},
   "outputs": [],
   "source": [
    "X_test[['CNT_CHILDREN','AMT_INCOME_TOTAL','AMT_CREDIT_x','AMT_ANNUITY_x',\n",
    " 'AMT_GOODS_PRICE_x','REGION_POPULATION_RELATIVE','DAYS_BIRTH',\n",
    " 'DAYS_EMPLOYED','DAYS_REGISTRATION','DAYS_ID_PUBLISH','CNT_FAM_MEMBERS',\n",
    " 'HOUR_APPR_PROCESS_START_x','LIVE_CITY_NOT_WORK_CITY','OBS_30_CNT_SOCIAL_CIRCLE',\n",
    " 'DEF_30_CNT_SOCIAL_CIRCLE','OBS_60_CNT_SOCIAL_CIRCLE','DEF_60_CNT_SOCIAL_CIRCLE',\n",
    " 'DAYS_LAST_PHONE_CHANGE','AMT_REQ_CREDIT_BUREAU_HOUR','AMT_REQ_CREDIT_BUREAU_DAY',\n",
    " 'AMT_REQ_CREDIT_BUREAU_WEEK','AMT_REQ_CREDIT_BUREAU_MON','AMT_REQ_CREDIT_BUREAU_QRT',\n",
    " 'AMT_REQ_CREDIT_BUREAU_YEAR','AMT_ANNUITY_y','AMT_APPLICATION','AMT_CREDIT_y',\n",
    " 'AMT_GOODS_PRICE_y','HOUR_APPR_PROCESS_START_y','FLAG_LAST_APPL_PER_CONTRACT',\n",
    " 'NFLAG_LAST_APPL_IN_DAY','DAYS_DECISION','SELLERPLACE_AREA','CNT_PAYMENT',\n",
    " 'DAYS_FIRST_DRAWING','DAYS_FIRST_DUE','DAYS_LAST_DUE_1ST_VERSION','DAYS_LAST_DUE',\n",
    " 'DAYS_TERMINATION']] = scaler.transform(X_test[['CNT_CHILDREN','AMT_INCOME_TOTAL','AMT_CREDIT_x',\n",
    "'AMT ANNUITY x','AMT GOODS PRICE x','REGION POPULATION RELATIAMT_ANNUITY_x , AMT_GOODS_PRICE_x , REGION_POPULATION_RELATIVE ,\n",
    " 'DAYS_BIRTH','DAYS_EMPLOYED','DAYS_REGISTRATION','DAYS_ID_PUBLISH',\n",
    " 'CNT_FAM_MEMBERS','HOUR_APPR_PROCESS_START_x','LIVE_CITY_NOT_WORK_CITY',\n",
    " 'OBS_30_CNT_SOCIAL_CIRCLE','DEF_30_CNT_SOCIAL_CIRCLE','OBS_60_CNT_SOCIAL_\n",
    " 'DEF_60_CNT_SOCIAL_CIRCLE','DAYS_LAST_PHONE_CHANGE','AMT_REQ_CREDIT_BUREA\n",
    " 'AMT_REQ_CREDIT_BUREAU_DAY','AMT_REQ_CREDIT_BUREAU_WEEK','AMT_REQ_CREDIT_\n",
    " 'AMT_REQ_CREDIT_BUREAU_QRT','AMT_REQ_CREDIT_BUREAU_YEAR','AMT_ANNUITY_y',\n",
    " 'AMT_CREDIT_y','AMT_GOODS_PRICE_y','HOUR_APPR_PROCESS_START_y','FLAG_LAST\n",
    " 'NFLAG_LAST_APPL_IN_DAY','DAYS_DECISION','SELLERPLACE_AREA','CNT_PAYMENT'\n",
    " 'DAYS_FIRST_DUE','DAYS_LAST_DUE_1ST_VERSION','DAYS_LAST_DUE','DAYS_TERMIN']]\n",
    "X_test.head()"
   ]
  },
  {
   "cell_type": "code",
   "execution_count": null,
   "metadata": {},
   "outputs": [],
   "source": [
    "# Checking the Converted Rate\n",
    "Target = round((sum(mergeddf['TARGET'])/len(mergeddf['TARGET'].index))*100,2)\n",
    "print(\"We have almost {} % Converted rate after successful data manipulation\".format(Target))"
   ]
  },
  {
   "cell_type": "markdown",
   "metadata": {},
   "source": [
    "# Model Building"
   ]
  },
  {
   "cell_type": "markdown",
   "metadata": {},
   "source": [
    "# Decision Tree"
   ]
  },
  {
   "cell_type": "code",
   "execution_count": null,
   "metadata": {},
   "outputs": [],
   "source": [
    "from sklearn.tree import DecisionTreeClassifier\n",
    "from sklearn.metrics import accuracy_score\n",
    "model = DecisionTreeClassifier()\n",
    "# fit the model with the training data\n",
    "model.fit(X_train,y_train)\n",
    "# predict the target on the train dataset\n",
    "predict_train = model.predict(X_train)\n",
    "trainaccuracy = accuracy_score(y_train,predict_train)\n",
    "print('accuracy_score on train dataset : ', trainaccuracy)"
   ]
  },
  {
   "cell_type": "markdown",
   "metadata": {},
   "source": [
    "# VIF"
   ]
  },
  {
   "cell_type": "code",
   "execution_count": null,
   "metadata": {},
   "outputs": [],
   "source": [
    "# Check for the VIF values of the feature variables. \n",
    "from statsmodels.stats.outliers_influence import variance_inflation_factor\n",
    "# Create a dataframe that will contain the names of all the feature variables and their respective VIFs\n",
    "vif = pd.DataFrame()\n",
    "vif['Features'] = X_train.columns\n",
    "vif['VIF'] = [variance_inflation_factor(X_train.values, i) for i in range(X_train.shape[1])]\n",
    "vif['VIF'] = round(vif['VIF'], 2)\n",
    "vif = vif.sort_values(by = \"VIF\", ascending = False)\n",
    "vif.tail()\n"
   ]
  },
  {
   "cell_type": "code",
   "execution_count": null,
   "metadata": {},
   "outputs": [],
   "source": [
    "features_to_remove = vif.loc[vif['VIF'] >= 4.99,'Features'].values\n",
    "features_to_remove = list(features_to_remove)\n",
    "print(features_to_remove)"
   ]
  },
  {
   "cell_type": "code",
   "execution_count": null,
   "metadata": {},
   "outputs": [],
   "source": [
    "X_train = X_train.drop(columns=features_to_remove, axis = 1)\n",
    "X_train.head()"
   ]
  },
  {
   "cell_type": "code",
   "execution_count": null,
   "metadata": {},
   "outputs": [],
   "source": [
    "X_test = X_test.drop(columns=features_to_remove, axis = 1)\n",
    "X_test.head()\n"
   ]
  },
  {
   "cell_type": "code",
   "execution_count": null,
   "metadata": {},
   "outputs": [],
   "source": [
    "# Check for the VIF values of the feature variables.\n",
    "from statsmodels.stats.outliers_influence import variance_inflation_factor\n",
    "# Create a dataframe that will contain the names of all the feature variables and their respective VIFs\n",
    "vif = pd.DataFrame()\n",
    "vif['Features'] = X_train.columns\n",
    "vif['VIF'] = [variance_inflation_factor(X_train.values, i) for i in range(X_train.shape[1])]\n",
    "vif['VIF'] = round(vif['VIF'], 2)\n",
    "vif = vif.sort_values(by = \"VIF\", ascending = False)\n",
    "vif"
   ]
  },
  {
   "cell_type": "code",
   "execution_count": null,
   "metadata": {},
   "outputs": [],
   "source": [
    "features_to_remove = vif.loc[vif['VIF'] >= 4.99,'Features'].values\n",
    "features_to_remove = list(features_to_remove)\n",
    "print(features_to_remove)\n"
   ]
  },
  {
   "cell_type": "code",
   "execution_count": null,
   "metadata": {},
   "outputs": [],
   "source": [
    "X_train = X_train.drop(columns=features_to_remove, axis = 1)\n",
    "X_train.head()"
   ]
  },
  {
   "cell_type": "code",
   "execution_count": null,
   "metadata": {},
   "outputs": [],
   "source": [
    "X_test = X_test.drop(columns=features_to_remove, axis = 1)\n",
    "X_test.head()"
   ]
  },
  {
   "cell_type": "code",
   "execution_count": null,
   "metadata": {},
   "outputs": [],
   "source": [
    "# Check for the VIF values of the feature variables.\n",
    "from statsmodels.stats.outliers_influence import variance_inflation_factor\n",
    "# Create a dataframe that will contain the names of all the feature variables and their respective VIFs\n",
    "vif = pd.DataFrame()\n",
    "vif['Features'] = X_train.columns\n",
    "vif['VIF'] = [variance_inflation_factor(X_train.values, i) for i in range(X_train.shape[1])]\n",
    "vif['VIF'] = round(vif['VIF'], 2)\n",
    "vif = vif.sort_values(by = \"VIF\", ascending = False)\n",
    "vif"
   ]
  },
  {
   "cell_type": "code",
   "execution_count": null,
   "metadata": {},
   "outputs": [],
   "source": [
    " #fit the model with the training data\n",
    "model.fit(X_train,y_train)"
   ]
  },
  {
   "cell_type": "code",
   "execution_count": null,
   "metadata": {},
   "outputs": [],
   "source": [
    "# predict the target on the train dataset\n",
    "predict_train = model.predict(X_train)\n",
    "predict_train"
   ]
  },
  {
   "cell_type": "code",
   "execution_count": null,
   "metadata": {},
   "outputs": [],
   "source": [
    "trainaccuracy = accuracy_score(y_train,predict_train)\n",
    "print('accuracy_score on train dataset : ', trainaccuracy)"
   ]
  },
  {
   "cell_type": "code",
   "execution_count": null,
   "metadata": {},
   "outputs": [],
   "source": [
    "from sklearn import metrics\n",
    "# Confusion matrix\n",
    "confusion = metrics.confusion_matrix(y_train, predict_train )\n",
    "print(confusion)"
   ]
  },
  {
   "cell_type": "code",
   "execution_count": null,
   "metadata": {},
   "outputs": [],
   "source": [
    "# Let's see the sensitivity of our model\n",
    "trainsensitivity= TP / float(TP+FN)\n",
    "trainsensitivity"
   ]
  },
  {
   "cell_type": "code",
   "execution_count": null,
   "metadata": {},
   "outputs": [],
   "source": [
    "# Let us calculate specificity\n",
    "trainspecificity= TN / float(TN+FP)\n",
    "trainspecificity"
   ]
  },
  {
   "cell_type": "code",
   "execution_count": null,
   "metadata": {},
   "outputs": [],
   "source": [
    "# Calculate false postive rate - predicting Defaulted when customer does not have Defaulted\n",
    "print(FP/ float(TN+FP))"
   ]
  },
  {
   "cell_type": "code",
   "execution_count": null,
   "metadata": {},
   "outputs": [],
   "source": [
    "# Positive predictive value\n",
    "print (TP / float(TP+FP))"
   ]
  },
  {
   "cell_type": "code",
   "execution_count": null,
   "metadata": {},
   "outputs": [],
   "source": [
    "# Negative predictive value\n",
    "print(TN / float(TN+ FN))"
   ]
  },
  {
   "cell_type": "markdown",
   "metadata": {},
   "source": [
    "# Plotting the ROC Curve"
   ]
  },
  {
   "cell_type": "code",
   "execution_count": null,
   "metadata": {},
   "outputs": [],
   "source": [
    "def draw_roc( actual, probs ):\n",
    " fpr, tpr, thresholds = metrics.roc_curve( actual, probs,\n",
    " drop_intermediate = False )\n",
    " auc_score = metrics.roc_auc_score( actual, probs )\n",
    " plt.figure(figsize=(5, 5))\n",
    " plt.plot( fpr, tpr, label='ROC curve (area = %0.2f)' % auc_score )\n",
    " plt.plot([0, 1], [0, 1], 'k--')\n",
    " plt.xlim([0.0, 1.0])\n",
    " plt.ylim([0.0, 1.05])\n",
    " plt.xlabel('False Positive Rate or [1 - True Negative Rate]')\n",
    " plt.ylabel('True Positive Rate')\n",
    " plt.title('Receiver operating characteristic example')\n",
    " plt.legend(loc=\"lower right\")\n",
    " plt.show()\n",
    " return None\n",
    "draw_roc(y_train,predict_train)"
   ]
  },
  {
   "cell_type": "markdown",
   "metadata": {},
   "source": [
    "# Precision and Recall\n"
   ]
  },
  {
   "cell_type": "code",
   "execution_count": null,
   "metadata": {},
   "outputs": [],
   "source": [
    "#Using sklearn utilities for the same\n",
    "from sklearn.metrics import precision_score, recall_score\n",
    "precision_score(y_train,predict_train)"
   ]
  },
  {
   "cell_type": "code",
   "execution_count": null,
   "metadata": {},
   "outputs": [],
   "source": [
    "recall_score(y_train,predict_train) "
   ]
  },
  {
   "cell_type": "markdown",
   "metadata": {},
   "source": [
    "# Making predictions on the test set"
   ]
  },
  {
   "cell_type": "code",
   "execution_count": null,
   "metadata": {},
   "outputs": [],
   "source": [
    "# predict the target on the test dataset\n",
    "predict_test = model.predict(X_test)\n",
    "print('Target on test data\\n\\n',predict_test)"
   ]
  },
  {
   "cell_type": "code",
   "execution_count": null,
   "metadata": {},
   "outputs": [],
   "source": [
    "confusion2 = metrics.confusion_matrix(y_test, predict_test )\n",
    "print(confusion2)"
   ]
  },
  {
   "cell_type": "code",
   "execution_count": null,
   "metadata": {},
   "outputs": [],
   "source": [
    "# Let's check the overall accuracy.\n",
    "testaccuracy= accuracy_score(y_test,predict_test)\n",
    "testaccuracy"
   ]
  },
  {
   "cell_type": "code",
   "execution_count": null,
   "metadata": {},
   "outputs": [],
   "source": [
    "# Let's see the sensitivity of our lmodel\n",
    "testsensitivity=TP / float(TP+FN)\n",
    "testsensitivity"
   ]
  },
  {
   "cell_type": "code",
   "execution_count": null,
   "metadata": {},
   "outputs": [],
   "source": [
    "# Let us calculate specificity\n",
    "testspecificity= TN / float(TN+FP)\n",
    "testspecificity"
   ]
  },
  {
   "cell_type": "markdown",
   "metadata": {},
   "source": [
    "# Final Observation:"
   ]
  },
  {
   "cell_type": "code",
   "execution_count": null,
   "metadata": {},
   "outputs": [],
   "source": [
    "# Let us compare the values obtained for Train & Test:\n",
    "print(\"Train Data Accuracy :{} %\".format(round((trainaccuracy*100),2)))\n",
    "print(\"Train Data Sensitivity :{} %\".format(round((trainsensitivity*100),2)))\n",
    "print(\"Train Data Specificity :{} %\".format(round((trainspecificity*100),2)))\n",
    "print(\"Test Data Accuracy :{} %\".format(round((testaccuracy*100),2)))\n",
    "print(\"Test Data Sensitivity :{} %\".format(round((testsensitivity*100),2)))\n",
    "print(\"Test Data Specificity :{} %\".format(round((testspecificity*100),2)))\n"
   ]
  },
  {
   "cell_type": "code",
   "execution_count": null,
   "metadata": {},
   "outputs": [],
   "source": []
  }
 ],
 "metadata": {
  "kernelspec": {
   "display_name": "Python 3",
   "language": "python",
   "name": "python3"
  },
  "language_info": {
   "codemirror_mode": {
    "name": "ipython",
    "version": 3
   },
   "file_extension": ".py",
   "mimetype": "text/x-python",
   "name": "python",
   "nbconvert_exporter": "python",
   "pygments_lexer": "ipython3",
   "version": "3.8.5"
  }
 },
 "nbformat": 4,
 "nbformat_minor": 4
}
