{
 "cells": [
  {
   "cell_type": "markdown",
   "metadata": {},
   "source": [
    "I have a dataset which has a feature for the crops.Here,I will try to use this data to create a model which tries to predict that which climatic and soil condition is useful to grow the particular crops which will help the farmers to adopt the modern farming and increase the productivity. I will use logistic regression(classification) algorithm and KMeans clustering algorithm."
   ]
  },
  {
   "cell_type": "markdown",
   "metadata": {},
   "source": [
    "#  Imports"
   ]
  },
  {
   "cell_type": "code",
   "execution_count": null,
   "metadata": {},
   "outputs": [],
   "source": [
    "#for manupulation\n",
    "import numpy as np\n",
    "import pandas as pd\n",
    "#for visualization\n",
    "import matplotlib.pyplot as plt\n",
    "import seaborn as sns\n",
    "#for interactive analysis\n",
    "from ipywidgets import interact"
   ]
  },
  {
   "cell_type": "markdown",
   "metadata": {},
   "source": [
    "# Data Importing"
   ]
  },
  {
   "cell_type": "code",
   "execution_count": null,
   "metadata": {},
   "outputs": [],
   "source": [
    "data=pd.read_csv(\"data.csv\")"
   ]
  },
  {
   "cell_type": "markdown",
   "metadata": {},
   "source": [
    "# Exploring the Dataset"
   ]
  },
  {
   "cell_type": "code",
   "execution_count": null,
   "metadata": {},
   "outputs": [],
   "source": [
    "print(\"shape of the datasets:\",data.shape)"
   ]
  },
  {
   "cell_type": "code",
   "execution_count": null,
   "metadata": {},
   "outputs": [],
   "source": [
    "#first 5 rows of data\n",
    "data.head()"
   ]
  },
  {
   "cell_type": "markdown",
   "metadata": {},
   "source": [
    "# Data Exploration"
   ]
  },
  {
   "cell_type": "code",
   "execution_count": null,
   "metadata": {},
   "outputs": [],
   "source": [
    "data.isnull().sum()"
   ]
  },
  {
   "cell_type": "code",
   "execution_count": null,
   "metadata": {},
   "outputs": [],
   "source": [
    "#to find the unique values in the column\n",
    "data['label'].value_counts()"
   ]
  },
  {
   "cell_type": "code",
   "execution_count": null,
   "metadata": {},
   "outputs": [],
   "source": [
    "#to find average climatic and soil condition\n",
    "print(\"average rate of nitrogen in the soil:\",data['N'].mean())\n",
    "print(\"average rate of phosphorus in the soil:\",data['P'].mean())\n",
    "print(\"average rate of potassium in the soil:\",data['K'].mean())\n",
    "print(\"average temperature in the soil:\",data['temperature'].mean())\n",
    "print(\"relative humidity is:\",data['humidity'].mean())\n",
    "print(\"average rate of ph of soil:\",data['ph'].mean())\n",
    "print(\"average rate of rainfall is soil:\",data['rainfall'].mean())"
   ]
  },
  {
   "cell_type": "code",
   "execution_count": null,
   "metadata": {},
   "outputs": [],
   "source": [
    "#lets check a summary of all crops\n",
    "@interact\n",
    "def summary(crops = list(data['label'].value_counts().index)):\n",
    "    x = data[data['label']== crops]\n",
    "    print(\"----------------------------------------------------------\")\n",
    "    print(\"statistics for nitrogen\")\n",
    "    print(\"minimum nitrogen required:\",x['N'].min())\n",
    "    print(\"average nitrogen required:\",x['N'].mean())\n",
    "    print(\"maximum nitrogen required:\",x['N'].max())\n",
    "    print(\"----------------------------------------------------------\")\n",
    "    print(\"statistics for phosphorus\")\n",
    "    print(\"minimum phosphorus required:\",x['P'].min())\n",
    "    print(\"average phosphorus required:\",x['P'].mean())\n",
    "    print(\"maximum phosphorus required:\",x['P'].max())\n",
    "    print(\"-----------------------------------------------------------\")\n",
    "    print(\"statistics for potassium\")\n",
    "    print(\"minimum potassium required:\",x['K'].min())\n",
    "    print(\"averrage potassium required:\",x['K'].mean())\n",
    "    print(\"maximum potassium required:\",x['K'].max())\n",
    "    print(\"------------------------------------------------------------\")\n",
    "    print(\"statistics for temperature\")\n",
    "    print(\"minimum nitrogen required:\",x['temperature'].min())\n",
    "    print(\"average nitrogen required:\",x['temperature'].mean())\n",
    "    print(\"maximum nitrogen required:\",x['temperature'].max())\n",
    "    print(\"-------------------------------------------------------------\")\n",
    "    print(\"statistics for humidity\")\n",
    "    print(\"minimum humidity required:\",x['humidity'].min())\n",
    "    print(\"average humidity required:\",x['humidity'].mean())\n",
    "    print(\"maximum humidity required:\",x['humidity'].max())\n",
    "    print(\"-------------------------------------------------------------\")\n",
    "    print(\"statistics for ph\")\n",
    "    print(\"minimum ph required:\",x['ph'].min())\n",
    "    print(\"average ph required:\",x['ph'].mean())\n",
    "    print(\"maximum ph required:\",x['ph'].max())\n",
    "    print(\"--------------------------------------------------------------\")\n",
    "    print(\"statistics for rainfall\")\n",
    "    print(\"minimum rainfall required:\",x['rainfall'].min())\n",
    "    print(\"average rainfall required:\",x['rainfall'].mean())\n",
    "    print(\"maximum rainfall required:\",x['rainfall'].max())\n",
    "    "
   ]
  },
  {
   "cell_type": "code",
   "execution_count": null,
   "metadata": {},
   "outputs": [],
   "source": [
    "#lets check the summary of each crops\n",
    "@interact\n",
    "def compare(conditions =['N','P','K','temperature','ph','humidity','rainfall']):\n",
    "    print(\"average value for\",conditions,\"is\",data[conditions].mean())\n",
    "    print(\"Rice:\",data[(data['label']=='rice')][conditions].mean())\n",
    "    print(\"Black gram:\",data[(data['label']=='blackgram')][conditions].mean())\n",
    "    print(\"Banana:\",data[(data['label']=='banana')][conditions].mean())\n",
    "    print(\"Jute:\",data[(data['label']=='jute')][conditions].mean())\n",
    "    print(\"Coconut:\",data[(data['label']=='coconut')][conditions].mean())\n",
    "    print(\"Apple:\",data[(data['label']=='apple')][conditions].mean())\n",
    "    print(\"Papaya:\",data[(data['label']=='papaya')][conditions].mean())\n",
    "    print(\"Musk melon:\",data[(data['label']=='muskmelon')][conditions].mean())\n",
    "    print(\"Grape:\",data[(data['label']=='grapes')][conditions].mean())\n",
    "    print(\"Watermelon:\",data[(data['label']=='watermelon')][conditions].mean())\n",
    "    print(\"Kidneybeans:\",data[(data['label']=='kidneybeans')][conditions].mean())\n",
    "    print(\"Mothbeans:\",data[(data['label']=='mothbeans')][conditions].mean())\n",
    "    print(\"Orange:\",data[(data['label']=='orange')][conditions].mean())\n",
    "    print(\"Lentil:\",data[(data['label']=='lentil  ')][conditions].mean())\n",
    "    print(\"Coffee:\",data[(data['label']=='coffee')][conditions].mean())\n",
    "    print(\"Mungbean:\",data[(data['label']=='mungbean')][conditions].mean())\n",
    "    print(\"Pomegranate:\",data[(data['label']=='pomegranate')][conditions].mean())\n",
    "    print(\"Chickpea:\",data[(data['label']=='chickpea')][conditions].mean())\n",
    "    print(\"Cotton\",data[(data['label']=='cotton')][conditions].mean())\n",
    "    print(\"Pigeonpeas:\",data[(data['label']=='pigeonpeas')][conditions].mean())\n",
    "    "
   ]
  },
  {
   "cell_type": "code",
   "execution_count": null,
   "metadata": {},
   "outputs": [],
   "source": [
    "@interact\n",
    "def compare(conditions=['N','P','K','temperature','ph','humidity','rainfall']):\n",
    "    print(\"Crops which require greater than average\",conditions,'\\n')\n",
    "    print(data[data[conditions] > data[conditions].mean()]['label'].unique())\n",
    "    print(\"-------------------------------------------------------------------\")\n",
    "    print(\"Crops which require less than average\",conditions,'\\n')\n",
    "    print(data[data[conditions] < data[conditions].mean()]['label'].unique())\n",
    "    "
   ]
  },
  {
   "cell_type": "code",
   "execution_count": null,
   "metadata": {},
   "outputs": [],
   "source": [
    "#visualization\n",
    "plt.figure(figsize=(22,15))\n",
    "plt.subplot(2,4,1)\n",
    "sns.distplot(data['N'],color='red')\n",
    "plt.xlabel('ratio of nitrogen',fontsize=12)\n",
    "plt.grid()\n",
    "\n",
    "plt.subplot(2,4,2)\n",
    "sns.distplot(data['P'],color='pink')\n",
    "plt.xlabel('ratio of phosphorus',fontsize=12)\n",
    "plt.grid()\n",
    "\n",
    "plt.subplot(2,4,3)\n",
    "sns.distplot(data['K'],color='darkblue')\n",
    "plt.xlabel('ratio of potassium',fontsize=12)\n",
    "plt.grid()\n",
    "\n",
    "plt.subplot(2,4,4)\n",
    "sns.distplot(data['temperature'],color='black')\n",
    "plt.xlabel('temperature',fontsize=12)\n",
    "plt.grid()\n",
    "\n",
    "plt.subplot(2,4,5)\n",
    "sns.distplot(data['rainfall'],color='grey')\n",
    "plt.xlabel('rainfall',fontsize=12)\n",
    "plt.grid()\n",
    "\n",
    "plt.subplot(2,4,6)\n",
    "sns.distplot(data['humidity'],color='lightgreen')\n",
    "plt.xlabel('humidity',fontsize=12)\n",
    "plt.grid()\n",
    "\n",
    "plt.subplot(2,4,7)\n",
    "sns.distplot(data['ph'],color='darkgreen')\n",
    "plt.xlabel('ph level',fontsize=12)\n",
    "plt.grid()\n",
    "\n",
    "\n",
    "\n",
    "plt.suptitle(\"distribution for agriculture condition\",fontsize=20)\n",
    "plt.show()"
   ]
  },
  {
   "cell_type": "code",
   "execution_count": null,
   "metadata": {},
   "outputs": [],
   "source": [
    "print(\"some interesting patterns\")\n",
    "print(\"-----------------------------------------\")\n",
    "print(\"crops which required very high ratio of nitrogen content in soil:\",data[data['N']>120]['label'].unique())\n",
    "print(\"crops which required very high ratio of phosphorus content in soil:\",data[data['P']>120]['label'].unique())\n",
    "print(\"crops which required very high ratio of potassium content in soil:\",data[data['K']>120]['label'].unique())\n",
    "print(\"crops which required high rainfall:\",data[data['rainfall']>200]['label'].unique())\n",
    "print(\"crops which required very high temperature:\",data[data['temperature']>40]['label'].unique())\n",
    "print(\"crops which required very low temperature:\",data[data['temperature']<10]['label'].unique())\n",
    "print(\"crops which required very low humidity:\",data[data['humidity']<20]['label'].unique())\n",
    "print(\"crops which required very low ph:\",data[data['ph']<4]['label'].unique())\n",
    "print(\"crops which required very high ph:\",data[data['ph']>9]['label'].unique())"
   ]
  },
  {
   "cell_type": "code",
   "execution_count": null,
   "metadata": {},
   "outputs": [],
   "source": [
    "print(\"summer crops\")\n",
    "print(data[(data['temperature']>30) & (data['humidity']>50)]['label'].unique())\n",
    "print(\"------------------------------------------------------------------------\")\n",
    "print(\"winter cropS\")\n",
    "print(data[(data['temperature']<20) & (data['humidity']>30)]['label'].unique())\n",
    "print(\"------------------------------------------------------------------------\")\n",
    "print(\"rainy cropS\")\n",
    "print(data[(data['rainfall']>200) & (data['humidity']>20)]['label'].unique())"
   ]
  },
  {
   "cell_type": "markdown",
   "metadata": {},
   "source": [
    "# KMeans Clustering Algorithm"
   ]
  },
  {
   "cell_type": "code",
   "execution_count": null,
   "metadata": {},
   "outputs": [],
   "source": [
    "from sklearn.cluster import KMeans\n",
    "x=data.drop(['label'],axis=1)\n",
    "x=x.values\n",
    "print(x.shape)"
   ]
  },
  {
   "cell_type": "code",
   "execution_count": null,
   "metadata": {},
   "outputs": [],
   "source": [
    "plt.rcParams['figure.figsize']=(10,4)\n",
    "wcss=[]\n",
    "for i in range(1,11):\n",
    "    km=KMeans(n_clusters=i,init='k-means++',max_iter=300,n_init=10,random_state=0)\n",
    "    km.fit(x)\n",
    "    wcss.append(km.inertia_)\n",
    "    \n",
    "plt.plot(range(1,11),wcss)\n",
    "plt.title(\"the elbow method\",fontsize=20)\n",
    "plt.xlabel(\"no. of clusters\")\n",
    "plt.ylabel(\"wcss\")\n",
    "plt.show()"
   ]
  },
  {
   "cell_type": "code",
   "execution_count": null,
   "metadata": {},
   "outputs": [],
   "source": [
    "km=KMeans(n_clusters=4,init='k-means++',max_iter=300,n_init=10,random_state=0)\n",
    "y_means=km.fit_predict(x)\n",
    "\n",
    "a=data['label']\n",
    "y_means=pd.DataFrame(y_means)\n",
    "z=pd.concat([y_means,a],axis=1)\n",
    "z=z.rename(columns={0:'cluster'})\n",
    "print(\"lets check the result after applying the k means clustring analysis\\n\")\n",
    "print(\"crops in first cluster:\",z[z['cluster']==0]['label'].unique())\n",
    "print(\"crops in second cluster:\",z[z['cluster']==1]['label'].unique())\n",
    "print(\"crops in third cluster:\",z[z['cluster']==2]['label'].unique())\n",
    "print(\"crops in fourth cluster:\",z[z['cluster']==3]['label'].unique())"
   ]
  },
  {
   "cell_type": "markdown",
   "metadata": {},
   "source": [
    "# Creating Model"
   ]
  },
  {
   "cell_type": "code",
   "execution_count": null,
   "metadata": {},
   "outputs": [],
   "source": [
    "y=data['label']\n",
    "x=data.drop(['label'],axis=1)\n",
    "print(\"shape of x:\",x.shape)\n",
    "print(\"shape of y:\",y.shape)"
   ]
  },
  {
   "cell_type": "markdown",
   "metadata": {},
   "source": [
    "I will split our data. 80% of data will be train data and 20% of it will be test data."
   ]
  },
  {
   "cell_type": "code",
   "execution_count": null,
   "metadata": {},
   "outputs": [],
   "source": [
    "from sklearn.model_selection import train_test_split\n",
    "\n",
    "x_train,x_test,y_train,y_test=train_test_split(x,y,test_size=0.2,random_state=0)\n",
    "print(\"shape of x train:\",x_train.shape)\n",
    "print(\"shape of x test:\",x_test.shape)\n",
    "print(\"shape of y train:\",y_train.shape)\n",
    "print(\"shape of y test:\",y_test.shape)"
   ]
  },
  {
   "cell_type": "markdown",
   "metadata": {},
   "source": [
    "# Logistic Regression"
   ]
  },
  {
   "cell_type": "code",
   "execution_count": null,
   "metadata": {},
   "outputs": [],
   "source": [
    "from sklearn.linear_model import LogisticRegression\n",
    "\n",
    "model=LogisticRegression()\n",
    "model.fit(x_train,y_train)\n",
    "y_pred=model.predict(x_test)"
   ]
  },
  {
   "cell_type": "markdown",
   "metadata": {},
   "source": [
    "# Confusion Matrix "
   ]
  },
  {
   "cell_type": "code",
   "execution_count": null,
   "metadata": {},
   "outputs": [],
   "source": [
    "from sklearn.metrics import confusion_matrix\n",
    "\n",
    "plt.rcParams['figure.figsize']=(10,10)\n",
    "cm=confusion_matrix(y_test,y_pred)\n",
    "sns.heatmap(cm,annot=True,cmap='Accent')\n",
    "plt.title(\"confusion matrix for logistic regression\",fontsize=11)\n",
    "plt.show()"
   ]
  },
  {
   "cell_type": "markdown",
   "metadata": {},
   "source": [
    "# Classification Report "
   ]
  },
  {
   "cell_type": "code",
   "execution_count": null,
   "metadata": {},
   "outputs": [],
   "source": [
    "from sklearn.metrics import classification_report\n",
    "cr = classification_report(y_test,y_pred)\n",
    "print(cr)"
   ]
  },
  {
   "cell_type": "code",
   "execution_count": null,
   "metadata": {},
   "outputs": [],
   "source": [
    "data.head()"
   ]
  },
  {
   "cell_type": "code",
   "execution_count": null,
   "metadata": {},
   "outputs": [],
   "source": [
    "prediction=model.predict((np.array([[90,\n",
    "                                    40,\n",
    "                                    40,\n",
    "                                    20,\n",
    "                                    80,\n",
    "                                    7,\n",
    "                                    200]])))\n",
    "print(\"suggest the crop for given climatic condition is : \",prediction)"
   ]
  },
  {
   "cell_type": "code",
   "execution_count": null,
   "metadata": {},
   "outputs": [],
   "source": []
  }
 ],
 "metadata": {
  "kernelspec": {
   "display_name": "Python 3",
   "language": "python",
   "name": "python3"
  },
  "language_info": {
   "codemirror_mode": {
    "name": "ipython",
    "version": 3
   },
   "file_extension": ".py",
   "mimetype": "text/x-python",
   "name": "python",
   "nbconvert_exporter": "python",
   "pygments_lexer": "ipython3",
   "version": "3.8.5"
  }
 },
 "nbformat": 4,
 "nbformat_minor": 4
}
